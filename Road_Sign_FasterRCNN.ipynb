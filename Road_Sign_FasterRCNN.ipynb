{
  "cells": [
    {
      "cell_type": "markdown",
      "metadata": {
        "id": "view-in-github",
        "colab_type": "text"
      },
      "source": [
        "<a href=\"https://colab.research.google.com/github/gokcergun/Code_examples/blob/main/Road_Sign_FasterRCNN.ipynb\" target=\"_parent\"><img src=\"https://colab.research.google.com/assets/colab-badge.svg\" alt=\"Open In Colab\"/></a>"
      ]
    },
    {
      "cell_type": "markdown",
      "metadata": {
        "id": "5ukrA6bbDnPa"
      },
      "source": [
        "For Faster RCNN we will use MMDetection implmentation.\n",
        "<a href=\"https://github.com/open-mmlab/mmdetection\">MMDetection</a> is an open source object detection toolbox based on PyTorch. It is a part of <a href=\"https://openmmlab.com\">OpenMMLab</a> consists of more than 100 pre-trained models to use for fine-tuning for object detection and instance segmentation tasks. "
      ]
    },
    {
      "cell_type": "markdown",
      "metadata": {
        "id": "_5bAWj65EjZO"
      },
      "source": [
        "# 1. Set-up\n"
      ]
    },
    {
      "cell_type": "markdown",
      "metadata": {
        "id": "DxSy1nU7E_TR"
      },
      "source": [
        "### Connect GoogleDrive\n",
        "Data_path: \"/content/drive/MyDrive/Datasets/data_sign_coco\""
      ]
    },
    {
      "cell_type": "code",
      "execution_count": 1,
      "metadata": {
        "colab": {
          "base_uri": "https://localhost:8080/"
        },
        "id": "xXH7rpuOGtrX",
        "outputId": "6d37eea7-a3ec-466b-c8c1-d91a7e87a523"
      },
      "outputs": [
        {
          "output_type": "stream",
          "name": "stdout",
          "text": [
            "Drive already mounted at /content/drive/; to attempt to forcibly remount, call drive.mount(\"/content/drive/\", force_remount=True).\n"
          ]
        }
      ],
      "source": [
        "from google.colab import drive\n",
        "drive.mount('/content/drive/')"
      ]
    },
    {
      "cell_type": "markdown",
      "metadata": {
        "id": "1tmnkduDGun7"
      },
      "source": [
        "### Install MMDetection"
      ]
    },
    {
      "cell_type": "code",
      "execution_count": 2,
      "metadata": {
        "colab": {
          "base_uri": "https://localhost:8080/"
        },
        "id": "V3BcXYASD9dO",
        "outputId": "7890b8cc-42e1-46d9-b883-b488a7494fc1"
      },
      "outputs": [
        {
          "output_type": "stream",
          "name": "stdout",
          "text": [
            "nvcc: NVIDIA (R) Cuda compiler driver\n",
            "Copyright (c) 2005-2020 NVIDIA Corporation\n",
            "Built on Mon_Oct_12_20:09:46_PDT_2020\n",
            "Cuda compilation tools, release 11.1, V11.1.105\n",
            "Build cuda_11.1.TC455_06.29190527_0\n",
            "gcc (Ubuntu 7.5.0-3ubuntu1~18.04) 7.5.0\n",
            "Copyright (C) 2017 Free Software Foundation, Inc.\n",
            "This is free software; see the source for copying conditions.  There is NO\n",
            "warranty; not even for MERCHANTABILITY or FITNESS FOR A PARTICULAR PURPOSE.\n",
            "\n"
          ]
        }
      ],
      "source": [
        "# Check GPU setting of GoogleColabs\n",
        "# Check nvcc version\n",
        "!nvcc -V\n",
        "# Check GCC version\n",
        "!gcc --version"
      ]
    },
    {
      "cell_type": "code",
      "execution_count": 3,
      "metadata": {
        "colab": {
          "base_uri": "https://localhost:8080/"
        },
        "id": "fY-Z3eH_E1pz",
        "outputId": "5e92379f-14a3-422e-ff62-512de2779c1d"
      },
      "outputs": [
        {
          "output_type": "stream",
          "name": "stdout",
          "text": [
            "Looking in links: https://download.pytorch.org/whl/torch_stable.html\n",
            "Requirement already satisfied: torch==1.5.1+cu101 in /usr/local/lib/python3.7/dist-packages (1.5.1+cu101)\n",
            "Requirement already satisfied: torchvision==0.6.1+cu101 in /usr/local/lib/python3.7/dist-packages (0.6.1+cu101)\n",
            "Requirement already satisfied: future in /usr/local/lib/python3.7/dist-packages (from torch==1.5.1+cu101) (0.16.0)\n",
            "Requirement already satisfied: numpy in /usr/local/lib/python3.7/dist-packages (from torch==1.5.1+cu101) (1.19.5)\n",
            "Requirement already satisfied: pillow>=4.1.1 in /usr/local/lib/python3.7/dist-packages (from torchvision==0.6.1+cu101) (7.0.0)\n",
            "Requirement already satisfied: mmcv-full in /usr/local/lib/python3.7/dist-packages (1.4.3)\n",
            "Requirement already satisfied: Pillow in /usr/local/lib/python3.7/dist-packages (from mmcv-full) (7.0.0)\n",
            "Requirement already satisfied: pyyaml in /usr/local/lib/python3.7/dist-packages (from mmcv-full) (3.13)\n",
            "Requirement already satisfied: addict in /usr/local/lib/python3.7/dist-packages (from mmcv-full) (2.4.0)\n",
            "Requirement already satisfied: numpy in /usr/local/lib/python3.7/dist-packages (from mmcv-full) (1.19.5)\n",
            "Requirement already satisfied: yapf in /usr/local/lib/python3.7/dist-packages (from mmcv-full) (0.32.0)\n",
            "Requirement already satisfied: packaging in /usr/local/lib/python3.7/dist-packages (from mmcv-full) (21.3)\n",
            "Requirement already satisfied: pyparsing!=3.0.5,>=2.0.2 in /usr/local/lib/python3.7/dist-packages (from packaging->mmcv-full) (3.0.6)\n",
            "Cloning into 'mmdetection'...\n",
            "remote: Enumerating objects: 22609, done.\u001b[K\n",
            "remote: Total 22609 (delta 0), reused 0 (delta 0), pack-reused 22609\u001b[K\n",
            "Receiving objects: 100% (22609/22609), 25.57 MiB | 13.99 MiB/s, done.\n",
            "Resolving deltas: 100% (15830/15830), done.\n",
            "/content/mmdetection\n",
            "Obtaining file:///content/mmdetection\n",
            "Requirement already satisfied: matplotlib in /usr/local/lib/python3.7/dist-packages (from mmdet==2.20.0) (3.2.2)\n",
            "Requirement already satisfied: numpy in /usr/local/lib/python3.7/dist-packages (from mmdet==2.20.0) (1.19.5)\n",
            "Requirement already satisfied: pycocotools in /usr/local/lib/python3.7/dist-packages (from mmdet==2.20.0) (2.0.4)\n",
            "Requirement already satisfied: six in /usr/local/lib/python3.7/dist-packages (from mmdet==2.20.0) (1.15.0)\n",
            "Requirement already satisfied: terminaltables in /usr/local/lib/python3.7/dist-packages (from mmdet==2.20.0) (3.1.10)\n",
            "Requirement already satisfied: python-dateutil>=2.1 in /usr/local/lib/python3.7/dist-packages (from matplotlib->mmdet==2.20.0) (2.8.2)\n",
            "Requirement already satisfied: pyparsing!=2.0.4,!=2.1.2,!=2.1.6,>=2.0.1 in /usr/local/lib/python3.7/dist-packages (from matplotlib->mmdet==2.20.0) (3.0.6)\n",
            "Requirement already satisfied: kiwisolver>=1.0.1 in /usr/local/lib/python3.7/dist-packages (from matplotlib->mmdet==2.20.0) (1.3.2)\n",
            "Requirement already satisfied: cycler>=0.10 in /usr/local/lib/python3.7/dist-packages (from matplotlib->mmdet==2.20.0) (0.11.0)\n",
            "Installing collected packages: mmdet\n",
            "  Running setup.py develop for mmdet\n",
            "Successfully installed mmdet-2.20.0\n",
            "Requirement already satisfied: Pillow==7.0.0 in /usr/local/lib/python3.7/dist-packages (7.0.0)\n"
          ]
        }
      ],
      "source": [
        "# install dependencies: (use cu101 because colab has CUDA 10.1)\n",
        "!pip install -U torch==1.5.1+cu101 torchvision==0.6.1+cu101 -f https://download.pytorch.org/whl/torch_stable.html\n",
        "\n",
        "# install mmcv-full thus we could use CUDA operators\n",
        "!pip install mmcv-full\n",
        "\n",
        "# Install mmdetection\n",
        "!rm -rf mmdetection\n",
        "!git clone https://github.com/open-mmlab/mmdetection.git\n",
        "%cd mmdetection\n",
        "\n",
        "!pip install -e .\n",
        "\n",
        "# install Pillow 7.0.0 back in order to avoid bug in colab\n",
        "!pip install Pillow==7.0.0"
      ]
    },
    {
      "cell_type": "code",
      "execution_count": 4,
      "metadata": {
        "colab": {
          "base_uri": "https://localhost:8080/"
        },
        "id": "YTI_s_PKE2sb",
        "outputId": "bf4d5068-7bfd-477c-d3bf-cb9e319902ef"
      },
      "outputs": [
        {
          "output_type": "stream",
          "name": "stdout",
          "text": [
            "1.5.1+cu101 True\n",
            "2.20.0\n",
            "11.1\n",
            "GCC 7.5\n"
          ]
        }
      ],
      "source": [
        "# Check Pytorch installation\n",
        "import torch, torchvision\n",
        "print(torch.__version__, torch.cuda.is_available())\n",
        "\n",
        "# Check MMDetection installation\n",
        "import mmdet\n",
        "print(mmdet.__version__)\n",
        "\n",
        "# Check mmcv installation\n",
        "from mmcv.ops import get_compiling_cuda_version, get_compiler_version\n",
        "print(get_compiling_cuda_version())\n",
        "print(get_compiler_version())"
      ]
    },
    {
      "cell_type": "code",
      "execution_count": 5,
      "metadata": {
        "colab": {
          "base_uri": "https://localhost:8080/"
        },
        "id": "IlOoRt17PyeX",
        "outputId": "01596b8a-a20e-4931-9432-2572b4d13947"
      },
      "outputs": [
        {
          "output_type": "stream",
          "name": "stdout",
          "text": [
            "1.5.1+cu101 True\n",
            "2.20.0\n",
            "11.1\n",
            "GCC 7.5\n"
          ]
        }
      ],
      "source": [
        "# Check Pytorch installation\n",
        "import torch, torchvision\n",
        "print(torch.__version__, torch.cuda.is_available())\n",
        "\n",
        "# Check MMDetection installation\n",
        "import mmdet\n",
        "print(mmdet.__version__)\n",
        "\n",
        "# Check mmcv installation\n",
        "from mmcv.ops import get_compiling_cuda_version, get_compiler_version\n",
        "print(get_compiling_cuda_version())\n",
        "print(get_compiler_version())"
      ]
    },
    {
      "cell_type": "markdown",
      "metadata": {
        "id": "gxI6rck3QKtX"
      },
      "source": [
        "## Data Format\n",
        "MMDetection library requires the annotations as json files in COCO format with the following necessary keys:\n",
        "```\n",
        "'images': [\n",
        "    {\n",
        "        'file_name': 'COCO_val2014_000000001268.jpg',\n",
        "        'height': 427,\n",
        "        'width': 640,\n",
        "        'id': 1268\n",
        "    },\n",
        "    ...\n",
        "],\n",
        "\n",
        "'annotations': [\n",
        "    {\n",
        "        'segmentation': [[192.81,\n",
        "            247.09,\n",
        "            ...\n",
        "            219.03,\n",
        "            249.06]],  # if you have mask labels\n",
        "        'area': 1035.749,\n",
        "        'iscrowd': 0,\n",
        "        'image_id': 1268,\n",
        "        'bbox': [192.81, 224.8, 74.73, 33.43],\n",
        "        'category_id': 16,\n",
        "        'id': 42986\n",
        "    },\n",
        "    ...\n",
        "],\n",
        "\n",
        "'categories': [\n",
        "    {'id': 0, 'name': 'car'},\n",
        " ]\n",
        "```\n",
        "\n",
        "\n"
      ]
    },
    {
      "cell_type": "markdown",
      "metadata": {
        "id": "0Xy256IZSLt6"
      },
      "source": [
        "## RoadSignDataset  \n",
        "We first converted our dataset to COCO format using <a href=https://roboflow.com/formats/coco-json>Roboflow</a>. We used the same train, test, validation split that was used in Yolov5 model. \n",
        "\n",
        "We have train, test, validation folders. Each involves the images in jpg format and a json file for annotations. "
      ]
    },
    {
      "cell_type": "code",
      "execution_count": 6,
      "metadata": {
        "colab": {
          "base_uri": "https://localhost:8080/"
        },
        "id": "a5iCD3UwUiqC",
        "outputId": "3687c0cf-4203-40ad-dc0f-95e75c34a036"
      },
      "outputs": [
        {
          "output_type": "execute_result",
          "data": {
            "text/plain": [
              "['results_fasterrcnn',\n",
              " 'results_old',\n",
              " 'annotations',\n",
              " 'test_data',\n",
              " 'train_data',\n",
              " 'val_data']"
            ]
          },
          "metadata": {},
          "execution_count": 6
        }
      ],
      "source": [
        "import os \n",
        "os.listdir(\"/content/drive/MyDrive/Datasets/data_sign_coco\")"
      ]
    },
    {
      "cell_type": "code",
      "execution_count": 7,
      "metadata": {
        "id": "DmnPElFoQJ2i"
      },
      "outputs": [],
      "source": [
        "# read json file within train folder\n",
        "import json\n",
        "#read json files\n",
        "open_file = open(\"/content/drive/MyDrive/Datasets/data_sign_coco/annotations/instances_train.json\")\n",
        "annotations_train = json.load(open_file)\n",
        "open_file.close()"
      ]
    },
    {
      "cell_type": "code",
      "execution_count": 8,
      "metadata": {
        "colab": {
          "base_uri": "https://localhost:8080/"
        },
        "id": "RHGvdq1pWtOA",
        "outputId": "339b4d43-ee07-40f5-867e-805d71c3a455"
      },
      "outputs": [
        {
          "output_type": "stream",
          "name": "stdout",
          "text": [
            "annotation keys: dict_keys(['info', 'licenses', 'categories', 'images', 'annotations'])\n",
            "images example: {'id': 0, 'license': 1, 'file_name': 'road376_png.rf.5a4e06e629169a0a8f300240e7a54d1d.jpg', 'height': 416, 'width': 416, 'date_captured': '2022-01-08T00:16:02+00:00'}\n",
            "annotations example: {'id': 0, 'image_id': 0, 'category_id': 2, 'bbox': [54, 201, 134.5, 100], 'area': 13450, 'segmentation': [], 'iscrowd': 0}\n",
            "categories example: [{'id': 0, 'name': 'road-signs', 'supercategory': 'none'}, {'id': 1, 'name': 'crosswalk', 'supercategory': 'road-signs'}, {'id': 2, 'name': 'speedlimit', 'supercategory': 'road-signs'}, {'id': 3, 'name': 'stop', 'supercategory': 'road-signs'}, {'id': 4, 'name': 'trafficlight', 'supercategory': 'road-signs'}]\n"
          ]
        }
      ],
      "source": [
        "print(\"annotation keys:\", annotations_train.keys())\n",
        "print(\"images example:\", annotations_train[\"images\"][0])\n",
        "print(\"annotations example:\", annotations_train[\"annotations\"][0])\n",
        "print(\"categories example:\", annotations_train[\"categories\"])"
      ]
    },
    {
      "cell_type": "markdown",
      "metadata": {
        "id": "ziluaWTbXKX7"
      },
      "source": [
        "## Modify Config\n",
        "In the next step, we need to modify the config for the training. To accelerate the process, we finetune a detector using a pre-trained detector."
      ]
    },
    {
      "cell_type": "code",
      "execution_count": 10,
      "metadata": {
        "colab": {
          "base_uri": "https://localhost:8080/",
          "height": 35
        },
        "id": "Ae1zPDl0XTfg",
        "outputId": "a1943d6a-724c-411b-b766-d8ab5beb1bc7"
      },
      "outputs": [
        {
          "output_type": "execute_result",
          "data": {
            "application/vnd.google.colaboratory.intrinsic+json": {
              "type": "string"
            },
            "text/plain": [
              "'/content/mmdetection'"
            ]
          },
          "metadata": {},
          "execution_count": 10
        }
      ],
      "source": [
        "# get current working directory \n",
        "os.getcwd()"
      ]
    },
    {
      "cell_type": "markdown",
      "source": [
        "We will use faster_rcnn_r50_fpn_1x_coco implementation of Faster RCNN in the implementation library of mmdetection. We will load its config file and make the required changes to use it with a custom dataset. "
      ],
      "metadata": {
        "id": "T5kloE_GMVIP"
      }
    },
    {
      "cell_type": "code",
      "execution_count": 11,
      "metadata": {
        "id": "hamZrlnH-YDD"
      },
      "outputs": [],
      "source": [
        "\n",
        "from mmcv import Config\n",
        "cfg= Config.fromfile('./configs/faster_rcnn/faster_rcnn_r50_fpn_1x_coco.py')"
      ]
    },
    {
      "cell_type": "code",
      "execution_count": 11,
      "metadata": {
        "colab": {
          "base_uri": "https://localhost:8080/"
        },
        "id": "Elm35Fmp4T45",
        "outputId": "6afdeed2-7f4d-42e2-ecd5-08128396d1ce"
      },
      "outputs": [
        {
          "output_type": "stream",
          "name": "stdout",
          "text": [
            "dict_keys(['model', 'dataset_type', 'data_root', 'img_norm_cfg', 'train_pipeline', 'test_pipeline', 'data', 'evaluation', 'optimizer', 'optimizer_config', 'lr_config', 'runner', 'checkpoint_config', 'log_config', 'custom_hooks', 'dist_params', 'log_level', 'load_from', 'resume_from', 'workflow'])\n",
            "data/coco/\n",
            "data/coco/annotations/instances_train2017.json\n",
            "data/coco/train2017/\n",
            "data/coco/annotations/instances_val2017.json\n",
            "data/coco/val2017/\n",
            "data/coco/annotations/instances_val2017.json\n",
            "data/coco/val2017/\n",
            "TextLoggerHook\n"
          ]
        }
      ],
      "source": [
        "# Some default values that we will adjust to our custom dataset. \n",
        "print(cfg.keys())\n",
        "print(cfg.data_root)\n",
        "print(cfg.data.train.ann_file)\n",
        "print(cfg.data.train.img_prefix)\n",
        "print(cfg.data.val.ann_file)\n",
        "print(cfg.data.val.img_prefix) \n",
        "print(cfg.data.test.ann_file) \n",
        "print(cfg.data.test.img_prefix)\n",
        "print(cfg.log_config.hooks[0].type)"
      ]
    },
    {
      "cell_type": "code",
      "execution_count": 12,
      "metadata": {
        "colab": {
          "base_uri": "https://localhost:8080/"
        },
        "id": "e66YjUBWO8Xb",
        "outputId": "28a612f1-0470-486e-c1fe-45ffb5a5c405"
      },
      "outputs": [
        {
          "output_type": "stream",
          "name": "stdout",
          "text": [
            "Config:\n",
            "model = dict(\n",
            "    type='FasterRCNN',\n",
            "    backbone=dict(\n",
            "        type='ResNet',\n",
            "        depth=50,\n",
            "        num_stages=4,\n",
            "        out_indices=(0, 1, 2, 3),\n",
            "        frozen_stages=1,\n",
            "        norm_cfg=dict(type='BN', requires_grad=True),\n",
            "        norm_eval=True,\n",
            "        style='pytorch',\n",
            "        init_cfg=dict(type='Pretrained', checkpoint='torchvision://resnet50')),\n",
            "    neck=dict(\n",
            "        type='FPN',\n",
            "        in_channels=[256, 512, 1024, 2048],\n",
            "        out_channels=256,\n",
            "        num_outs=5),\n",
            "    rpn_head=dict(\n",
            "        type='RPNHead',\n",
            "        in_channels=256,\n",
            "        feat_channels=256,\n",
            "        anchor_generator=dict(\n",
            "            type='AnchorGenerator',\n",
            "            scales=[8],\n",
            "            ratios=[0.5, 1.0, 2.0],\n",
            "            strides=[4, 8, 16, 32, 64]),\n",
            "        bbox_coder=dict(\n",
            "            type='DeltaXYWHBBoxCoder',\n",
            "            target_means=[0.0, 0.0, 0.0, 0.0],\n",
            "            target_stds=[1.0, 1.0, 1.0, 1.0]),\n",
            "        loss_cls=dict(\n",
            "            type='CrossEntropyLoss', use_sigmoid=True, loss_weight=1.0),\n",
            "        loss_bbox=dict(type='L1Loss', loss_weight=1.0)),\n",
            "    roi_head=dict(\n",
            "        type='StandardRoIHead',\n",
            "        bbox_roi_extractor=dict(\n",
            "            type='SingleRoIExtractor',\n",
            "            roi_layer=dict(type='RoIAlign', output_size=7, sampling_ratio=0),\n",
            "            out_channels=256,\n",
            "            featmap_strides=[4, 8, 16, 32]),\n",
            "        bbox_head=dict(\n",
            "            type='Shared2FCBBoxHead',\n",
            "            in_channels=256,\n",
            "            fc_out_channels=1024,\n",
            "            roi_feat_size=7,\n",
            "            num_classes=5,\n",
            "            bbox_coder=dict(\n",
            "                type='DeltaXYWHBBoxCoder',\n",
            "                target_means=[0.0, 0.0, 0.0, 0.0],\n",
            "                target_stds=[0.1, 0.1, 0.2, 0.2]),\n",
            "            reg_class_agnostic=False,\n",
            "            loss_cls=dict(\n",
            "                type='CrossEntropyLoss', use_sigmoid=False, loss_weight=1.0),\n",
            "            loss_bbox=dict(type='L1Loss', loss_weight=1.0))),\n",
            "    train_cfg=dict(\n",
            "        rpn=dict(\n",
            "            assigner=dict(\n",
            "                type='MaxIoUAssigner',\n",
            "                pos_iou_thr=0.7,\n",
            "                neg_iou_thr=0.3,\n",
            "                min_pos_iou=0.3,\n",
            "                match_low_quality=True,\n",
            "                ignore_iof_thr=-1),\n",
            "            sampler=dict(\n",
            "                type='RandomSampler',\n",
            "                num=256,\n",
            "                pos_fraction=0.5,\n",
            "                neg_pos_ub=-1,\n",
            "                add_gt_as_proposals=False),\n",
            "            allowed_border=-1,\n",
            "            pos_weight=-1,\n",
            "            debug=False),\n",
            "        rpn_proposal=dict(\n",
            "            nms_pre=2000,\n",
            "            max_per_img=1000,\n",
            "            nms=dict(type='nms', iou_threshold=0.7),\n",
            "            min_bbox_size=0),\n",
            "        rcnn=dict(\n",
            "            assigner=dict(\n",
            "                type='MaxIoUAssigner',\n",
            "                pos_iou_thr=0.5,\n",
            "                neg_iou_thr=0.5,\n",
            "                min_pos_iou=0.5,\n",
            "                match_low_quality=False,\n",
            "                ignore_iof_thr=-1),\n",
            "            sampler=dict(\n",
            "                type='RandomSampler',\n",
            "                num=512,\n",
            "                pos_fraction=0.25,\n",
            "                neg_pos_ub=-1,\n",
            "                add_gt_as_proposals=True),\n",
            "            pos_weight=-1,\n",
            "            debug=False)),\n",
            "    test_cfg=dict(\n",
            "        rpn=dict(\n",
            "            nms_pre=1000,\n",
            "            max_per_img=1000,\n",
            "            nms=dict(type='nms', iou_threshold=0.7),\n",
            "            min_bbox_size=0),\n",
            "        rcnn=dict(\n",
            "            score_thr=0.05,\n",
            "            nms=dict(type='nms', iou_threshold=0.5),\n",
            "            max_per_img=100)))\n",
            "dataset_type = 'CocoDataset'\n",
            "data_root = '/content/drive/MyDrive/Datasets/data_sign_coco/'\n",
            "img_norm_cfg = dict(\n",
            "    mean=[123.675, 116.28, 103.53], std=[58.395, 57.12, 57.375], to_rgb=True)\n",
            "train_pipeline = [\n",
            "    dict(type='LoadImageFromFile'),\n",
            "    dict(type='LoadAnnotations', with_bbox=True),\n",
            "    dict(type='Resize', img_scale=(1333, 800), keep_ratio=True),\n",
            "    dict(type='RandomFlip', flip_ratio=0.5),\n",
            "    dict(\n",
            "        type='Normalize',\n",
            "        mean=[123.675, 116.28, 103.53],\n",
            "        std=[58.395, 57.12, 57.375],\n",
            "        to_rgb=True),\n",
            "    dict(type='Pad', size_divisor=32),\n",
            "    dict(type='DefaultFormatBundle'),\n",
            "    dict(type='Collect', keys=['img', 'gt_bboxes', 'gt_labels'])\n",
            "]\n",
            "test_pipeline = [\n",
            "    dict(type='LoadImageFromFile'),\n",
            "    dict(\n",
            "        type='MultiScaleFlipAug',\n",
            "        img_scale=(1333, 800),\n",
            "        flip=False,\n",
            "        transforms=[\n",
            "            dict(type='Resize', keep_ratio=True),\n",
            "            dict(type='RandomFlip'),\n",
            "            dict(\n",
            "                type='Normalize',\n",
            "                mean=[123.675, 116.28, 103.53],\n",
            "                std=[58.395, 57.12, 57.375],\n",
            "                to_rgb=True),\n",
            "            dict(type='Pad', size_divisor=32),\n",
            "            dict(type='ImageToTensor', keys=['img']),\n",
            "            dict(type='Collect', keys=['img'])\n",
            "        ])\n",
            "]\n",
            "data = dict(\n",
            "    samples_per_gpu=3,\n",
            "    workers_per_gpu=2,\n",
            "    train=dict(\n",
            "        type='CocoDataset',\n",
            "        ann_file=\n",
            "        '/content/drive/MyDrive/Datasets/data_sign_coco/annotations/instances_train.json',\n",
            "        img_prefix='/content/drive/MyDrive/Datasets/data_sign_coco/train_data/',\n",
            "        pipeline=[\n",
            "            dict(type='LoadImageFromFile'),\n",
            "            dict(type='LoadAnnotations', with_bbox=True),\n",
            "            dict(type='Resize', img_scale=(1333, 800), keep_ratio=True),\n",
            "            dict(type='RandomFlip', flip_ratio=0.5),\n",
            "            dict(\n",
            "                type='Normalize',\n",
            "                mean=[123.675, 116.28, 103.53],\n",
            "                std=[58.395, 57.12, 57.375],\n",
            "                to_rgb=True),\n",
            "            dict(type='Pad', size_divisor=32),\n",
            "            dict(type='DefaultFormatBundle'),\n",
            "            dict(type='Collect', keys=['img', 'gt_bboxes', 'gt_labels'])\n",
            "        ],\n",
            "        classes=('road-signs', 'crosswalk', 'speedlimit', 'stop',\n",
            "                 'trafficlight')),\n",
            "    val=dict(\n",
            "        type='CocoDataset',\n",
            "        ann_file=\n",
            "        '/content/drive/MyDrive/Datasets/data_sign_coco/annotations/instances_val.json',\n",
            "        img_prefix='/content/drive/MyDrive/Datasets/data_sign_coco/val_data/',\n",
            "        pipeline=[\n",
            "            dict(type='LoadImageFromFile'),\n",
            "            dict(\n",
            "                type='MultiScaleFlipAug',\n",
            "                img_scale=(1333, 800),\n",
            "                flip=False,\n",
            "                transforms=[\n",
            "                    dict(type='Resize', keep_ratio=True),\n",
            "                    dict(type='RandomFlip'),\n",
            "                    dict(\n",
            "                        type='Normalize',\n",
            "                        mean=[123.675, 116.28, 103.53],\n",
            "                        std=[58.395, 57.12, 57.375],\n",
            "                        to_rgb=True),\n",
            "                    dict(type='Pad', size_divisor=32),\n",
            "                    dict(type='ImageToTensor', keys=['img']),\n",
            "                    dict(type='Collect', keys=['img'])\n",
            "                ])\n",
            "        ],\n",
            "        classes=('road-signs', 'crosswalk', 'speedlimit', 'stop',\n",
            "                 'trafficlight')),\n",
            "    test=dict(\n",
            "        type='CocoDataset',\n",
            "        ann_file=\n",
            "        '/content/drive/MyDrive/Datasets/data_sign_coco/annotations/instances_test.json',\n",
            "        img_prefix='/content/drive/MyDrive/Datasets/data_sign_coco/test_data/',\n",
            "        pipeline=[\n",
            "            dict(type='LoadImageFromFile'),\n",
            "            dict(\n",
            "                type='MultiScaleFlipAug',\n",
            "                img_scale=(1333, 800),\n",
            "                flip=False,\n",
            "                transforms=[\n",
            "                    dict(type='Resize', keep_ratio=True),\n",
            "                    dict(type='RandomFlip'),\n",
            "                    dict(\n",
            "                        type='Normalize',\n",
            "                        mean=[123.675, 116.28, 103.53],\n",
            "                        std=[58.395, 57.12, 57.375],\n",
            "                        to_rgb=True),\n",
            "                    dict(type='Pad', size_divisor=32),\n",
            "                    dict(type='ImageToTensor', keys=['img']),\n",
            "                    dict(type='Collect', keys=['img'])\n",
            "                ])\n",
            "        ],\n",
            "        classes=('road-signs', 'crosswalk', 'speedlimit', 'stop',\n",
            "                 'trafficlight')))\n",
            "evaluation = dict(interval=3, metric='bbox')\n",
            "optimizer = dict(type='SGD', lr=0.0025, momentum=0.9, weight_decay=0.0001)\n",
            "optimizer_config = dict(grad_clip=None)\n",
            "lr_config = dict(\n",
            "    policy='step',\n",
            "    warmup=None,\n",
            "    warmup_iters=500,\n",
            "    warmup_ratio=0.001,\n",
            "    step=[8, 11])\n",
            "runner = dict(type='EpochBasedRunner', max_epochs=18)\n",
            "checkpoint_config = dict(interval=3)\n",
            "log_config = dict(interval=10, hooks=[dict(type='TextLoggerHook')])\n",
            "custom_hooks = [dict(type='NumClassCheckHook')]\n",
            "dist_params = dict(backend='nccl')\n",
            "log_level = 'INFO'\n",
            "load_from = 'https://download.openmmlab.com/mmdetection/v2.0/faster_rcnn/faster_rcnn_r50_fpn_1x_coco/faster_rcnn_r50_fpn_1x_coco_20200130-047c8118.pth'\n",
            "resume_from = None\n",
            "workflow = [('train', 1)]\n",
            "classes = ('road-signs', 'crosswalk', 'speedlimit', 'stop', 'trafficlight')\n",
            "work_dir = '/content/drive/MyDrive/Datasets/data_sign_coco/results_fasterrcnn'\n",
            "seed = 0\n",
            "gpu_ids = range(0, 1)\n",
            "\n"
          ]
        }
      ],
      "source": [
        "# change config parameters\n",
        "from mmdet.apis import set_random_seed\n",
        "\n",
        "cfg[\"classes\"] = (\"road-signs\", \"crosswalk\", \"speedlimit\", \"stop\", \"trafficlight\")\n",
        "# define the data root\n",
        "cfg.data_root = \"/content/drive/MyDrive/Datasets/data_sign_coco/\"\n",
        "# define paths for train images and annotations\n",
        "cfg.data.train.ann_file = '/content/drive/MyDrive/Datasets/data_sign_coco/annotations/instances_train.json'\n",
        "cfg.data.train.img_prefix = '/content/drive/MyDrive/Datasets/data_sign_coco/train_data/'\n",
        "cfg.data.train.classes = cfg.classes\n",
        "# define paths for validation images and annotations\n",
        "cfg.data.val.ann_file = '/content/drive/MyDrive/Datasets/data_sign_coco/annotations/instances_val.json'\n",
        "cfg.data.val.img_prefix = '/content/drive/MyDrive/Datasets/data_sign_coco/val_data/'\n",
        "cfg.data.val.classes = cfg.classes\n",
        "# define paths for test images and annotations\n",
        "cfg.data.test.ann_file = '/content/drive/MyDrive/Datasets/data_sign_coco/annotations/instances_test.json'\n",
        "cfg.data.test.img_prefix = '/content/drive/MyDrive/Datasets/data_sign_coco/test_data/'\n",
        "cfg.data.test.classes = cfg.classes\n",
        "# change number of classes to 5 (default is 80)\n",
        "cfg.model.roi_head.bbox_head.num_classes = 5\n",
        "#cfg.model.roi_head.mask_head.num_classes = 5\n",
        "#cfg.model.bbox_head.num_classes = 5\n",
        "# load pre-trained model\n",
        "cfg.load_from = \"https://download.openmmlab.com/mmdetection/v2.0/faster_rcnn/faster_rcnn_r50_fpn_1x_coco/faster_rcnn_r50_fpn_1x_coco_20200130-047c8118.pth\"\n",
        "\n",
        "# Set up working dir to save files and logs.\n",
        "cfg.work_dir = '/content/drive/MyDrive/Datasets/data_sign_coco/results_fasterrcnn'\n",
        "\n",
        "# The original learning rate (LR) is set for 8-GPU training.\n",
        "# We divide it by 8 since we only use one GPU.\n",
        "cfg.optimizer.lr = 0.02 / 8\n",
        "cfg.lr_config.warmup = None\n",
        "cfg.log_config.interval = 10\n",
        "\n",
        "\n",
        "# Change the evaluation metric since we use customized dataset.\n",
        "cfg.evaluation.metric = 'bbox'\n",
        "# We can set the evaluation interval to reduce the evaluation times\n",
        "cfg.evaluation.interval = 3\n",
        "# We can set the checkpoint saving interval to reduce the storage cost\n",
        "cfg.checkpoint_config.interval = 3\n",
        "\n",
        "# Set seed thus the results are more reproducible\n",
        "cfg.seed = 0\n",
        "set_random_seed(0, deterministic=False)\n",
        "cfg.gpu_ids = range(1)\n",
        "\n",
        "# tensorboard login\n",
        "#cfg.log_config.hooks[0].type='TensorboardLoggerHook'\n",
        "\n",
        "#batch size\n",
        "cfg.data.samples_per_gpu = 3\n",
        "cfg.lr_config.policy = \"step\"\n",
        "\n",
        "#number of epochs\n",
        "cfg.runner.max_epochs = 18\n",
        "\n",
        "\n",
        "# We can initialize the logger for training and have a look\n",
        "# at the final config used for training\n",
        "print(f'Config:\\n{cfg.pretty_text}')\n"
      ]
    },
    {
      "cell_type": "code",
      "execution_count": 13,
      "metadata": {
        "colab": {
          "base_uri": "https://localhost:8080/"
        },
        "id": "aPAeVPlcOYfU",
        "outputId": "d92d4c15-ab79-4bef-e5ba-e615577905d6"
      },
      "outputs": [
        {
          "output_type": "stream",
          "name": "stdout",
          "text": [
            "dict_keys(['model', 'dataset_type', 'data_root', 'img_norm_cfg', 'train_pipeline', 'test_pipeline', 'data', 'evaluation', 'optimizer', 'optimizer_config', 'lr_config', 'runner', 'checkpoint_config', 'log_config', 'custom_hooks', 'dist_params', 'log_level', 'load_from', 'resume_from', 'workflow', 'classes', 'work_dir', 'seed', 'gpu_ids'])\n",
            "/content/drive/MyDrive/Datasets/data_sign_coco/\n",
            "/content/drive/MyDrive/Datasets/data_sign_coco/annotations/instances_train.json\n",
            "/content/drive/MyDrive/Datasets/data_sign_coco/train_data/\n",
            "/content/drive/MyDrive/Datasets/data_sign_coco/annotations/instances_val.json\n",
            "/content/drive/MyDrive/Datasets/data_sign_coco/val_data/\n",
            "/content/drive/MyDrive/Datasets/data_sign_coco/annotations/instances_test.json\n",
            "/content/drive/MyDrive/Datasets/data_sign_coco/test_data/\n",
            "5\n",
            "[('train', 1)]\n"
          ]
        }
      ],
      "source": [
        "print(cfg.keys())\n",
        "print(cfg.data_root)\n",
        "print(cfg.data.train.ann_file)\n",
        "print(cfg.data.train.img_prefix)\n",
        "print(cfg.data.val.ann_file)\n",
        "print(cfg.data.val.img_prefix) \n",
        "print(cfg.data.test.ann_file)\n",
        "print(cfg.data.test.img_prefix)\n",
        "print(cfg.model.roi_head.bbox_head.num_classes)\n",
        "print(cfg.workflow)"
      ]
    },
    {
      "cell_type": "code",
      "source": [
        "# Tensorboard  (optional)\n",
        "%load_ext tensorboard"
      ],
      "metadata": {
        "id": "CRb6SefP4aka"
      },
      "execution_count": 14,
      "outputs": []
    },
    {
      "cell_type": "code",
      "source": [
        "import datetime\n",
        "log_dir = \"/content/drive/MyDrive/Datasets/data_sign_coco/results_fasterrcnn\" + datetime.datetime.now().strftime(\"%Y%m%d-%H%M%S\")\n",
        "# Clear out any prior log data.\n",
        "!rm -rf log_dir/tf_logs"
      ],
      "metadata": {
        "id": "dcQeLvIh9mT1"
      },
      "execution_count": 15,
      "outputs": []
    },
    {
      "cell_type": "markdown",
      "metadata": {
        "id": "yOgwLEOHb9gF"
      },
      "source": [
        "# Train new detector - with pre-trained model"
      ]
    },
    {
      "cell_type": "code",
      "source": [
        "import datetime\n",
        "starttime = str(datetime.datetime.now())\n",
        "print(\"starting time: \", starttime)"
      ],
      "metadata": {
        "colab": {
          "base_uri": "https://localhost:8080/"
        },
        "id": "pd97Y7YhT8Yo",
        "outputId": "ef8ec528-27fa-451d-f1e2-d3617744799c"
      },
      "execution_count": 16,
      "outputs": [
        {
          "output_type": "stream",
          "name": "stdout",
          "text": [
            "starting time:  2022-01-16 14:57:03.802903\n"
          ]
        }
      ]
    },
    {
      "cell_type": "code",
      "execution_count": 17,
      "metadata": {
        "colab": {
          "base_uri": "https://localhost:8080/"
        },
        "id": "rbPdsr9q_y28",
        "outputId": "bdb9ab3a-edce-42c0-92f8-adf2364806ac"
      },
      "outputs": [
        {
          "output_type": "stream",
          "name": "stdout",
          "text": [
            "loading annotations into memory...\n",
            "Done (t=0.01s)\n",
            "creating index...\n",
            "index created!\n"
          ]
        },
        {
          "output_type": "stream",
          "name": "stderr",
          "text": [
            "2022-01-16 14:57:10,467 - mmdet - INFO - load checkpoint from http path: https://download.openmmlab.com/mmdetection/v2.0/faster_rcnn/faster_rcnn_r50_fpn_1x_coco/faster_rcnn_r50_fpn_1x_coco_20200130-047c8118.pth\n",
            "2022-01-16 14:57:10,589 - mmdet - WARNING - The model and loaded state dict do not match exactly\n",
            "\n",
            "size mismatch for roi_head.bbox_head.fc_cls.weight: copying a param with shape torch.Size([81, 1024]) from checkpoint, the shape in current model is torch.Size([6, 1024]).\n",
            "size mismatch for roi_head.bbox_head.fc_cls.bias: copying a param with shape torch.Size([81]) from checkpoint, the shape in current model is torch.Size([6]).\n",
            "size mismatch for roi_head.bbox_head.fc_reg.weight: copying a param with shape torch.Size([320, 1024]) from checkpoint, the shape in current model is torch.Size([20, 1024]).\n",
            "size mismatch for roi_head.bbox_head.fc_reg.bias: copying a param with shape torch.Size([320]) from checkpoint, the shape in current model is torch.Size([20]).\n",
            "2022-01-16 14:57:10,593 - mmdet - INFO - Start running, host: root@dc4ad64972a8, work_dir: /content/drive/MyDrive/Datasets/data_sign_coco/results_fasterrcnn\n",
            "2022-01-16 14:57:10,595 - mmdet - INFO - Hooks will be executed in the following order:\n",
            "before_run:\n",
            "(VERY_HIGH   ) StepLrUpdaterHook                  \n",
            "(NORMAL      ) CheckpointHook                     \n",
            "(LOW         ) EvalHook                           \n",
            "(VERY_LOW    ) TextLoggerHook                     \n",
            " -------------------- \n",
            "before_train_epoch:\n",
            "(VERY_HIGH   ) StepLrUpdaterHook                  \n",
            "(NORMAL      ) NumClassCheckHook                  \n",
            "(LOW         ) IterTimerHook                      \n",
            "(LOW         ) EvalHook                           \n",
            "(VERY_LOW    ) TextLoggerHook                     \n",
            " -------------------- \n",
            "before_train_iter:\n",
            "(VERY_HIGH   ) StepLrUpdaterHook                  \n",
            "(LOW         ) IterTimerHook                      \n",
            "(LOW         ) EvalHook                           \n",
            " -------------------- \n",
            "after_train_iter:\n",
            "(ABOVE_NORMAL) OptimizerHook                      \n",
            "(NORMAL      ) CheckpointHook                     \n",
            "(LOW         ) IterTimerHook                      \n",
            "(LOW         ) EvalHook                           \n",
            "(VERY_LOW    ) TextLoggerHook                     \n",
            " -------------------- \n",
            "after_train_epoch:\n",
            "(NORMAL      ) CheckpointHook                     \n",
            "(LOW         ) EvalHook                           \n",
            "(VERY_LOW    ) TextLoggerHook                     \n",
            " -------------------- \n",
            "before_val_epoch:\n",
            "(NORMAL      ) NumClassCheckHook                  \n",
            "(LOW         ) IterTimerHook                      \n",
            "(VERY_LOW    ) TextLoggerHook                     \n",
            " -------------------- \n",
            "before_val_iter:\n",
            "(LOW         ) IterTimerHook                      \n",
            " -------------------- \n",
            "after_val_iter:\n",
            "(LOW         ) IterTimerHook                      \n",
            " -------------------- \n",
            "after_val_epoch:\n",
            "(VERY_LOW    ) TextLoggerHook                     \n",
            " -------------------- \n",
            "after_run:\n",
            "(VERY_LOW    ) TextLoggerHook                     \n",
            " -------------------- \n",
            "2022-01-16 14:57:10,596 - mmdet - INFO - workflow: [('train', 1)], max: 18 epochs\n",
            "2022-01-16 14:57:10,598 - mmdet - INFO - Checkpoints will be saved to /content/drive/MyDrive/Datasets/data_sign_coco/results_fasterrcnn by HardDiskBackend.\n"
          ]
        },
        {
          "output_type": "stream",
          "name": "stdout",
          "text": [
            "loading annotations into memory...\n",
            "Done (t=0.00s)\n",
            "creating index...\n",
            "index created!\n"
          ]
        },
        {
          "output_type": "stream",
          "name": "stderr",
          "text": [
            "2022-01-16 14:57:17,145 - mmdet - INFO - Epoch [1][10/233]\tlr: 2.500e-03, eta: 0:45:04, time: 0.646, data_time: 0.223, memory: 3445, loss_rpn_cls: 0.0174, loss_rpn_bbox: 0.0047, loss_cls: 0.5231, acc: 88.3464, loss_bbox: 0.1128, loss: 0.6580\n",
            "2022-01-16 14:57:20,953 - mmdet - INFO - Epoch [1][20/233]\tlr: 2.500e-03, eta: 0:35:43, time: 0.381, data_time: 0.015, memory: 3445, loss_rpn_cls: 0.0085, loss_rpn_bbox: 0.0041, loss_cls: 0.1742, acc: 95.2604, loss_bbox: 0.1844, loss: 0.3713\n",
            "2022-01-16 14:57:24,780 - mmdet - INFO - Epoch [1][30/233]\tlr: 2.500e-03, eta: 0:32:36, time: 0.383, data_time: 0.015, memory: 3445, loss_rpn_cls: 0.0090, loss_rpn_bbox: 0.0032, loss_cls: 0.1646, acc: 94.5378, loss_bbox: 0.2189, loss: 0.3957\n",
            "2022-01-16 14:57:28,621 - mmdet - INFO - Epoch [1][40/233]\tlr: 2.500e-03, eta: 0:31:02, time: 0.384, data_time: 0.014, memory: 3446, loss_rpn_cls: 0.0026, loss_rpn_bbox: 0.0038, loss_cls: 0.0878, acc: 96.9857, loss_bbox: 0.1400, loss: 0.2342\n",
            "2022-01-16 14:57:32,482 - mmdet - INFO - Epoch [1][50/233]\tlr: 2.500e-03, eta: 0:30:06, time: 0.386, data_time: 0.014, memory: 3446, loss_rpn_cls: 0.0037, loss_rpn_bbox: 0.0050, loss_cls: 0.0997, acc: 97.4219, loss_bbox: 0.1206, loss: 0.2290\n",
            "2022-01-16 14:57:36,343 - mmdet - INFO - Epoch [1][60/233]\tlr: 2.500e-03, eta: 0:29:28, time: 0.386, data_time: 0.015, memory: 3446, loss_rpn_cls: 0.0099, loss_rpn_bbox: 0.0062, loss_cls: 0.1196, acc: 96.8880, loss_bbox: 0.1034, loss: 0.2392\n",
            "2022-01-16 14:57:40,168 - mmdet - INFO - Epoch [1][70/233]\tlr: 2.500e-03, eta: 0:28:57, time: 0.383, data_time: 0.014, memory: 3446, loss_rpn_cls: 0.0050, loss_rpn_bbox: 0.0047, loss_cls: 0.1008, acc: 96.9857, loss_bbox: 0.1149, loss: 0.2254\n",
            "2022-01-16 14:57:44,007 - mmdet - INFO - Epoch [1][80/233]\tlr: 2.500e-03, eta: 0:28:33, time: 0.384, data_time: 0.014, memory: 3446, loss_rpn_cls: 0.0070, loss_rpn_bbox: 0.0062, loss_cls: 0.0904, acc: 97.2591, loss_bbox: 0.0990, loss: 0.2026\n",
            "2022-01-16 14:57:47,843 - mmdet - INFO - Epoch [1][90/233]\tlr: 2.500e-03, eta: 0:28:14, time: 0.384, data_time: 0.014, memory: 3446, loss_rpn_cls: 0.0028, loss_rpn_bbox: 0.0050, loss_cls: 0.0783, acc: 97.4870, loss_bbox: 0.0923, loss: 0.1785\n",
            "2022-01-16 14:57:51,686 - mmdet - INFO - Epoch [1][100/233]\tlr: 2.500e-03, eta: 0:27:58, time: 0.384, data_time: 0.014, memory: 3446, loss_rpn_cls: 0.0022, loss_rpn_bbox: 0.0053, loss_cls: 0.0849, acc: 97.2917, loss_bbox: 0.1024, loss: 0.1947\n",
            "2022-01-16 14:57:55,522 - mmdet - INFO - Epoch [1][110/233]\tlr: 2.500e-03, eta: 0:27:44, time: 0.384, data_time: 0.014, memory: 3446, loss_rpn_cls: 0.0030, loss_rpn_bbox: 0.0033, loss_cls: 0.0867, acc: 97.0378, loss_bbox: 0.1034, loss: 0.1964\n",
            "2022-01-16 14:57:59,368 - mmdet - INFO - Epoch [1][120/233]\tlr: 2.500e-03, eta: 0:27:32, time: 0.385, data_time: 0.015, memory: 3446, loss_rpn_cls: 0.0015, loss_rpn_bbox: 0.0030, loss_cls: 0.0712, acc: 97.3503, loss_bbox: 0.0918, loss: 0.1676\n",
            "2022-01-16 14:58:03,207 - mmdet - INFO - Epoch [1][130/233]\tlr: 2.500e-03, eta: 0:27:21, time: 0.384, data_time: 0.015, memory: 3446, loss_rpn_cls: 0.0031, loss_rpn_bbox: 0.0040, loss_cls: 0.0763, acc: 97.4544, loss_bbox: 0.0846, loss: 0.1680\n",
            "2022-01-16 14:58:07,022 - mmdet - INFO - Epoch [1][140/233]\tlr: 2.500e-03, eta: 0:27:11, time: 0.382, data_time: 0.014, memory: 3446, loss_rpn_cls: 0.0040, loss_rpn_bbox: 0.0042, loss_cls: 0.0863, acc: 97.0182, loss_bbox: 0.1027, loss: 0.1972\n",
            "2022-01-16 14:58:10,844 - mmdet - INFO - Epoch [1][150/233]\tlr: 2.500e-03, eta: 0:27:01, time: 0.382, data_time: 0.014, memory: 3446, loss_rpn_cls: 0.0031, loss_rpn_bbox: 0.0048, loss_cls: 0.0686, acc: 97.5130, loss_bbox: 0.0925, loss: 0.1691\n",
            "2022-01-16 14:58:14,708 - mmdet - INFO - Epoch [1][160/233]\tlr: 2.500e-03, eta: 0:26:54, time: 0.386, data_time: 0.015, memory: 3446, loss_rpn_cls: 0.0026, loss_rpn_bbox: 0.0034, loss_cls: 0.0541, acc: 98.0404, loss_bbox: 0.0756, loss: 0.1357\n",
            "2022-01-16 14:58:18,561 - mmdet - INFO - Epoch [1][170/233]\tlr: 2.500e-03, eta: 0:26:46, time: 0.385, data_time: 0.014, memory: 3446, loss_rpn_cls: 0.0043, loss_rpn_bbox: 0.0036, loss_cls: 0.0610, acc: 98.0534, loss_bbox: 0.0758, loss: 0.1447\n",
            "2022-01-16 14:58:22,373 - mmdet - INFO - Epoch [1][180/233]\tlr: 2.500e-03, eta: 0:26:38, time: 0.381, data_time: 0.014, memory: 3446, loss_rpn_cls: 0.0038, loss_rpn_bbox: 0.0037, loss_cls: 0.0443, acc: 98.5352, loss_bbox: 0.0669, loss: 0.1187\n",
            "2022-01-16 14:58:26,212 - mmdet - INFO - Epoch [1][190/233]\tlr: 2.500e-03, eta: 0:26:31, time: 0.384, data_time: 0.015, memory: 3446, loss_rpn_cls: 0.0031, loss_rpn_bbox: 0.0037, loss_cls: 0.0424, acc: 98.5612, loss_bbox: 0.0629, loss: 0.1122\n",
            "2022-01-16 14:58:30,033 - mmdet - INFO - Epoch [1][200/233]\tlr: 2.500e-03, eta: 0:26:24, time: 0.382, data_time: 0.014, memory: 3446, loss_rpn_cls: 0.0012, loss_rpn_bbox: 0.0027, loss_cls: 0.0386, acc: 98.7109, loss_bbox: 0.0593, loss: 0.1018\n",
            "2022-01-16 14:58:33,859 - mmdet - INFO - Epoch [1][210/233]\tlr: 2.500e-03, eta: 0:26:17, time: 0.383, data_time: 0.015, memory: 3446, loss_rpn_cls: 0.0012, loss_rpn_bbox: 0.0039, loss_cls: 0.0494, acc: 98.5937, loss_bbox: 0.0695, loss: 0.1241\n",
            "2022-01-16 14:58:37,663 - mmdet - INFO - Epoch [1][220/233]\tlr: 2.500e-03, eta: 0:26:11, time: 0.380, data_time: 0.014, memory: 3446, loss_rpn_cls: 0.0076, loss_rpn_bbox: 0.0049, loss_cls: 0.0568, acc: 98.1315, loss_bbox: 0.1068, loss: 0.1762\n",
            "2022-01-16 14:58:41,419 - mmdet - INFO - Epoch [1][230/233]\tlr: 2.500e-03, eta: 0:26:03, time: 0.376, data_time: 0.014, memory: 3446, loss_rpn_cls: 0.0020, loss_rpn_bbox: 0.0043, loss_cls: 0.0475, acc: 98.3984, loss_bbox: 0.0758, loss: 0.1296\n",
            "2022-01-16 14:58:48,471 - mmdet - INFO - Epoch [2][10/233]\tlr: 2.500e-03, eta: 0:26:10, time: 0.586, data_time: 0.221, memory: 3446, loss_rpn_cls: 0.0016, loss_rpn_bbox: 0.0045, loss_cls: 0.0494, acc: 98.3854, loss_bbox: 0.0884, loss: 0.1439\n",
            "2022-01-16 14:58:52,248 - mmdet - INFO - Epoch [2][20/233]\tlr: 2.500e-03, eta: 0:26:03, time: 0.378, data_time: 0.015, memory: 3446, loss_rpn_cls: 0.0020, loss_rpn_bbox: 0.0028, loss_cls: 0.0324, acc: 98.9583, loss_bbox: 0.0537, loss: 0.0909\n",
            "2022-01-16 14:58:55,997 - mmdet - INFO - Epoch [2][30/233]\tlr: 2.500e-03, eta: 0:25:56, time: 0.375, data_time: 0.015, memory: 3446, loss_rpn_cls: 0.0032, loss_rpn_bbox: 0.0033, loss_cls: 0.0384, acc: 98.8997, loss_bbox: 0.0544, loss: 0.0993\n",
            "2022-01-16 14:58:59,761 - mmdet - INFO - Epoch [2][40/233]\tlr: 2.500e-03, eta: 0:25:49, time: 0.376, data_time: 0.015, memory: 3446, loss_rpn_cls: 0.0011, loss_rpn_bbox: 0.0032, loss_cls: 0.0300, acc: 98.9779, loss_bbox: 0.0564, loss: 0.0906\n",
            "2022-01-16 14:59:03,535 - mmdet - INFO - Epoch [2][50/233]\tlr: 2.500e-03, eta: 0:25:43, time: 0.377, data_time: 0.015, memory: 3446, loss_rpn_cls: 0.0034, loss_rpn_bbox: 0.0050, loss_cls: 0.0458, acc: 98.4831, loss_bbox: 0.0732, loss: 0.1274\n",
            "2022-01-16 14:59:07,290 - mmdet - INFO - Epoch [2][60/233]\tlr: 2.500e-03, eta: 0:25:36, time: 0.375, data_time: 0.015, memory: 3446, loss_rpn_cls: 0.0034, loss_rpn_bbox: 0.0044, loss_cls: 0.0396, acc: 98.7174, loss_bbox: 0.0710, loss: 0.1185\n",
            "2022-01-16 14:59:11,079 - mmdet - INFO - Epoch [2][70/233]\tlr: 2.500e-03, eta: 0:25:30, time: 0.379, data_time: 0.014, memory: 3446, loss_rpn_cls: 0.0012, loss_rpn_bbox: 0.0031, loss_cls: 0.0311, acc: 99.0039, loss_bbox: 0.0596, loss: 0.0950\n",
            "2022-01-16 14:59:14,889 - mmdet - INFO - Epoch [2][80/233]\tlr: 2.500e-03, eta: 0:25:25, time: 0.381, data_time: 0.015, memory: 3446, loss_rpn_cls: 0.0014, loss_rpn_bbox: 0.0035, loss_cls: 0.0320, acc: 98.7825, loss_bbox: 0.0653, loss: 0.1021\n",
            "2022-01-16 14:59:18,718 - mmdet - INFO - Epoch [2][90/233]\tlr: 2.500e-03, eta: 0:25:20, time: 0.383, data_time: 0.014, memory: 3446, loss_rpn_cls: 0.0010, loss_rpn_bbox: 0.0030, loss_cls: 0.0298, acc: 98.9714, loss_bbox: 0.0643, loss: 0.0981\n",
            "2022-01-16 14:59:22,510 - mmdet - INFO - Epoch [2][100/233]\tlr: 2.500e-03, eta: 0:25:14, time: 0.379, data_time: 0.014, memory: 3446, loss_rpn_cls: 0.0017, loss_rpn_bbox: 0.0042, loss_cls: 0.0419, acc: 98.5807, loss_bbox: 0.0648, loss: 0.1126\n",
            "2022-01-16 14:59:26,280 - mmdet - INFO - Epoch [2][110/233]\tlr: 2.500e-03, eta: 0:25:09, time: 0.377, data_time: 0.015, memory: 3446, loss_rpn_cls: 0.0006, loss_rpn_bbox: 0.0026, loss_cls: 0.0311, acc: 98.8802, loss_bbox: 0.0534, loss: 0.0876\n",
            "2022-01-16 14:59:30,067 - mmdet - INFO - Epoch [2][120/233]\tlr: 2.500e-03, eta: 0:25:03, time: 0.379, data_time: 0.015, memory: 3446, loss_rpn_cls: 0.0017, loss_rpn_bbox: 0.0038, loss_cls: 0.0316, acc: 98.9909, loss_bbox: 0.0576, loss: 0.0946\n",
            "2022-01-16 14:59:33,835 - mmdet - INFO - Epoch [2][130/233]\tlr: 2.500e-03, eta: 0:24:58, time: 0.377, data_time: 0.015, memory: 3446, loss_rpn_cls: 0.0023, loss_rpn_bbox: 0.0035, loss_cls: 0.0498, acc: 98.1836, loss_bbox: 0.0669, loss: 0.1226\n",
            "2022-01-16 14:59:37,635 - mmdet - INFO - Epoch [2][140/233]\tlr: 2.500e-03, eta: 0:24:53, time: 0.380, data_time: 0.015, memory: 3446, loss_rpn_cls: 0.0008, loss_rpn_bbox: 0.0030, loss_cls: 0.0294, acc: 99.0365, loss_bbox: 0.0586, loss: 0.0918\n",
            "2022-01-16 14:59:41,413 - mmdet - INFO - Epoch [2][150/233]\tlr: 2.500e-03, eta: 0:24:47, time: 0.378, data_time: 0.015, memory: 3446, loss_rpn_cls: 0.0010, loss_rpn_bbox: 0.0050, loss_cls: 0.0442, acc: 98.2878, loss_bbox: 0.0809, loss: 0.1311\n",
            "2022-01-16 14:59:45,198 - mmdet - INFO - Epoch [2][160/233]\tlr: 2.500e-03, eta: 0:24:42, time: 0.379, data_time: 0.015, memory: 3446, loss_rpn_cls: 0.0014, loss_rpn_bbox: 0.0039, loss_cls: 0.0310, acc: 99.0690, loss_bbox: 0.0671, loss: 0.1035\n",
            "2022-01-16 14:59:48,989 - mmdet - INFO - Epoch [2][170/233]\tlr: 2.500e-03, eta: 0:24:37, time: 0.379, data_time: 0.014, memory: 3446, loss_rpn_cls: 0.0014, loss_rpn_bbox: 0.0033, loss_cls: 0.0299, acc: 98.8607, loss_bbox: 0.0561, loss: 0.0907\n",
            "2022-01-16 14:59:52,751 - mmdet - INFO - Epoch [2][180/233]\tlr: 2.500e-03, eta: 0:24:32, time: 0.376, data_time: 0.015, memory: 3446, loss_rpn_cls: 0.0003, loss_rpn_bbox: 0.0023, loss_cls: 0.0238, acc: 99.0755, loss_bbox: 0.0540, loss: 0.0804\n",
            "2022-01-16 14:59:56,558 - mmdet - INFO - Epoch [2][190/233]\tlr: 2.500e-03, eta: 0:24:28, time: 0.381, data_time: 0.015, memory: 3446, loss_rpn_cls: 0.0006, loss_rpn_bbox: 0.0037, loss_cls: 0.0378, acc: 98.7565, loss_bbox: 0.0588, loss: 0.1009\n",
            "2022-01-16 15:00:00,338 - mmdet - INFO - Epoch [2][200/233]\tlr: 2.500e-03, eta: 0:24:23, time: 0.378, data_time: 0.015, memory: 3446, loss_rpn_cls: 0.0029, loss_rpn_bbox: 0.0037, loss_cls: 0.0465, acc: 98.4440, loss_bbox: 0.0704, loss: 0.1235\n",
            "2022-01-16 15:00:04,147 - mmdet - INFO - Epoch [2][210/233]\tlr: 2.500e-03, eta: 0:24:18, time: 0.381, data_time: 0.016, memory: 3446, loss_rpn_cls: 0.0023, loss_rpn_bbox: 0.0031, loss_cls: 0.0297, acc: 98.9453, loss_bbox: 0.0598, loss: 0.0949\n",
            "2022-01-16 15:00:07,929 - mmdet - INFO - Epoch [2][220/233]\tlr: 2.500e-03, eta: 0:24:13, time: 0.378, data_time: 0.014, memory: 3446, loss_rpn_cls: 0.0011, loss_rpn_bbox: 0.0027, loss_cls: 0.0262, acc: 99.0104, loss_bbox: 0.0521, loss: 0.0821\n",
            "2022-01-16 15:00:11,743 - mmdet - INFO - Epoch [2][230/233]\tlr: 2.500e-03, eta: 0:24:09, time: 0.381, data_time: 0.015, memory: 3446, loss_rpn_cls: 0.0003, loss_rpn_bbox: 0.0027, loss_cls: 0.0292, acc: 98.9453, loss_bbox: 0.0524, loss: 0.0846\n",
            "2022-01-16 15:00:18,818 - mmdet - INFO - Epoch [3][10/233]\tlr: 2.500e-03, eta: 0:24:10, time: 0.588, data_time: 0.221, memory: 3446, loss_rpn_cls: 0.0010, loss_rpn_bbox: 0.0029, loss_cls: 0.0291, acc: 98.9583, loss_bbox: 0.0567, loss: 0.0897\n",
            "2022-01-16 15:00:22,615 - mmdet - INFO - Epoch [3][20/233]\tlr: 2.500e-03, eta: 0:24:06, time: 0.380, data_time: 0.015, memory: 3446, loss_rpn_cls: 0.0008, loss_rpn_bbox: 0.0032, loss_cls: 0.0279, acc: 98.9323, loss_bbox: 0.0570, loss: 0.0890\n",
            "2022-01-16 15:00:26,437 - mmdet - INFO - Epoch [3][30/233]\tlr: 2.500e-03, eta: 0:24:01, time: 0.382, data_time: 0.014, memory: 3446, loss_rpn_cls: 0.0008, loss_rpn_bbox: 0.0027, loss_cls: 0.0293, acc: 98.8607, loss_bbox: 0.0559, loss: 0.0886\n",
            "2022-01-16 15:00:30,246 - mmdet - INFO - Epoch [3][40/233]\tlr: 2.500e-03, eta: 0:23:57, time: 0.381, data_time: 0.015, memory: 3446, loss_rpn_cls: 0.0002, loss_rpn_bbox: 0.0033, loss_cls: 0.0282, acc: 99.0039, loss_bbox: 0.0522, loss: 0.0840\n",
            "2022-01-16 15:00:34,060 - mmdet - INFO - Epoch [3][50/233]\tlr: 2.500e-03, eta: 0:23:52, time: 0.381, data_time: 0.014, memory: 3446, loss_rpn_cls: 0.0003, loss_rpn_bbox: 0.0023, loss_cls: 0.0237, acc: 99.1211, loss_bbox: 0.0537, loss: 0.0799\n",
            "2022-01-16 15:00:37,846 - mmdet - INFO - Epoch [3][60/233]\tlr: 2.500e-03, eta: 0:23:47, time: 0.379, data_time: 0.014, memory: 3446, loss_rpn_cls: 0.0006, loss_rpn_bbox: 0.0024, loss_cls: 0.0185, acc: 99.3490, loss_bbox: 0.0408, loss: 0.0623\n",
            "2022-01-16 15:00:41,677 - mmdet - INFO - Epoch [3][70/233]\tlr: 2.500e-03, eta: 0:23:43, time: 0.383, data_time: 0.015, memory: 3446, loss_rpn_cls: 0.0003, loss_rpn_bbox: 0.0015, loss_cls: 0.0234, acc: 99.1211, loss_bbox: 0.0438, loss: 0.0690\n",
            "2022-01-16 15:00:45,499 - mmdet - INFO - Epoch [3][80/233]\tlr: 2.500e-03, eta: 0:23:39, time: 0.382, data_time: 0.015, memory: 3446, loss_rpn_cls: 0.0013, loss_rpn_bbox: 0.0028, loss_cls: 0.0252, acc: 99.1341, loss_bbox: 0.0592, loss: 0.0884\n",
            "2022-01-16 15:00:49,356 - mmdet - INFO - Epoch [3][90/233]\tlr: 2.500e-03, eta: 0:23:35, time: 0.386, data_time: 0.015, memory: 3446, loss_rpn_cls: 0.0007, loss_rpn_bbox: 0.0022, loss_cls: 0.0233, acc: 99.2383, loss_bbox: 0.0452, loss: 0.0715\n",
            "2022-01-16 15:00:53,170 - mmdet - INFO - Epoch [3][100/233]\tlr: 2.500e-03, eta: 0:23:30, time: 0.381, data_time: 0.015, memory: 3446, loss_rpn_cls: 0.0004, loss_rpn_bbox: 0.0031, loss_cls: 0.0285, acc: 98.8997, loss_bbox: 0.0622, loss: 0.0943\n",
            "2022-01-16 15:00:57,011 - mmdet - INFO - Epoch [3][110/233]\tlr: 2.500e-03, eta: 0:23:26, time: 0.384, data_time: 0.015, memory: 3446, loss_rpn_cls: 0.0005, loss_rpn_bbox: 0.0028, loss_cls: 0.0287, acc: 98.9974, loss_bbox: 0.0572, loss: 0.0893\n",
            "2022-01-16 15:01:00,805 - mmdet - INFO - Epoch [3][120/233]\tlr: 2.500e-03, eta: 0:23:22, time: 0.379, data_time: 0.015, memory: 3446, loss_rpn_cls: 0.0011, loss_rpn_bbox: 0.0031, loss_cls: 0.0247, acc: 99.1536, loss_bbox: 0.0515, loss: 0.0804\n",
            "2022-01-16 15:01:04,623 - mmdet - INFO - Epoch [3][130/233]\tlr: 2.500e-03, eta: 0:23:17, time: 0.382, data_time: 0.015, memory: 3446, loss_rpn_cls: 0.0014, loss_rpn_bbox: 0.0047, loss_cls: 0.0410, acc: 98.6003, loss_bbox: 0.0671, loss: 0.1142\n",
            "2022-01-16 15:01:08,412 - mmdet - INFO - Epoch [3][140/233]\tlr: 2.500e-03, eta: 0:23:13, time: 0.379, data_time: 0.015, memory: 3446, loss_rpn_cls: 0.0004, loss_rpn_bbox: 0.0029, loss_cls: 0.0333, acc: 98.9323, loss_bbox: 0.0624, loss: 0.0989\n",
            "2022-01-16 15:01:12,227 - mmdet - INFO - Epoch [3][150/233]\tlr: 2.500e-03, eta: 0:23:09, time: 0.381, data_time: 0.015, memory: 3446, loss_rpn_cls: 0.0005, loss_rpn_bbox: 0.0036, loss_cls: 0.0314, acc: 98.8346, loss_bbox: 0.0604, loss: 0.0960\n",
            "2022-01-16 15:01:16,026 - mmdet - INFO - Epoch [3][160/233]\tlr: 2.500e-03, eta: 0:23:04, time: 0.380, data_time: 0.014, memory: 3446, loss_rpn_cls: 0.0013, loss_rpn_bbox: 0.0041, loss_cls: 0.0302, acc: 98.9193, loss_bbox: 0.0629, loss: 0.0985\n",
            "2022-01-16 15:01:19,843 - mmdet - INFO - Epoch [3][170/233]\tlr: 2.500e-03, eta: 0:23:00, time: 0.382, data_time: 0.015, memory: 3446, loss_rpn_cls: 0.0017, loss_rpn_bbox: 0.0028, loss_cls: 0.0278, acc: 99.0104, loss_bbox: 0.0459, loss: 0.0781\n",
            "2022-01-16 15:01:23,624 - mmdet - INFO - Epoch [3][180/233]\tlr: 2.500e-03, eta: 0:22:56, time: 0.378, data_time: 0.014, memory: 3446, loss_rpn_cls: 0.0004, loss_rpn_bbox: 0.0028, loss_cls: 0.0245, acc: 99.1406, loss_bbox: 0.0431, loss: 0.0707\n",
            "2022-01-16 15:01:27,430 - mmdet - INFO - Epoch [3][190/233]\tlr: 2.500e-03, eta: 0:22:51, time: 0.381, data_time: 0.015, memory: 3446, loss_rpn_cls: 0.0008, loss_rpn_bbox: 0.0033, loss_cls: 0.0287, acc: 98.9323, loss_bbox: 0.0573, loss: 0.0900\n",
            "2022-01-16 15:01:31,243 - mmdet - INFO - Epoch [3][200/233]\tlr: 2.500e-03, eta: 0:22:47, time: 0.381, data_time: 0.014, memory: 3446, loss_rpn_cls: 0.0012, loss_rpn_bbox: 0.0026, loss_cls: 0.0262, acc: 98.9779, loss_bbox: 0.0525, loss: 0.0826\n",
            "2022-01-16 15:01:35,083 - mmdet - INFO - Epoch [3][210/233]\tlr: 2.500e-03, eta: 0:22:43, time: 0.384, data_time: 0.015, memory: 3446, loss_rpn_cls: 0.0006, loss_rpn_bbox: 0.0031, loss_cls: 0.0229, acc: 99.1797, loss_bbox: 0.0490, loss: 0.0756\n",
            "2022-01-16 15:01:38,897 - mmdet - INFO - Epoch [3][220/233]\tlr: 2.500e-03, eta: 0:22:39, time: 0.381, data_time: 0.015, memory: 3446, loss_rpn_cls: 0.0002, loss_rpn_bbox: 0.0026, loss_cls: 0.0233, acc: 99.1732, loss_bbox: 0.0458, loss: 0.0719\n",
            "2022-01-16 15:01:42,711 - mmdet - INFO - Epoch [3][230/233]\tlr: 2.500e-03, eta: 0:22:35, time: 0.381, data_time: 0.015, memory: 3446, loss_rpn_cls: 0.0024, loss_rpn_bbox: 0.0033, loss_cls: 0.0429, acc: 98.7109, loss_bbox: 0.0550, loss: 0.1036\n",
            "2022-01-16 15:01:43,834 - mmdet - INFO - Saving checkpoint at 3 epochs\n"
          ]
        },
        {
          "output_type": "stream",
          "name": "stdout",
          "text": [
            "[>>>>>>>>>>>>>>>>>>>>>>>>>>>>>>>>] 88/88, 2.5 task/s, elapsed: 35s, ETA:     0s"
          ]
        },
        {
          "output_type": "stream",
          "name": "stderr",
          "text": [
            "2022-01-16 15:02:20,349 - mmdet - INFO - Evaluating bbox...\n"
          ]
        },
        {
          "output_type": "stream",
          "name": "stdout",
          "text": [
            "Loading and preparing results...\n",
            "DONE (t=0.00s)\n",
            "creating index...\n",
            "index created!\n",
            "Running per image evaluation...\n",
            "Evaluate annotation type *bbox*\n",
            "DONE (t=0.06s).\n",
            "Accumulating evaluation results...\n"
          ]
        },
        {
          "output_type": "stream",
          "name": "stderr",
          "text": [
            "2022-01-16 15:02:20,458 - mmdet - INFO - \n",
            " Average Precision  (AP) @[ IoU=0.50:0.95 | area=   all | maxDets=100 ] = 0.682\n",
            " Average Precision  (AP) @[ IoU=0.50      | area=   all | maxDets=1000 ] = 0.934\n",
            " Average Precision  (AP) @[ IoU=0.75      | area=   all | maxDets=1000 ] = 0.799\n",
            " Average Precision  (AP) @[ IoU=0.50:0.95 | area= small | maxDets=1000 ] = 0.458\n",
            " Average Precision  (AP) @[ IoU=0.50:0.95 | area=medium | maxDets=1000 ] = 0.780\n",
            " Average Precision  (AP) @[ IoU=0.50:0.95 | area= large | maxDets=1000 ] = 0.766\n",
            " Average Recall     (AR) @[ IoU=0.50:0.95 | area=   all | maxDets=100 ] = 0.747\n",
            " Average Recall     (AR) @[ IoU=0.50:0.95 | area=   all | maxDets=300 ] = 0.747\n",
            " Average Recall     (AR) @[ IoU=0.50:0.95 | area=   all | maxDets=1000 ] = 0.747\n",
            " Average Recall     (AR) @[ IoU=0.50:0.95 | area= small | maxDets=1000 ] = 0.597\n",
            " Average Recall     (AR) @[ IoU=0.50:0.95 | area=medium | maxDets=1000 ] = 0.816\n",
            " Average Recall     (AR) @[ IoU=0.50:0.95 | area= large | maxDets=1000 ] = 0.793\n",
            "\n",
            "2022-01-16 15:02:20,466 - mmdet - INFO - Epoch(val) [3][88]\tbbox_mAP: 0.6820, bbox_mAP_50: 0.9340, bbox_mAP_75: 0.7990, bbox_mAP_s: 0.4580, bbox_mAP_m: 0.7800, bbox_mAP_l: 0.7660, bbox_mAP_copypaste: 0.682 0.934 0.799 0.458 0.780 0.766\n"
          ]
        },
        {
          "output_type": "stream",
          "name": "stdout",
          "text": [
            "DONE (t=0.04s).\n"
          ]
        },
        {
          "output_type": "stream",
          "name": "stderr",
          "text": [
            "2022-01-16 15:02:26,537 - mmdet - INFO - Epoch [4][10/233]\tlr: 2.500e-03, eta: 0:22:34, time: 0.598, data_time: 0.227, memory: 3446, loss_rpn_cls: 0.0003, loss_rpn_bbox: 0.0025, loss_cls: 0.0239, acc: 99.0885, loss_bbox: 0.0525, loss: 0.0793\n",
            "2022-01-16 15:02:30,335 - mmdet - INFO - Epoch [4][20/233]\tlr: 2.500e-03, eta: 0:22:30, time: 0.380, data_time: 0.014, memory: 3446, loss_rpn_cls: 0.0003, loss_rpn_bbox: 0.0028, loss_cls: 0.0258, acc: 99.0430, loss_bbox: 0.0573, loss: 0.0863\n",
            "2022-01-16 15:02:34,147 - mmdet - INFO - Epoch [4][30/233]\tlr: 2.500e-03, eta: 0:22:26, time: 0.381, data_time: 0.015, memory: 3446, loss_rpn_cls: 0.0004, loss_rpn_bbox: 0.0028, loss_cls: 0.0222, acc: 99.1732, loss_bbox: 0.0532, loss: 0.0786\n",
            "2022-01-16 15:02:37,935 - mmdet - INFO - Epoch [4][40/233]\tlr: 2.500e-03, eta: 0:22:21, time: 0.379, data_time: 0.015, memory: 3446, loss_rpn_cls: 0.0005, loss_rpn_bbox: 0.0028, loss_cls: 0.0197, acc: 99.2708, loss_bbox: 0.0510, loss: 0.0740\n",
            "2022-01-16 15:02:41,750 - mmdet - INFO - Epoch [4][50/233]\tlr: 2.500e-03, eta: 0:22:17, time: 0.382, data_time: 0.014, memory: 3446, loss_rpn_cls: 0.0005, loss_rpn_bbox: 0.0027, loss_cls: 0.0236, acc: 99.0885, loss_bbox: 0.0568, loss: 0.0835\n",
            "2022-01-16 15:02:45,586 - mmdet - INFO - Epoch [4][60/233]\tlr: 2.500e-03, eta: 0:22:13, time: 0.384, data_time: 0.014, memory: 3446, loss_rpn_cls: 0.0007, loss_rpn_bbox: 0.0025, loss_cls: 0.0230, acc: 99.1341, loss_bbox: 0.0599, loss: 0.0860\n",
            "2022-01-16 15:02:49,405 - mmdet - INFO - Epoch [4][70/233]\tlr: 2.500e-03, eta: 0:22:09, time: 0.382, data_time: 0.014, memory: 3446, loss_rpn_cls: 0.0016, loss_rpn_bbox: 0.0036, loss_cls: 0.0393, acc: 98.7370, loss_bbox: 0.0608, loss: 0.1054\n",
            "2022-01-16 15:02:53,217 - mmdet - INFO - Epoch [4][80/233]\tlr: 2.500e-03, eta: 0:22:05, time: 0.381, data_time: 0.015, memory: 3446, loss_rpn_cls: 0.0004, loss_rpn_bbox: 0.0028, loss_cls: 0.0291, acc: 98.9648, loss_bbox: 0.0533, loss: 0.0855\n",
            "2022-01-16 15:02:57,020 - mmdet - INFO - Epoch [4][90/233]\tlr: 2.500e-03, eta: 0:22:01, time: 0.380, data_time: 0.014, memory: 3446, loss_rpn_cls: 0.0002, loss_rpn_bbox: 0.0024, loss_cls: 0.0205, acc: 99.2708, loss_bbox: 0.0368, loss: 0.0599\n",
            "2022-01-16 15:03:00,856 - mmdet - INFO - Epoch [4][100/233]\tlr: 2.500e-03, eta: 0:21:56, time: 0.384, data_time: 0.015, memory: 3446, loss_rpn_cls: 0.0007, loss_rpn_bbox: 0.0034, loss_cls: 0.0332, acc: 98.7826, loss_bbox: 0.0688, loss: 0.1061\n",
            "2022-01-16 15:03:04,671 - mmdet - INFO - Epoch [4][110/233]\tlr: 2.500e-03, eta: 0:21:52, time: 0.381, data_time: 0.014, memory: 3446, loss_rpn_cls: 0.0002, loss_rpn_bbox: 0.0023, loss_cls: 0.0220, acc: 99.1276, loss_bbox: 0.0435, loss: 0.0679\n",
            "2022-01-16 15:03:08,489 - mmdet - INFO - Epoch [4][120/233]\tlr: 2.500e-03, eta: 0:21:48, time: 0.382, data_time: 0.015, memory: 3446, loss_rpn_cls: 0.0012, loss_rpn_bbox: 0.0028, loss_cls: 0.0241, acc: 99.1016, loss_bbox: 0.0547, loss: 0.0829\n",
            "2022-01-16 15:03:12,300 - mmdet - INFO - Epoch [4][130/233]\tlr: 2.500e-03, eta: 0:21:44, time: 0.381, data_time: 0.015, memory: 3446, loss_rpn_cls: 0.0012, loss_rpn_bbox: 0.0024, loss_cls: 0.0168, acc: 99.3750, loss_bbox: 0.0384, loss: 0.0588\n",
            "2022-01-16 15:03:16,114 - mmdet - INFO - Epoch [4][140/233]\tlr: 2.500e-03, eta: 0:21:40, time: 0.381, data_time: 0.015, memory: 3446, loss_rpn_cls: 0.0006, loss_rpn_bbox: 0.0031, loss_cls: 0.0282, acc: 98.9258, loss_bbox: 0.0559, loss: 0.0877\n",
            "2022-01-16 15:03:19,933 - mmdet - INFO - Epoch [4][150/233]\tlr: 2.500e-03, eta: 0:21:36, time: 0.382, data_time: 0.015, memory: 3446, loss_rpn_cls: 0.0002, loss_rpn_bbox: 0.0024, loss_cls: 0.0237, acc: 99.0885, loss_bbox: 0.0441, loss: 0.0704\n",
            "2022-01-16 15:03:23,758 - mmdet - INFO - Epoch [4][160/233]\tlr: 2.500e-03, eta: 0:21:32, time: 0.383, data_time: 0.015, memory: 3446, loss_rpn_cls: 0.0005, loss_rpn_bbox: 0.0023, loss_cls: 0.0232, acc: 99.1406, loss_bbox: 0.0525, loss: 0.0786\n",
            "2022-01-16 15:03:27,589 - mmdet - INFO - Epoch [4][170/233]\tlr: 2.500e-03, eta: 0:21:28, time: 0.383, data_time: 0.015, memory: 3446, loss_rpn_cls: 0.0003, loss_rpn_bbox: 0.0033, loss_cls: 0.0222, acc: 99.2253, loss_bbox: 0.0489, loss: 0.0748\n",
            "2022-01-16 15:03:31,428 - mmdet - INFO - Epoch [4][180/233]\tlr: 2.500e-03, eta: 0:21:24, time: 0.384, data_time: 0.015, memory: 3446, loss_rpn_cls: 0.0003, loss_rpn_bbox: 0.0023, loss_cls: 0.0188, acc: 99.2969, loss_bbox: 0.0451, loss: 0.0666\n",
            "2022-01-16 15:03:35,229 - mmdet - INFO - Epoch [4][190/233]\tlr: 2.500e-03, eta: 0:21:20, time: 0.380, data_time: 0.015, memory: 3446, loss_rpn_cls: 0.0005, loss_rpn_bbox: 0.0028, loss_cls: 0.0193, acc: 99.3424, loss_bbox: 0.0530, loss: 0.0756\n",
            "2022-01-16 15:03:39,025 - mmdet - INFO - Epoch [4][200/233]\tlr: 2.500e-03, eta: 0:21:15, time: 0.380, data_time: 0.015, memory: 3446, loss_rpn_cls: 0.0004, loss_rpn_bbox: 0.0039, loss_cls: 0.0274, acc: 99.0039, loss_bbox: 0.0679, loss: 0.0995\n",
            "2022-01-16 15:03:42,867 - mmdet - INFO - Epoch [4][210/233]\tlr: 2.500e-03, eta: 0:21:11, time: 0.384, data_time: 0.015, memory: 3446, loss_rpn_cls: 0.0003, loss_rpn_bbox: 0.0026, loss_cls: 0.0201, acc: 99.2969, loss_bbox: 0.0497, loss: 0.0727\n",
            "2022-01-16 15:03:46,708 - mmdet - INFO - Epoch [4][220/233]\tlr: 2.500e-03, eta: 0:21:07, time: 0.384, data_time: 0.015, memory: 3446, loss_rpn_cls: 0.0003, loss_rpn_bbox: 0.0026, loss_cls: 0.0195, acc: 99.2643, loss_bbox: 0.0417, loss: 0.0641\n",
            "2022-01-16 15:03:50,547 - mmdet - INFO - Epoch [4][230/233]\tlr: 2.500e-03, eta: 0:21:03, time: 0.384, data_time: 0.015, memory: 3446, loss_rpn_cls: 0.0004, loss_rpn_bbox: 0.0026, loss_cls: 0.0226, acc: 99.1341, loss_bbox: 0.0489, loss: 0.0746\n",
            "2022-01-16 15:03:57,765 - mmdet - INFO - Epoch [5][10/233]\tlr: 2.500e-03, eta: 0:21:02, time: 0.599, data_time: 0.226, memory: 3446, loss_rpn_cls: 0.0001, loss_rpn_bbox: 0.0027, loss_cls: 0.0190, acc: 99.2904, loss_bbox: 0.0475, loss: 0.0693\n",
            "2022-01-16 15:04:01,602 - mmdet - INFO - Epoch [5][20/233]\tlr: 2.500e-03, eta: 0:20:58, time: 0.384, data_time: 0.015, memory: 3446, loss_rpn_cls: 0.0017, loss_rpn_bbox: 0.0026, loss_cls: 0.0273, acc: 99.1602, loss_bbox: 0.0498, loss: 0.0814\n",
            "2022-01-16 15:04:05,389 - mmdet - INFO - Epoch [5][30/233]\tlr: 2.500e-03, eta: 0:20:53, time: 0.379, data_time: 0.015, memory: 3446, loss_rpn_cls: 0.0016, loss_rpn_bbox: 0.0030, loss_cls: 0.0353, acc: 98.8086, loss_bbox: 0.0626, loss: 0.1025\n",
            "2022-01-16 15:04:09,194 - mmdet - INFO - Epoch [5][40/233]\tlr: 2.500e-03, eta: 0:20:49, time: 0.381, data_time: 0.014, memory: 3446, loss_rpn_cls: 0.0007, loss_rpn_bbox: 0.0030, loss_cls: 0.0195, acc: 99.2448, loss_bbox: 0.0454, loss: 0.0686\n",
            "2022-01-16 15:04:12,969 - mmdet - INFO - Epoch [5][50/233]\tlr: 2.500e-03, eta: 0:20:45, time: 0.377, data_time: 0.015, memory: 3446, loss_rpn_cls: 0.0010, loss_rpn_bbox: 0.0022, loss_cls: 0.0156, acc: 99.4206, loss_bbox: 0.0395, loss: 0.0584\n",
            "2022-01-16 15:04:16,774 - mmdet - INFO - Epoch [5][60/233]\tlr: 2.500e-03, eta: 0:20:41, time: 0.380, data_time: 0.014, memory: 3446, loss_rpn_cls: 0.0003, loss_rpn_bbox: 0.0024, loss_cls: 0.0201, acc: 99.2773, loss_bbox: 0.0455, loss: 0.0684\n",
            "2022-01-16 15:04:20,577 - mmdet - INFO - Epoch [5][70/233]\tlr: 2.500e-03, eta: 0:20:37, time: 0.380, data_time: 0.014, memory: 3446, loss_rpn_cls: 0.0002, loss_rpn_bbox: 0.0027, loss_cls: 0.0214, acc: 99.1602, loss_bbox: 0.0407, loss: 0.0651\n",
            "2022-01-16 15:04:24,350 - mmdet - INFO - Epoch [5][80/233]\tlr: 2.500e-03, eta: 0:20:33, time: 0.377, data_time: 0.015, memory: 3446, loss_rpn_cls: 0.0004, loss_rpn_bbox: 0.0044, loss_cls: 0.0280, acc: 99.0169, loss_bbox: 0.0665, loss: 0.0993\n",
            "2022-01-16 15:04:28,153 - mmdet - INFO - Epoch [5][90/233]\tlr: 2.500e-03, eta: 0:20:29, time: 0.380, data_time: 0.014, memory: 3446, loss_rpn_cls: 0.0002, loss_rpn_bbox: 0.0021, loss_cls: 0.0231, acc: 99.2122, loss_bbox: 0.0511, loss: 0.0765\n",
            "2022-01-16 15:04:31,969 - mmdet - INFO - Epoch [5][100/233]\tlr: 2.500e-03, eta: 0:20:25, time: 0.382, data_time: 0.015, memory: 3446, loss_rpn_cls: 0.0002, loss_rpn_bbox: 0.0025, loss_cls: 0.0211, acc: 99.2839, loss_bbox: 0.0411, loss: 0.0649\n",
            "2022-01-16 15:04:35,781 - mmdet - INFO - Epoch [5][110/233]\tlr: 2.500e-03, eta: 0:20:20, time: 0.381, data_time: 0.015, memory: 3446, loss_rpn_cls: 0.0008, loss_rpn_bbox: 0.0026, loss_cls: 0.0187, acc: 99.3034, loss_bbox: 0.0470, loss: 0.0691\n",
            "2022-01-16 15:04:39,632 - mmdet - INFO - Epoch [5][120/233]\tlr: 2.500e-03, eta: 0:20:17, time: 0.385, data_time: 0.015, memory: 3446, loss_rpn_cls: 0.0008, loss_rpn_bbox: 0.0037, loss_cls: 0.0232, acc: 99.0820, loss_bbox: 0.0606, loss: 0.0883\n",
            "2022-01-16 15:04:43,410 - mmdet - INFO - Epoch [5][130/233]\tlr: 2.500e-03, eta: 0:20:12, time: 0.378, data_time: 0.014, memory: 3446, loss_rpn_cls: 0.0003, loss_rpn_bbox: 0.0017, loss_cls: 0.0153, acc: 99.4206, loss_bbox: 0.0310, loss: 0.0483\n",
            "2022-01-16 15:04:47,200 - mmdet - INFO - Epoch [5][140/233]\tlr: 2.500e-03, eta: 0:20:08, time: 0.379, data_time: 0.014, memory: 3446, loss_rpn_cls: 0.0002, loss_rpn_bbox: 0.0028, loss_cls: 0.0207, acc: 99.1667, loss_bbox: 0.0484, loss: 0.0722\n",
            "2022-01-16 15:04:51,039 - mmdet - INFO - Epoch [5][150/233]\tlr: 2.500e-03, eta: 0:20:04, time: 0.384, data_time: 0.014, memory: 3446, loss_rpn_cls: 0.0005, loss_rpn_bbox: 0.0031, loss_cls: 0.0374, acc: 98.7435, loss_bbox: 0.0632, loss: 0.1042\n",
            "2022-01-16 15:04:54,859 - mmdet - INFO - Epoch [5][160/233]\tlr: 2.500e-03, eta: 0:20:00, time: 0.382, data_time: 0.015, memory: 3446, loss_rpn_cls: 0.0007, loss_rpn_bbox: 0.0024, loss_cls: 0.0173, acc: 99.4466, loss_bbox: 0.0403, loss: 0.0608\n",
            "2022-01-16 15:04:58,656 - mmdet - INFO - Epoch [5][170/233]\tlr: 2.500e-03, eta: 0:19:56, time: 0.380, data_time: 0.015, memory: 3446, loss_rpn_cls: 0.0004, loss_rpn_bbox: 0.0019, loss_cls: 0.0153, acc: 99.4336, loss_bbox: 0.0333, loss: 0.0509\n",
            "2022-01-16 15:05:02,467 - mmdet - INFO - Epoch [5][180/233]\tlr: 2.500e-03, eta: 0:19:52, time: 0.381, data_time: 0.014, memory: 3446, loss_rpn_cls: 0.0001, loss_rpn_bbox: 0.0025, loss_cls: 0.0221, acc: 99.2122, loss_bbox: 0.0569, loss: 0.0817\n",
            "2022-01-16 15:05:06,272 - mmdet - INFO - Epoch [5][190/233]\tlr: 2.500e-03, eta: 0:19:48, time: 0.380, data_time: 0.015, memory: 3446, loss_rpn_cls: 0.0005, loss_rpn_bbox: 0.0021, loss_cls: 0.0169, acc: 99.3164, loss_bbox: 0.0401, loss: 0.0596\n",
            "2022-01-16 15:05:10,065 - mmdet - INFO - Epoch [5][200/233]\tlr: 2.500e-03, eta: 0:19:44, time: 0.379, data_time: 0.015, memory: 3446, loss_rpn_cls: 0.0002, loss_rpn_bbox: 0.0028, loss_cls: 0.0204, acc: 99.2708, loss_bbox: 0.0422, loss: 0.0655\n",
            "2022-01-16 15:05:13,886 - mmdet - INFO - Epoch [5][210/233]\tlr: 2.500e-03, eta: 0:19:40, time: 0.382, data_time: 0.015, memory: 3446, loss_rpn_cls: 0.0002, loss_rpn_bbox: 0.0030, loss_cls: 0.0237, acc: 99.0950, loss_bbox: 0.0513, loss: 0.0783\n",
            "2022-01-16 15:05:17,698 - mmdet - INFO - Epoch [5][220/233]\tlr: 2.500e-03, eta: 0:19:36, time: 0.381, data_time: 0.015, memory: 3446, loss_rpn_cls: 0.0006, loss_rpn_bbox: 0.0027, loss_cls: 0.0249, acc: 99.0625, loss_bbox: 0.0505, loss: 0.0787\n",
            "2022-01-16 15:05:21,498 - mmdet - INFO - Epoch [5][230/233]\tlr: 2.500e-03, eta: 0:19:32, time: 0.380, data_time: 0.015, memory: 3446, loss_rpn_cls: 0.0002, loss_rpn_bbox: 0.0015, loss_cls: 0.0167, acc: 99.3490, loss_bbox: 0.0325, loss: 0.0509\n",
            "2022-01-16 15:05:28,628 - mmdet - INFO - Epoch [6][10/233]\tlr: 2.500e-03, eta: 0:19:29, time: 0.592, data_time: 0.225, memory: 3446, loss_rpn_cls: 0.0003, loss_rpn_bbox: 0.0029, loss_cls: 0.0224, acc: 99.1927, loss_bbox: 0.0508, loss: 0.0764\n",
            "2022-01-16 15:05:32,430 - mmdet - INFO - Epoch [6][20/233]\tlr: 2.500e-03, eta: 0:19:25, time: 0.380, data_time: 0.015, memory: 3446, loss_rpn_cls: 0.0003, loss_rpn_bbox: 0.0022, loss_cls: 0.0191, acc: 99.3099, loss_bbox: 0.0414, loss: 0.0629\n",
            "2022-01-16 15:05:36,237 - mmdet - INFO - Epoch [6][30/233]\tlr: 2.500e-03, eta: 0:19:21, time: 0.381, data_time: 0.014, memory: 3446, loss_rpn_cls: 0.0001, loss_rpn_bbox: 0.0021, loss_cls: 0.0163, acc: 99.4141, loss_bbox: 0.0388, loss: 0.0573\n",
            "2022-01-16 15:05:40,039 - mmdet - INFO - Epoch [6][40/233]\tlr: 2.500e-03, eta: 0:19:17, time: 0.380, data_time: 0.014, memory: 3446, loss_rpn_cls: 0.0002, loss_rpn_bbox: 0.0024, loss_cls: 0.0197, acc: 99.2578, loss_bbox: 0.0481, loss: 0.0704\n",
            "2022-01-16 15:05:43,854 - mmdet - INFO - Epoch [6][50/233]\tlr: 2.500e-03, eta: 0:19:13, time: 0.381, data_time: 0.015, memory: 3446, loss_rpn_cls: 0.0001, loss_rpn_bbox: 0.0027, loss_cls: 0.0189, acc: 99.2839, loss_bbox: 0.0502, loss: 0.0719\n",
            "2022-01-16 15:05:47,677 - mmdet - INFO - Epoch [6][60/233]\tlr: 2.500e-03, eta: 0:19:09, time: 0.382, data_time: 0.014, memory: 3446, loss_rpn_cls: 0.0004, loss_rpn_bbox: 0.0027, loss_cls: 0.0194, acc: 99.3164, loss_bbox: 0.0506, loss: 0.0731\n",
            "2022-01-16 15:05:51,500 - mmdet - INFO - Epoch [6][70/233]\tlr: 2.500e-03, eta: 0:19:05, time: 0.382, data_time: 0.015, memory: 3446, loss_rpn_cls: 0.0007, loss_rpn_bbox: 0.0040, loss_cls: 0.0241, acc: 99.1536, loss_bbox: 0.0554, loss: 0.0841\n",
            "2022-01-16 15:05:55,345 - mmdet - INFO - Epoch [6][80/233]\tlr: 2.500e-03, eta: 0:19:01, time: 0.384, data_time: 0.014, memory: 3446, loss_rpn_cls: 0.0005, loss_rpn_bbox: 0.0023, loss_cls: 0.0170, acc: 99.3555, loss_bbox: 0.0394, loss: 0.0592\n",
            "2022-01-16 15:05:59,157 - mmdet - INFO - Epoch [6][90/233]\tlr: 2.500e-03, eta: 0:18:57, time: 0.381, data_time: 0.015, memory: 3446, loss_rpn_cls: 0.0003, loss_rpn_bbox: 0.0022, loss_cls: 0.0221, acc: 99.0885, loss_bbox: 0.0437, loss: 0.0682\n",
            "2022-01-16 15:06:02,958 - mmdet - INFO - Epoch [6][100/233]\tlr: 2.500e-03, eta: 0:18:53, time: 0.380, data_time: 0.015, memory: 3446, loss_rpn_cls: 0.0003, loss_rpn_bbox: 0.0030, loss_cls: 0.0234, acc: 99.1471, loss_bbox: 0.0530, loss: 0.0797\n",
            "2022-01-16 15:06:06,787 - mmdet - INFO - Epoch [6][110/233]\tlr: 2.500e-03, eta: 0:18:49, time: 0.383, data_time: 0.015, memory: 3446, loss_rpn_cls: 0.0005, loss_rpn_bbox: 0.0023, loss_cls: 0.0225, acc: 99.1276, loss_bbox: 0.0539, loss: 0.0792\n",
            "2022-01-16 15:06:10,600 - mmdet - INFO - Epoch [6][120/233]\tlr: 2.500e-03, eta: 0:18:45, time: 0.381, data_time: 0.015, memory: 3446, loss_rpn_cls: 0.0002, loss_rpn_bbox: 0.0035, loss_cls: 0.0224, acc: 99.1406, loss_bbox: 0.0550, loss: 0.0812\n",
            "2022-01-16 15:06:14,415 - mmdet - INFO - Epoch [6][130/233]\tlr: 2.500e-03, eta: 0:18:41, time: 0.381, data_time: 0.014, memory: 3446, loss_rpn_cls: 0.0005, loss_rpn_bbox: 0.0026, loss_cls: 0.0190, acc: 99.4206, loss_bbox: 0.0507, loss: 0.0729\n",
            "2022-01-16 15:06:18,226 - mmdet - INFO - Epoch [6][140/233]\tlr: 2.500e-03, eta: 0:18:37, time: 0.381, data_time: 0.014, memory: 3446, loss_rpn_cls: 0.0001, loss_rpn_bbox: 0.0016, loss_cls: 0.0194, acc: 99.4141, loss_bbox: 0.0304, loss: 0.0515\n",
            "2022-01-16 15:06:22,045 - mmdet - INFO - Epoch [6][150/233]\tlr: 2.500e-03, eta: 0:18:33, time: 0.382, data_time: 0.014, memory: 3446, loss_rpn_cls: 0.0003, loss_rpn_bbox: 0.0035, loss_cls: 0.0232, acc: 99.0755, loss_bbox: 0.0532, loss: 0.0802\n",
            "2022-01-16 15:06:25,852 - mmdet - INFO - Epoch [6][160/233]\tlr: 2.500e-03, eta: 0:18:29, time: 0.381, data_time: 0.015, memory: 3446, loss_rpn_cls: 0.0004, loss_rpn_bbox: 0.0029, loss_cls: 0.0193, acc: 99.3164, loss_bbox: 0.0465, loss: 0.0691\n",
            "2022-01-16 15:06:29,679 - mmdet - INFO - Epoch [6][170/233]\tlr: 2.500e-03, eta: 0:18:25, time: 0.383, data_time: 0.015, memory: 3446, loss_rpn_cls: 0.0001, loss_rpn_bbox: 0.0020, loss_cls: 0.0183, acc: 99.2773, loss_bbox: 0.0359, loss: 0.0563\n",
            "2022-01-16 15:06:33,481 - mmdet - INFO - Epoch [6][180/233]\tlr: 2.500e-03, eta: 0:18:21, time: 0.380, data_time: 0.015, memory: 3446, loss_rpn_cls: 0.0005, loss_rpn_bbox: 0.0024, loss_cls: 0.0212, acc: 99.0950, loss_bbox: 0.0437, loss: 0.0678\n",
            "2022-01-16 15:06:37,306 - mmdet - INFO - Epoch [6][190/233]\tlr: 2.500e-03, eta: 0:18:17, time: 0.383, data_time: 0.015, memory: 3446, loss_rpn_cls: 0.0001, loss_rpn_bbox: 0.0015, loss_cls: 0.0153, acc: 99.3945, loss_bbox: 0.0327, loss: 0.0496\n",
            "2022-01-16 15:06:41,139 - mmdet - INFO - Epoch [6][200/233]\tlr: 2.500e-03, eta: 0:18:13, time: 0.383, data_time: 0.015, memory: 3446, loss_rpn_cls: 0.0008, loss_rpn_bbox: 0.0013, loss_cls: 0.0124, acc: 99.5182, loss_bbox: 0.0284, loss: 0.0429\n",
            "2022-01-16 15:06:44,969 - mmdet - INFO - Epoch [6][210/233]\tlr: 2.500e-03, eta: 0:18:09, time: 0.383, data_time: 0.015, memory: 3446, loss_rpn_cls: 0.0003, loss_rpn_bbox: 0.0024, loss_cls: 0.0274, acc: 99.1211, loss_bbox: 0.0476, loss: 0.0775\n",
            "2022-01-16 15:06:48,761 - mmdet - INFO - Epoch [6][220/233]\tlr: 2.500e-03, eta: 0:18:05, time: 0.379, data_time: 0.015, memory: 3446, loss_rpn_cls: 0.0005, loss_rpn_bbox: 0.0023, loss_cls: 0.0171, acc: 99.3685, loss_bbox: 0.0422, loss: 0.0621\n",
            "2022-01-16 15:06:52,588 - mmdet - INFO - Epoch [6][230/233]\tlr: 2.500e-03, eta: 0:18:01, time: 0.383, data_time: 0.015, memory: 3446, loss_rpn_cls: 0.0001, loss_rpn_bbox: 0.0025, loss_cls: 0.0200, acc: 99.2383, loss_bbox: 0.0425, loss: 0.0652\n",
            "2022-01-16 15:06:53,729 - mmdet - INFO - Saving checkpoint at 6 epochs\n"
          ]
        },
        {
          "output_type": "stream",
          "name": "stdout",
          "text": [
            "[>>>>>>>>>>>>>>>>>>>>>>>>>>>>>>>>] 88/88, 15.7 task/s, elapsed: 6s, ETA:     0s"
          ]
        },
        {
          "output_type": "stream",
          "name": "stderr",
          "text": [
            "2022-01-16 15:07:00,904 - mmdet - INFO - Evaluating bbox...\n"
          ]
        },
        {
          "output_type": "stream",
          "name": "stdout",
          "text": [
            "Loading and preparing results...\n",
            "DONE (t=0.00s)\n",
            "creating index...\n",
            "index created!\n",
            "Running per image evaluation...\n",
            "Evaluate annotation type *bbox*\n",
            "DONE (t=0.06s).\n",
            "Accumulating evaluation results...\n"
          ]
        },
        {
          "output_type": "stream",
          "name": "stderr",
          "text": [
            "2022-01-16 15:07:01,009 - mmdet - INFO - \n",
            " Average Precision  (AP) @[ IoU=0.50:0.95 | area=   all | maxDets=100 ] = 0.717\n",
            " Average Precision  (AP) @[ IoU=0.50      | area=   all | maxDets=1000 ] = 0.927\n",
            " Average Precision  (AP) @[ IoU=0.75      | area=   all | maxDets=1000 ] = 0.789\n",
            " Average Precision  (AP) @[ IoU=0.50:0.95 | area= small | maxDets=1000 ] = 0.417\n",
            " Average Precision  (AP) @[ IoU=0.50:0.95 | area=medium | maxDets=1000 ] = 0.802\n",
            " Average Precision  (AP) @[ IoU=0.50:0.95 | area= large | maxDets=1000 ] = 0.831\n",
            " Average Recall     (AR) @[ IoU=0.50:0.95 | area=   all | maxDets=100 ] = 0.767\n",
            " Average Recall     (AR) @[ IoU=0.50:0.95 | area=   all | maxDets=300 ] = 0.767\n",
            " Average Recall     (AR) @[ IoU=0.50:0.95 | area=   all | maxDets=1000 ] = 0.767\n",
            " Average Recall     (AR) @[ IoU=0.50:0.95 | area= small | maxDets=1000 ] = 0.459\n",
            " Average Recall     (AR) @[ IoU=0.50:0.95 | area=medium | maxDets=1000 ] = 0.843\n",
            " Average Recall     (AR) @[ IoU=0.50:0.95 | area= large | maxDets=1000 ] = 0.859\n",
            "\n",
            "2022-01-16 15:07:01,012 - mmdet - INFO - Epoch(val) [6][88]\tbbox_mAP: 0.7170, bbox_mAP_50: 0.9270, bbox_mAP_75: 0.7890, bbox_mAP_s: 0.4170, bbox_mAP_m: 0.8020, bbox_mAP_l: 0.8310, bbox_mAP_copypaste: 0.717 0.927 0.789 0.417 0.802 0.831\n"
          ]
        },
        {
          "output_type": "stream",
          "name": "stdout",
          "text": [
            "DONE (t=0.04s).\n"
          ]
        },
        {
          "output_type": "stream",
          "name": "stderr",
          "text": [
            "2022-01-16 15:07:07,146 - mmdet - INFO - Epoch [7][10/233]\tlr: 2.500e-03, eta: 0:17:58, time: 0.604, data_time: 0.227, memory: 3446, loss_rpn_cls: 0.0004, loss_rpn_bbox: 0.0027, loss_cls: 0.0237, acc: 99.1797, loss_bbox: 0.0613, loss: 0.0881\n",
            "2022-01-16 15:07:10,987 - mmdet - INFO - Epoch [7][20/233]\tlr: 2.500e-03, eta: 0:17:54, time: 0.384, data_time: 0.015, memory: 3446, loss_rpn_cls: 0.0005, loss_rpn_bbox: 0.0022, loss_cls: 0.0164, acc: 99.3099, loss_bbox: 0.0385, loss: 0.0576\n",
            "2022-01-16 15:07:14,781 - mmdet - INFO - Epoch [7][30/233]\tlr: 2.500e-03, eta: 0:17:50, time: 0.379, data_time: 0.014, memory: 3446, loss_rpn_cls: 0.0002, loss_rpn_bbox: 0.0017, loss_cls: 0.0115, acc: 99.6094, loss_bbox: 0.0331, loss: 0.0465\n",
            "2022-01-16 15:07:18,616 - mmdet - INFO - Epoch [7][40/233]\tlr: 2.500e-03, eta: 0:17:47, time: 0.384, data_time: 0.014, memory: 3446, loss_rpn_cls: 0.0001, loss_rpn_bbox: 0.0014, loss_cls: 0.0140, acc: 99.4661, loss_bbox: 0.0318, loss: 0.0474\n",
            "2022-01-16 15:07:22,449 - mmdet - INFO - Epoch [7][50/233]\tlr: 2.500e-03, eta: 0:17:43, time: 0.383, data_time: 0.014, memory: 3446, loss_rpn_cls: 0.0002, loss_rpn_bbox: 0.0016, loss_cls: 0.0145, acc: 99.4466, loss_bbox: 0.0379, loss: 0.0541\n",
            "2022-01-16 15:07:26,293 - mmdet - INFO - Epoch [7][60/233]\tlr: 2.500e-03, eta: 0:17:39, time: 0.384, data_time: 0.014, memory: 3446, loss_rpn_cls: 0.0001, loss_rpn_bbox: 0.0019, loss_cls: 0.0170, acc: 99.4141, loss_bbox: 0.0372, loss: 0.0561\n",
            "2022-01-16 15:07:30,120 - mmdet - INFO - Epoch [7][70/233]\tlr: 2.500e-03, eta: 0:17:35, time: 0.383, data_time: 0.014, memory: 3446, loss_rpn_cls: 0.0001, loss_rpn_bbox: 0.0022, loss_cls: 0.0179, acc: 99.2643, loss_bbox: 0.0465, loss: 0.0667\n",
            "2022-01-16 15:07:33,973 - mmdet - INFO - Epoch [7][80/233]\tlr: 2.500e-03, eta: 0:17:31, time: 0.385, data_time: 0.014, memory: 3446, loss_rpn_cls: 0.0004, loss_rpn_bbox: 0.0023, loss_cls: 0.0174, acc: 99.3880, loss_bbox: 0.0460, loss: 0.0660\n",
            "2022-01-16 15:07:37,777 - mmdet - INFO - Epoch [7][90/233]\tlr: 2.500e-03, eta: 0:17:27, time: 0.380, data_time: 0.015, memory: 3446, loss_rpn_cls: 0.0001, loss_rpn_bbox: 0.0023, loss_cls: 0.0197, acc: 99.3164, loss_bbox: 0.0506, loss: 0.0727\n",
            "2022-01-16 15:07:41,596 - mmdet - INFO - Epoch [7][100/233]\tlr: 2.500e-03, eta: 0:17:23, time: 0.382, data_time: 0.014, memory: 3446, loss_rpn_cls: 0.0010, loss_rpn_bbox: 0.0023, loss_cls: 0.0215, acc: 99.1602, loss_bbox: 0.0454, loss: 0.0702\n",
            "2022-01-16 15:07:45,420 - mmdet - INFO - Epoch [7][110/233]\tlr: 2.500e-03, eta: 0:17:19, time: 0.382, data_time: 0.015, memory: 3446, loss_rpn_cls: 0.0006, loss_rpn_bbox: 0.0031, loss_cls: 0.0190, acc: 99.2839, loss_bbox: 0.0456, loss: 0.0684\n",
            "2022-01-16 15:07:49,232 - mmdet - INFO - Epoch [7][120/233]\tlr: 2.500e-03, eta: 0:17:15, time: 0.381, data_time: 0.015, memory: 3446, loss_rpn_cls: 0.0001, loss_rpn_bbox: 0.0024, loss_cls: 0.0183, acc: 99.3229, loss_bbox: 0.0389, loss: 0.0597\n",
            "2022-01-16 15:07:53,056 - mmdet - INFO - Epoch [7][130/233]\tlr: 2.500e-03, eta: 0:17:11, time: 0.382, data_time: 0.014, memory: 3446, loss_rpn_cls: 0.0002, loss_rpn_bbox: 0.0030, loss_cls: 0.0204, acc: 99.2253, loss_bbox: 0.0439, loss: 0.0676\n",
            "2022-01-16 15:07:56,912 - mmdet - INFO - Epoch [7][140/233]\tlr: 2.500e-03, eta: 0:17:07, time: 0.386, data_time: 0.015, memory: 3446, loss_rpn_cls: 0.0002, loss_rpn_bbox: 0.0031, loss_cls: 0.0176, acc: 99.3099, loss_bbox: 0.0403, loss: 0.0611\n",
            "2022-01-16 15:08:00,767 - mmdet - INFO - Epoch [7][150/233]\tlr: 2.500e-03, eta: 0:17:03, time: 0.385, data_time: 0.015, memory: 3446, loss_rpn_cls: 0.0002, loss_rpn_bbox: 0.0019, loss_cls: 0.0139, acc: 99.4596, loss_bbox: 0.0340, loss: 0.0499\n",
            "2022-01-16 15:08:04,614 - mmdet - INFO - Epoch [7][160/233]\tlr: 2.500e-03, eta: 0:16:59, time: 0.385, data_time: 0.015, memory: 3446, loss_rpn_cls: 0.0006, loss_rpn_bbox: 0.0031, loss_cls: 0.0271, acc: 99.0234, loss_bbox: 0.0429, loss: 0.0737\n",
            "2022-01-16 15:08:08,459 - mmdet - INFO - Epoch [7][170/233]\tlr: 2.500e-03, eta: 0:16:55, time: 0.384, data_time: 0.015, memory: 3446, loss_rpn_cls: 0.0005, loss_rpn_bbox: 0.0028, loss_cls: 0.0180, acc: 99.3620, loss_bbox: 0.0435, loss: 0.0648\n",
            "2022-01-16 15:08:12,277 - mmdet - INFO - Epoch [7][180/233]\tlr: 2.500e-03, eta: 0:16:51, time: 0.382, data_time: 0.015, memory: 3446, loss_rpn_cls: 0.0001, loss_rpn_bbox: 0.0016, loss_cls: 0.0147, acc: 99.4206, loss_bbox: 0.0343, loss: 0.0507\n",
            "2022-01-16 15:08:16,101 - mmdet - INFO - Epoch [7][190/233]\tlr: 2.500e-03, eta: 0:16:47, time: 0.382, data_time: 0.014, memory: 3446, loss_rpn_cls: 0.0002, loss_rpn_bbox: 0.0025, loss_cls: 0.0230, acc: 99.1536, loss_bbox: 0.0474, loss: 0.0731\n",
            "2022-01-16 15:08:19,903 - mmdet - INFO - Epoch [7][200/233]\tlr: 2.500e-03, eta: 0:16:43, time: 0.380, data_time: 0.015, memory: 3446, loss_rpn_cls: 0.0007, loss_rpn_bbox: 0.0028, loss_cls: 0.0253, acc: 99.0885, loss_bbox: 0.0492, loss: 0.0780\n",
            "2022-01-16 15:08:23,733 - mmdet - INFO - Epoch [7][210/233]\tlr: 2.500e-03, eta: 0:16:40, time: 0.383, data_time: 0.015, memory: 3446, loss_rpn_cls: 0.0003, loss_rpn_bbox: 0.0021, loss_cls: 0.0208, acc: 99.2187, loss_bbox: 0.0422, loss: 0.0653\n",
            "2022-01-16 15:08:27,562 - mmdet - INFO - Epoch [7][220/233]\tlr: 2.500e-03, eta: 0:16:36, time: 0.383, data_time: 0.015, memory: 3446, loss_rpn_cls: 0.0002, loss_rpn_bbox: 0.0027, loss_cls: 0.0175, acc: 99.3490, loss_bbox: 0.0449, loss: 0.0652\n",
            "2022-01-16 15:08:31,382 - mmdet - INFO - Epoch [7][230/233]\tlr: 2.500e-03, eta: 0:16:32, time: 0.382, data_time: 0.015, memory: 3446, loss_rpn_cls: 0.0002, loss_rpn_bbox: 0.0023, loss_cls: 0.0227, acc: 99.1016, loss_bbox: 0.0458, loss: 0.0711\n",
            "2022-01-16 15:08:38,558 - mmdet - INFO - Epoch [8][10/233]\tlr: 2.500e-03, eta: 0:16:28, time: 0.595, data_time: 0.226, memory: 3446, loss_rpn_cls: 0.0005, loss_rpn_bbox: 0.0024, loss_cls: 0.0196, acc: 99.2187, loss_bbox: 0.0436, loss: 0.0660\n",
            "2022-01-16 15:08:42,364 - mmdet - INFO - Epoch [8][20/233]\tlr: 2.500e-03, eta: 0:16:24, time: 0.381, data_time: 0.015, memory: 3446, loss_rpn_cls: 0.0001, loss_rpn_bbox: 0.0024, loss_cls: 0.0181, acc: 99.3229, loss_bbox: 0.0406, loss: 0.0612\n",
            "2022-01-16 15:08:46,169 - mmdet - INFO - Epoch [8][30/233]\tlr: 2.500e-03, eta: 0:16:20, time: 0.381, data_time: 0.014, memory: 3446, loss_rpn_cls: 0.0001, loss_rpn_bbox: 0.0021, loss_cls: 0.0206, acc: 99.2708, loss_bbox: 0.0432, loss: 0.0660\n",
            "2022-01-16 15:08:50,005 - mmdet - INFO - Epoch [8][40/233]\tlr: 2.500e-03, eta: 0:16:16, time: 0.384, data_time: 0.014, memory: 3446, loss_rpn_cls: 0.0001, loss_rpn_bbox: 0.0018, loss_cls: 0.0167, acc: 99.3424, loss_bbox: 0.0399, loss: 0.0585\n",
            "2022-01-16 15:08:53,838 - mmdet - INFO - Epoch [8][50/233]\tlr: 2.500e-03, eta: 0:16:12, time: 0.383, data_time: 0.015, memory: 3446, loss_rpn_cls: 0.0003, loss_rpn_bbox: 0.0017, loss_cls: 0.0135, acc: 99.5378, loss_bbox: 0.0332, loss: 0.0486\n",
            "2022-01-16 15:08:57,684 - mmdet - INFO - Epoch [8][60/233]\tlr: 2.500e-03, eta: 0:16:08, time: 0.385, data_time: 0.015, memory: 3446, loss_rpn_cls: 0.0001, loss_rpn_bbox: 0.0018, loss_cls: 0.0195, acc: 99.3034, loss_bbox: 0.0437, loss: 0.0651\n",
            "2022-01-16 15:09:01,535 - mmdet - INFO - Epoch [8][70/233]\tlr: 2.500e-03, eta: 0:16:04, time: 0.385, data_time: 0.015, memory: 3446, loss_rpn_cls: 0.0001, loss_rpn_bbox: 0.0016, loss_cls: 0.0127, acc: 99.5182, loss_bbox: 0.0293, loss: 0.0437\n",
            "2022-01-16 15:09:05,353 - mmdet - INFO - Epoch [8][80/233]\tlr: 2.500e-03, eta: 0:16:01, time: 0.382, data_time: 0.014, memory: 3446, loss_rpn_cls: 0.0001, loss_rpn_bbox: 0.0022, loss_cls: 0.0202, acc: 99.2448, loss_bbox: 0.0479, loss: 0.0705\n",
            "2022-01-16 15:09:09,167 - mmdet - INFO - Epoch [8][90/233]\tlr: 2.500e-03, eta: 0:15:57, time: 0.381, data_time: 0.015, memory: 3446, loss_rpn_cls: 0.0005, loss_rpn_bbox: 0.0022, loss_cls: 0.0185, acc: 99.2773, loss_bbox: 0.0464, loss: 0.0676\n",
            "2022-01-16 15:09:13,000 - mmdet - INFO - Epoch [8][100/233]\tlr: 2.500e-03, eta: 0:15:53, time: 0.383, data_time: 0.015, memory: 3446, loss_rpn_cls: 0.0001, loss_rpn_bbox: 0.0016, loss_cls: 0.0183, acc: 99.4141, loss_bbox: 0.0412, loss: 0.0613\n",
            "2022-01-16 15:09:16,837 - mmdet - INFO - Epoch [8][110/233]\tlr: 2.500e-03, eta: 0:15:49, time: 0.384, data_time: 0.015, memory: 3446, loss_rpn_cls: 0.0003, loss_rpn_bbox: 0.0027, loss_cls: 0.0157, acc: 99.4271, loss_bbox: 0.0393, loss: 0.0580\n",
            "2022-01-16 15:09:20,707 - mmdet - INFO - Epoch [8][120/233]\tlr: 2.500e-03, eta: 0:15:45, time: 0.387, data_time: 0.015, memory: 3446, loss_rpn_cls: 0.0003, loss_rpn_bbox: 0.0028, loss_cls: 0.0223, acc: 99.2708, loss_bbox: 0.0420, loss: 0.0673\n",
            "2022-01-16 15:09:24,531 - mmdet - INFO - Epoch [8][130/233]\tlr: 2.500e-03, eta: 0:15:41, time: 0.382, data_time: 0.015, memory: 3446, loss_rpn_cls: 0.0001, loss_rpn_bbox: 0.0023, loss_cls: 0.0190, acc: 99.2578, loss_bbox: 0.0448, loss: 0.0662\n",
            "2022-01-16 15:09:28,382 - mmdet - INFO - Epoch [8][140/233]\tlr: 2.500e-03, eta: 0:15:37, time: 0.385, data_time: 0.015, memory: 3446, loss_rpn_cls: 0.0006, loss_rpn_bbox: 0.0023, loss_cls: 0.0146, acc: 99.5247, loss_bbox: 0.0365, loss: 0.0540\n",
            "2022-01-16 15:09:32,237 - mmdet - INFO - Epoch [8][150/233]\tlr: 2.500e-03, eta: 0:15:33, time: 0.386, data_time: 0.015, memory: 3446, loss_rpn_cls: 0.0005, loss_rpn_bbox: 0.0022, loss_cls: 0.0145, acc: 99.4075, loss_bbox: 0.0321, loss: 0.0493\n",
            "2022-01-16 15:09:36,080 - mmdet - INFO - Epoch [8][160/233]\tlr: 2.500e-03, eta: 0:15:29, time: 0.384, data_time: 0.014, memory: 3446, loss_rpn_cls: 0.0003, loss_rpn_bbox: 0.0027, loss_cls: 0.0212, acc: 99.1862, loss_bbox: 0.0484, loss: 0.0726\n",
            "2022-01-16 15:09:39,933 - mmdet - INFO - Epoch [8][170/233]\tlr: 2.500e-03, eta: 0:15:25, time: 0.385, data_time: 0.015, memory: 3446, loss_rpn_cls: 0.0002, loss_rpn_bbox: 0.0022, loss_cls: 0.0137, acc: 99.5182, loss_bbox: 0.0355, loss: 0.0517\n",
            "2022-01-16 15:09:43,766 - mmdet - INFO - Epoch [8][180/233]\tlr: 2.500e-03, eta: 0:15:21, time: 0.383, data_time: 0.014, memory: 3446, loss_rpn_cls: 0.0003, loss_rpn_bbox: 0.0025, loss_cls: 0.0157, acc: 99.4596, loss_bbox: 0.0405, loss: 0.0590\n",
            "2022-01-16 15:09:47,625 - mmdet - INFO - Epoch [8][190/233]\tlr: 2.500e-03, eta: 0:15:18, time: 0.386, data_time: 0.015, memory: 3446, loss_rpn_cls: 0.0004, loss_rpn_bbox: 0.0021, loss_cls: 0.0127, acc: 99.5182, loss_bbox: 0.0313, loss: 0.0464\n",
            "2022-01-16 15:09:51,465 - mmdet - INFO - Epoch [8][200/233]\tlr: 2.500e-03, eta: 0:15:14, time: 0.384, data_time: 0.015, memory: 3446, loss_rpn_cls: 0.0006, loss_rpn_bbox: 0.0026, loss_cls: 0.0258, acc: 99.0039, loss_bbox: 0.0481, loss: 0.0770\n",
            "2022-01-16 15:09:55,294 - mmdet - INFO - Epoch [8][210/233]\tlr: 2.500e-03, eta: 0:15:10, time: 0.383, data_time: 0.014, memory: 3446, loss_rpn_cls: 0.0001, loss_rpn_bbox: 0.0025, loss_cls: 0.0242, acc: 98.9779, loss_bbox: 0.0580, loss: 0.0849\n",
            "2022-01-16 15:09:59,118 - mmdet - INFO - Epoch [8][220/233]\tlr: 2.500e-03, eta: 0:15:06, time: 0.382, data_time: 0.015, memory: 3446, loss_rpn_cls: 0.0003, loss_rpn_bbox: 0.0028, loss_cls: 0.0185, acc: 99.2969, loss_bbox: 0.0507, loss: 0.0723\n",
            "2022-01-16 15:10:02,942 - mmdet - INFO - Epoch [8][230/233]\tlr: 2.500e-03, eta: 0:15:02, time: 0.382, data_time: 0.014, memory: 3446, loss_rpn_cls: 0.0003, loss_rpn_bbox: 0.0017, loss_cls: 0.0138, acc: 99.4596, loss_bbox: 0.0368, loss: 0.0525\n",
            "2022-01-16 15:10:10,151 - mmdet - INFO - Epoch [9][10/233]\tlr: 2.500e-04, eta: 0:14:58, time: 0.599, data_time: 0.226, memory: 3446, loss_rpn_cls: 0.0001, loss_rpn_bbox: 0.0017, loss_cls: 0.0168, acc: 99.4792, loss_bbox: 0.0382, loss: 0.0569\n",
            "2022-01-16 15:10:13,978 - mmdet - INFO - Epoch [9][20/233]\tlr: 2.500e-04, eta: 0:14:54, time: 0.383, data_time: 0.015, memory: 3446, loss_rpn_cls: 0.0001, loss_rpn_bbox: 0.0018, loss_cls: 0.0134, acc: 99.5573, loss_bbox: 0.0332, loss: 0.0485\n",
            "2022-01-16 15:10:17,833 - mmdet - INFO - Epoch [9][30/233]\tlr: 2.500e-04, eta: 0:14:50, time: 0.386, data_time: 0.015, memory: 3446, loss_rpn_cls: 0.0004, loss_rpn_bbox: 0.0023, loss_cls: 0.0181, acc: 99.2773, loss_bbox: 0.0381, loss: 0.0590\n",
            "2022-01-16 15:10:21,655 - mmdet - INFO - Epoch [9][40/233]\tlr: 2.500e-04, eta: 0:14:46, time: 0.382, data_time: 0.015, memory: 3446, loss_rpn_cls: 0.0006, loss_rpn_bbox: 0.0020, loss_cls: 0.0184, acc: 99.3424, loss_bbox: 0.0390, loss: 0.0601\n",
            "2022-01-16 15:10:25,492 - mmdet - INFO - Epoch [9][50/233]\tlr: 2.500e-04, eta: 0:14:42, time: 0.384, data_time: 0.014, memory: 3446, loss_rpn_cls: 0.0002, loss_rpn_bbox: 0.0019, loss_cls: 0.0144, acc: 99.4010, loss_bbox: 0.0285, loss: 0.0450\n",
            "2022-01-16 15:10:29,319 - mmdet - INFO - Epoch [9][60/233]\tlr: 2.500e-04, eta: 0:14:38, time: 0.383, data_time: 0.014, memory: 3446, loss_rpn_cls: 0.0004, loss_rpn_bbox: 0.0017, loss_cls: 0.0150, acc: 99.4010, loss_bbox: 0.0358, loss: 0.0529\n",
            "2022-01-16 15:10:33,151 - mmdet - INFO - Epoch [9][70/233]\tlr: 2.500e-04, eta: 0:14:35, time: 0.383, data_time: 0.016, memory: 3446, loss_rpn_cls: 0.0001, loss_rpn_bbox: 0.0015, loss_cls: 0.0156, acc: 99.4466, loss_bbox: 0.0296, loss: 0.0468\n",
            "2022-01-16 15:10:37,001 - mmdet - INFO - Epoch [9][80/233]\tlr: 2.500e-04, eta: 0:14:31, time: 0.385, data_time: 0.015, memory: 3446, loss_rpn_cls: 0.0002, loss_rpn_bbox: 0.0017, loss_cls: 0.0155, acc: 99.4466, loss_bbox: 0.0307, loss: 0.0482\n",
            "2022-01-16 15:10:40,823 - mmdet - INFO - Epoch [9][90/233]\tlr: 2.500e-04, eta: 0:14:27, time: 0.382, data_time: 0.015, memory: 3446, loss_rpn_cls: 0.0001, loss_rpn_bbox: 0.0021, loss_cls: 0.0167, acc: 99.4141, loss_bbox: 0.0373, loss: 0.0562\n",
            "2022-01-16 15:10:44,646 - mmdet - INFO - Epoch [9][100/233]\tlr: 2.500e-04, eta: 0:14:23, time: 0.382, data_time: 0.014, memory: 3446, loss_rpn_cls: 0.0001, loss_rpn_bbox: 0.0025, loss_cls: 0.0211, acc: 99.1992, loss_bbox: 0.0409, loss: 0.0645\n",
            "2022-01-16 15:10:48,487 - mmdet - INFO - Epoch [9][110/233]\tlr: 2.500e-04, eta: 0:14:19, time: 0.384, data_time: 0.014, memory: 3446, loss_rpn_cls: 0.0001, loss_rpn_bbox: 0.0020, loss_cls: 0.0147, acc: 99.4857, loss_bbox: 0.0292, loss: 0.0461\n",
            "2022-01-16 15:10:52,310 - mmdet - INFO - Epoch [9][120/233]\tlr: 2.500e-04, eta: 0:14:15, time: 0.382, data_time: 0.015, memory: 3446, loss_rpn_cls: 0.0014, loss_rpn_bbox: 0.0024, loss_cls: 0.0272, acc: 98.9974, loss_bbox: 0.0489, loss: 0.0798\n",
            "2022-01-16 15:10:56,145 - mmdet - INFO - Epoch [9][130/233]\tlr: 2.500e-04, eta: 0:14:11, time: 0.383, data_time: 0.015, memory: 3446, loss_rpn_cls: 0.0002, loss_rpn_bbox: 0.0021, loss_cls: 0.0156, acc: 99.4792, loss_bbox: 0.0313, loss: 0.0492\n",
            "2022-01-16 15:10:59,989 - mmdet - INFO - Epoch [9][140/233]\tlr: 2.500e-04, eta: 0:14:07, time: 0.384, data_time: 0.015, memory: 3446, loss_rpn_cls: 0.0004, loss_rpn_bbox: 0.0021, loss_cls: 0.0165, acc: 99.3685, loss_bbox: 0.0322, loss: 0.0513\n",
            "2022-01-16 15:11:03,814 - mmdet - INFO - Epoch [9][150/233]\tlr: 2.500e-04, eta: 0:14:03, time: 0.382, data_time: 0.015, memory: 3446, loss_rpn_cls: 0.0007, loss_rpn_bbox: 0.0021, loss_cls: 0.0153, acc: 99.4922, loss_bbox: 0.0315, loss: 0.0496\n",
            "2022-01-16 15:11:07,662 - mmdet - INFO - Epoch [9][160/233]\tlr: 2.500e-04, eta: 0:13:59, time: 0.385, data_time: 0.015, memory: 3446, loss_rpn_cls: 0.0002, loss_rpn_bbox: 0.0027, loss_cls: 0.0161, acc: 99.4727, loss_bbox: 0.0357, loss: 0.0547\n",
            "2022-01-16 15:11:11,485 - mmdet - INFO - Epoch [9][170/233]\tlr: 2.500e-04, eta: 0:13:55, time: 0.382, data_time: 0.015, memory: 3446, loss_rpn_cls: 0.0003, loss_rpn_bbox: 0.0015, loss_cls: 0.0110, acc: 99.6354, loss_bbox: 0.0253, loss: 0.0382\n",
            "2022-01-16 15:11:15,334 - mmdet - INFO - Epoch [9][180/233]\tlr: 2.500e-04, eta: 0:13:52, time: 0.385, data_time: 0.015, memory: 3446, loss_rpn_cls: 0.0002, loss_rpn_bbox: 0.0017, loss_cls: 0.0150, acc: 99.4206, loss_bbox: 0.0313, loss: 0.0481\n",
            "2022-01-16 15:11:19,183 - mmdet - INFO - Epoch [9][190/233]\tlr: 2.500e-04, eta: 0:13:48, time: 0.385, data_time: 0.015, memory: 3446, loss_rpn_cls: 0.0001, loss_rpn_bbox: 0.0017, loss_cls: 0.0125, acc: 99.4401, loss_bbox: 0.0251, loss: 0.0393\n",
            "2022-01-16 15:11:23,013 - mmdet - INFO - Epoch [9][200/233]\tlr: 2.500e-04, eta: 0:13:44, time: 0.383, data_time: 0.015, memory: 3446, loss_rpn_cls: 0.0003, loss_rpn_bbox: 0.0019, loss_cls: 0.0149, acc: 99.4596, loss_bbox: 0.0305, loss: 0.0476\n",
            "2022-01-16 15:11:26,856 - mmdet - INFO - Epoch [9][210/233]\tlr: 2.500e-04, eta: 0:13:40, time: 0.384, data_time: 0.015, memory: 3446, loss_rpn_cls: 0.0007, loss_rpn_bbox: 0.0016, loss_cls: 0.0183, acc: 99.2969, loss_bbox: 0.0321, loss: 0.0526\n",
            "2022-01-16 15:11:30,699 - mmdet - INFO - Epoch [9][220/233]\tlr: 2.500e-04, eta: 0:13:36, time: 0.384, data_time: 0.015, memory: 3446, loss_rpn_cls: 0.0000, loss_rpn_bbox: 0.0016, loss_cls: 0.0129, acc: 99.5247, loss_bbox: 0.0288, loss: 0.0433\n",
            "2022-01-16 15:11:34,549 - mmdet - INFO - Epoch [9][230/233]\tlr: 2.500e-04, eta: 0:13:32, time: 0.385, data_time: 0.015, memory: 3446, loss_rpn_cls: 0.0002, loss_rpn_bbox: 0.0018, loss_cls: 0.0151, acc: 99.5182, loss_bbox: 0.0266, loss: 0.0437\n",
            "2022-01-16 15:11:35,683 - mmdet - INFO - Saving checkpoint at 9 epochs\n"
          ]
        },
        {
          "output_type": "stream",
          "name": "stdout",
          "text": [
            "[>>>>>>>>>>>>>>>>>>>>>>>>>>>>>>>>] 88/88, 15.7 task/s, elapsed: 6s, ETA:     0s"
          ]
        },
        {
          "output_type": "stream",
          "name": "stderr",
          "text": [
            "2022-01-16 15:11:42,803 - mmdet - INFO - Evaluating bbox...\n"
          ]
        },
        {
          "output_type": "stream",
          "name": "stdout",
          "text": [
            "Loading and preparing results...\n",
            "DONE (t=0.00s)\n",
            "creating index...\n",
            "index created!\n",
            "Running per image evaluation...\n",
            "Evaluate annotation type *bbox*\n",
            "DONE (t=0.05s).\n",
            "Accumulating evaluation results...\n"
          ]
        },
        {
          "output_type": "stream",
          "name": "stderr",
          "text": [
            "2022-01-16 15:11:42,901 - mmdet - INFO - \n",
            " Average Precision  (AP) @[ IoU=0.50:0.95 | area=   all | maxDets=100 ] = 0.716\n",
            " Average Precision  (AP) @[ IoU=0.50      | area=   all | maxDets=1000 ] = 0.924\n",
            " Average Precision  (AP) @[ IoU=0.75      | area=   all | maxDets=1000 ] = 0.826\n",
            " Average Precision  (AP) @[ IoU=0.50:0.95 | area= small | maxDets=1000 ] = 0.406\n",
            " Average Precision  (AP) @[ IoU=0.50:0.95 | area=medium | maxDets=1000 ] = 0.818\n",
            " Average Precision  (AP) @[ IoU=0.50:0.95 | area= large | maxDets=1000 ] = 0.827\n",
            " Average Recall     (AR) @[ IoU=0.50:0.95 | area=   all | maxDets=100 ] = 0.775\n",
            " Average Recall     (AR) @[ IoU=0.50:0.95 | area=   all | maxDets=300 ] = 0.775\n",
            " Average Recall     (AR) @[ IoU=0.50:0.95 | area=   all | maxDets=1000 ] = 0.775\n",
            " Average Recall     (AR) @[ IoU=0.50:0.95 | area= small | maxDets=1000 ] = 0.454\n",
            " Average Recall     (AR) @[ IoU=0.50:0.95 | area=medium | maxDets=1000 ] = 0.864\n",
            " Average Recall     (AR) @[ IoU=0.50:0.95 | area= large | maxDets=1000 ] = 0.867\n",
            "\n",
            "2022-01-16 15:11:42,904 - mmdet - INFO - Epoch(val) [9][88]\tbbox_mAP: 0.7160, bbox_mAP_50: 0.9240, bbox_mAP_75: 0.8260, bbox_mAP_s: 0.4060, bbox_mAP_m: 0.8180, bbox_mAP_l: 0.8270, bbox_mAP_copypaste: 0.716 0.924 0.826 0.406 0.818 0.827\n"
          ]
        },
        {
          "output_type": "stream",
          "name": "stdout",
          "text": [
            "DONE (t=0.04s).\n"
          ]
        },
        {
          "output_type": "stream",
          "name": "stderr",
          "text": [
            "2022-01-16 15:11:49,002 - mmdet - INFO - Epoch [10][10/233]\tlr: 2.500e-04, eta: 0:13:28, time: 0.601, data_time: 0.228, memory: 3446, loss_rpn_cls: 0.0004, loss_rpn_bbox: 0.0017, loss_cls: 0.0154, acc: 99.4727, loss_bbox: 0.0336, loss: 0.0510\n",
            "2022-01-16 15:11:52,855 - mmdet - INFO - Epoch [10][20/233]\tlr: 2.500e-04, eta: 0:13:24, time: 0.385, data_time: 0.015, memory: 3446, loss_rpn_cls: 0.0004, loss_rpn_bbox: 0.0015, loss_cls: 0.0124, acc: 99.4922, loss_bbox: 0.0289, loss: 0.0432\n",
            "2022-01-16 15:11:56,709 - mmdet - INFO - Epoch [10][30/233]\tlr: 2.500e-04, eta: 0:13:20, time: 0.385, data_time: 0.014, memory: 3446, loss_rpn_cls: 0.0001, loss_rpn_bbox: 0.0015, loss_cls: 0.0132, acc: 99.4987, loss_bbox: 0.0281, loss: 0.0429\n",
            "2022-01-16 15:12:00,559 - mmdet - INFO - Epoch [10][40/233]\tlr: 2.500e-04, eta: 0:13:16, time: 0.385, data_time: 0.015, memory: 3446, loss_rpn_cls: 0.0002, loss_rpn_bbox: 0.0021, loss_cls: 0.0172, acc: 99.3490, loss_bbox: 0.0323, loss: 0.0519\n",
            "2022-01-16 15:12:04,398 - mmdet - INFO - Epoch [10][50/233]\tlr: 2.500e-04, eta: 0:13:12, time: 0.384, data_time: 0.014, memory: 3446, loss_rpn_cls: 0.0000, loss_rpn_bbox: 0.0013, loss_cls: 0.0102, acc: 99.6419, loss_bbox: 0.0237, loss: 0.0352\n",
            "2022-01-16 15:12:08,239 - mmdet - INFO - Epoch [10][60/233]\tlr: 2.500e-04, eta: 0:13:08, time: 0.384, data_time: 0.015, memory: 3446, loss_rpn_cls: 0.0002, loss_rpn_bbox: 0.0016, loss_cls: 0.0156, acc: 99.4075, loss_bbox: 0.0318, loss: 0.0492\n",
            "2022-01-16 15:12:12,054 - mmdet - INFO - Epoch [10][70/233]\tlr: 2.500e-04, eta: 0:13:05, time: 0.382, data_time: 0.015, memory: 3446, loss_rpn_cls: 0.0002, loss_rpn_bbox: 0.0021, loss_cls: 0.0146, acc: 99.4661, loss_bbox: 0.0337, loss: 0.0506\n",
            "2022-01-16 15:12:15,898 - mmdet - INFO - Epoch [10][80/233]\tlr: 2.500e-04, eta: 0:13:01, time: 0.384, data_time: 0.016, memory: 3446, loss_rpn_cls: 0.0002, loss_rpn_bbox: 0.0019, loss_cls: 0.0128, acc: 99.4987, loss_bbox: 0.0279, loss: 0.0428\n",
            "2022-01-16 15:12:19,754 - mmdet - INFO - Epoch [10][90/233]\tlr: 2.500e-04, eta: 0:12:57, time: 0.386, data_time: 0.015, memory: 3446, loss_rpn_cls: 0.0002, loss_rpn_bbox: 0.0016, loss_cls: 0.0163, acc: 99.3555, loss_bbox: 0.0331, loss: 0.0512\n",
            "2022-01-16 15:12:23,592 - mmdet - INFO - Epoch [10][100/233]\tlr: 2.500e-04, eta: 0:12:53, time: 0.384, data_time: 0.014, memory: 3446, loss_rpn_cls: 0.0002, loss_rpn_bbox: 0.0016, loss_cls: 0.0155, acc: 99.4531, loss_bbox: 0.0318, loss: 0.0491\n",
            "2022-01-16 15:12:27,443 - mmdet - INFO - Epoch [10][110/233]\tlr: 2.500e-04, eta: 0:12:49, time: 0.385, data_time: 0.014, memory: 3446, loss_rpn_cls: 0.0001, loss_rpn_bbox: 0.0013, loss_cls: 0.0103, acc: 99.6745, loss_bbox: 0.0223, loss: 0.0340\n",
            "2022-01-16 15:12:31,259 - mmdet - INFO - Epoch [10][120/233]\tlr: 2.500e-04, eta: 0:12:45, time: 0.382, data_time: 0.014, memory: 3446, loss_rpn_cls: 0.0001, loss_rpn_bbox: 0.0022, loss_cls: 0.0195, acc: 99.2904, loss_bbox: 0.0384, loss: 0.0603\n",
            "2022-01-16 15:12:35,127 - mmdet - INFO - Epoch [10][130/233]\tlr: 2.500e-04, eta: 0:12:41, time: 0.387, data_time: 0.015, memory: 3446, loss_rpn_cls: 0.0002, loss_rpn_bbox: 0.0027, loss_cls: 0.0205, acc: 99.3229, loss_bbox: 0.0381, loss: 0.0615\n",
            "2022-01-16 15:12:38,971 - mmdet - INFO - Epoch [10][140/233]\tlr: 2.500e-04, eta: 0:12:37, time: 0.384, data_time: 0.015, memory: 3446, loss_rpn_cls: 0.0002, loss_rpn_bbox: 0.0014, loss_cls: 0.0124, acc: 99.5833, loss_bbox: 0.0290, loss: 0.0430\n",
            "2022-01-16 15:12:42,819 - mmdet - INFO - Epoch [10][150/233]\tlr: 2.500e-04, eta: 0:12:33, time: 0.385, data_time: 0.015, memory: 3446, loss_rpn_cls: 0.0001, loss_rpn_bbox: 0.0020, loss_cls: 0.0151, acc: 99.4401, loss_bbox: 0.0333, loss: 0.0505\n",
            "2022-01-16 15:12:46,658 - mmdet - INFO - Epoch [10][160/233]\tlr: 2.500e-04, eta: 0:12:29, time: 0.384, data_time: 0.015, memory: 3446, loss_rpn_cls: 0.0001, loss_rpn_bbox: 0.0017, loss_cls: 0.0180, acc: 99.3685, loss_bbox: 0.0310, loss: 0.0508\n",
            "2022-01-16 15:12:50,523 - mmdet - INFO - Epoch [10][170/233]\tlr: 2.500e-04, eta: 0:12:26, time: 0.387, data_time: 0.015, memory: 3446, loss_rpn_cls: 0.0006, loss_rpn_bbox: 0.0025, loss_cls: 0.0148, acc: 99.4010, loss_bbox: 0.0323, loss: 0.0502\n",
            "2022-01-16 15:12:54,367 - mmdet - INFO - Epoch [10][180/233]\tlr: 2.500e-04, eta: 0:12:22, time: 0.384, data_time: 0.015, memory: 3446, loss_rpn_cls: 0.0001, loss_rpn_bbox: 0.0017, loss_cls: 0.0142, acc: 99.4531, loss_bbox: 0.0302, loss: 0.0463\n",
            "2022-01-16 15:12:58,205 - mmdet - INFO - Epoch [10][190/233]\tlr: 2.500e-04, eta: 0:12:18, time: 0.384, data_time: 0.015, memory: 3446, loss_rpn_cls: 0.0001, loss_rpn_bbox: 0.0016, loss_cls: 0.0143, acc: 99.4336, loss_bbox: 0.0266, loss: 0.0426\n",
            "2022-01-16 15:13:02,042 - mmdet - INFO - Epoch [10][200/233]\tlr: 2.500e-04, eta: 0:12:14, time: 0.384, data_time: 0.015, memory: 3446, loss_rpn_cls: 0.0001, loss_rpn_bbox: 0.0015, loss_cls: 0.0121, acc: 99.5573, loss_bbox: 0.0269, loss: 0.0406\n",
            "2022-01-16 15:13:05,894 - mmdet - INFO - Epoch [10][210/233]\tlr: 2.500e-04, eta: 0:12:10, time: 0.385, data_time: 0.015, memory: 3446, loss_rpn_cls: 0.0002, loss_rpn_bbox: 0.0024, loss_cls: 0.0204, acc: 99.2383, loss_bbox: 0.0463, loss: 0.0693\n",
            "2022-01-16 15:13:09,742 - mmdet - INFO - Epoch [10][220/233]\tlr: 2.500e-04, eta: 0:12:06, time: 0.385, data_time: 0.015, memory: 3446, loss_rpn_cls: 0.0004, loss_rpn_bbox: 0.0021, loss_cls: 0.0136, acc: 99.5117, loss_bbox: 0.0271, loss: 0.0433\n",
            "2022-01-16 15:13:13,566 - mmdet - INFO - Epoch [10][230/233]\tlr: 2.500e-04, eta: 0:12:02, time: 0.382, data_time: 0.014, memory: 3446, loss_rpn_cls: 0.0009, loss_rpn_bbox: 0.0016, loss_cls: 0.0214, acc: 99.2448, loss_bbox: 0.0340, loss: 0.0579\n",
            "2022-01-16 15:13:20,754 - mmdet - INFO - Epoch [11][10/233]\tlr: 2.500e-04, eta: 0:11:58, time: 0.597, data_time: 0.226, memory: 3446, loss_rpn_cls: 0.0001, loss_rpn_bbox: 0.0016, loss_cls: 0.0142, acc: 99.4857, loss_bbox: 0.0295, loss: 0.0455\n",
            "2022-01-16 15:13:24,576 - mmdet - INFO - Epoch [11][20/233]\tlr: 2.500e-04, eta: 0:11:54, time: 0.382, data_time: 0.014, memory: 3446, loss_rpn_cls: 0.0002, loss_rpn_bbox: 0.0021, loss_cls: 0.0178, acc: 99.3555, loss_bbox: 0.0327, loss: 0.0528\n",
            "2022-01-16 15:13:28,413 - mmdet - INFO - Epoch [11][30/233]\tlr: 2.500e-04, eta: 0:11:50, time: 0.384, data_time: 0.015, memory: 3446, loss_rpn_cls: 0.0006, loss_rpn_bbox: 0.0023, loss_cls: 0.0164, acc: 99.3815, loss_bbox: 0.0339, loss: 0.0533\n",
            "2022-01-16 15:13:32,243 - mmdet - INFO - Epoch [11][40/233]\tlr: 2.500e-04, eta: 0:11:46, time: 0.383, data_time: 0.014, memory: 3446, loss_rpn_cls: 0.0001, loss_rpn_bbox: 0.0015, loss_cls: 0.0137, acc: 99.4661, loss_bbox: 0.0304, loss: 0.0457\n",
            "2022-01-16 15:13:36,094 - mmdet - INFO - Epoch [11][50/233]\tlr: 2.500e-04, eta: 0:11:42, time: 0.385, data_time: 0.015, memory: 3446, loss_rpn_cls: 0.0001, loss_rpn_bbox: 0.0012, loss_cls: 0.0106, acc: 99.6419, loss_bbox: 0.0214, loss: 0.0332\n",
            "2022-01-16 15:13:39,944 - mmdet - INFO - Epoch [11][60/233]\tlr: 2.500e-04, eta: 0:11:38, time: 0.385, data_time: 0.015, memory: 3446, loss_rpn_cls: 0.0005, loss_rpn_bbox: 0.0019, loss_cls: 0.0146, acc: 99.4141, loss_bbox: 0.0311, loss: 0.0481\n",
            "2022-01-16 15:13:43,791 - mmdet - INFO - Epoch [11][70/233]\tlr: 2.500e-04, eta: 0:11:35, time: 0.385, data_time: 0.015, memory: 3446, loss_rpn_cls: 0.0002, loss_rpn_bbox: 0.0024, loss_cls: 0.0169, acc: 99.3620, loss_bbox: 0.0396, loss: 0.0590\n",
            "2022-01-16 15:13:47,624 - mmdet - INFO - Epoch [11][80/233]\tlr: 2.500e-04, eta: 0:11:31, time: 0.383, data_time: 0.015, memory: 3446, loss_rpn_cls: 0.0004, loss_rpn_bbox: 0.0019, loss_cls: 0.0169, acc: 99.3229, loss_bbox: 0.0315, loss: 0.0507\n",
            "2022-01-16 15:13:51,465 - mmdet - INFO - Epoch [11][90/233]\tlr: 2.500e-04, eta: 0:11:27, time: 0.384, data_time: 0.015, memory: 3446, loss_rpn_cls: 0.0002, loss_rpn_bbox: 0.0012, loss_cls: 0.0163, acc: 99.4141, loss_bbox: 0.0240, loss: 0.0417\n",
            "2022-01-16 15:13:55,289 - mmdet - INFO - Epoch [11][100/233]\tlr: 2.500e-04, eta: 0:11:23, time: 0.382, data_time: 0.014, memory: 3446, loss_rpn_cls: 0.0001, loss_rpn_bbox: 0.0019, loss_cls: 0.0152, acc: 99.4531, loss_bbox: 0.0320, loss: 0.0491\n",
            "2022-01-16 15:13:59,133 - mmdet - INFO - Epoch [11][110/233]\tlr: 2.500e-04, eta: 0:11:19, time: 0.384, data_time: 0.015, memory: 3446, loss_rpn_cls: 0.0001, loss_rpn_bbox: 0.0017, loss_cls: 0.0121, acc: 99.4987, loss_bbox: 0.0244, loss: 0.0383\n",
            "2022-01-16 15:14:03,004 - mmdet - INFO - Epoch [11][120/233]\tlr: 2.500e-04, eta: 0:11:15, time: 0.387, data_time: 0.015, memory: 3446, loss_rpn_cls: 0.0001, loss_rpn_bbox: 0.0020, loss_cls: 0.0153, acc: 99.4596, loss_bbox: 0.0304, loss: 0.0478\n",
            "2022-01-16 15:14:06,843 - mmdet - INFO - Epoch [11][130/233]\tlr: 2.500e-04, eta: 0:11:11, time: 0.384, data_time: 0.015, memory: 3446, loss_rpn_cls: 0.0002, loss_rpn_bbox: 0.0018, loss_cls: 0.0166, acc: 99.3945, loss_bbox: 0.0348, loss: 0.0533\n",
            "2022-01-16 15:14:10,695 - mmdet - INFO - Epoch [11][140/233]\tlr: 2.500e-04, eta: 0:11:07, time: 0.385, data_time: 0.015, memory: 3446, loss_rpn_cls: 0.0001, loss_rpn_bbox: 0.0017, loss_cls: 0.0127, acc: 99.5443, loss_bbox: 0.0261, loss: 0.0406\n",
            "2022-01-16 15:14:14,545 - mmdet - INFO - Epoch [11][150/233]\tlr: 2.500e-04, eta: 0:11:03, time: 0.385, data_time: 0.015, memory: 3446, loss_rpn_cls: 0.0002, loss_rpn_bbox: 0.0021, loss_cls: 0.0168, acc: 99.3945, loss_bbox: 0.0379, loss: 0.0570\n",
            "2022-01-16 15:14:18,374 - mmdet - INFO - Epoch [11][160/233]\tlr: 2.500e-04, eta: 0:10:59, time: 0.383, data_time: 0.014, memory: 3446, loss_rpn_cls: 0.0001, loss_rpn_bbox: 0.0020, loss_cls: 0.0168, acc: 99.3750, loss_bbox: 0.0346, loss: 0.0536\n",
            "2022-01-16 15:14:22,213 - mmdet - INFO - Epoch [11][170/233]\tlr: 2.500e-04, eta: 0:10:56, time: 0.384, data_time: 0.015, memory: 3446, loss_rpn_cls: 0.0002, loss_rpn_bbox: 0.0021, loss_cls: 0.0209, acc: 99.2057, loss_bbox: 0.0436, loss: 0.0669\n",
            "2022-01-16 15:14:26,047 - mmdet - INFO - Epoch [11][180/233]\tlr: 2.500e-04, eta: 0:10:52, time: 0.383, data_time: 0.015, memory: 3446, loss_rpn_cls: 0.0003, loss_rpn_bbox: 0.0016, loss_cls: 0.0156, acc: 99.4076, loss_bbox: 0.0321, loss: 0.0496\n",
            "2022-01-16 15:14:29,884 - mmdet - INFO - Epoch [11][190/233]\tlr: 2.500e-04, eta: 0:10:48, time: 0.384, data_time: 0.014, memory: 3446, loss_rpn_cls: 0.0009, loss_rpn_bbox: 0.0017, loss_cls: 0.0194, acc: 99.3945, loss_bbox: 0.0336, loss: 0.0556\n",
            "2022-01-16 15:14:33,710 - mmdet - INFO - Epoch [11][200/233]\tlr: 2.500e-04, eta: 0:10:44, time: 0.383, data_time: 0.015, memory: 3446, loss_rpn_cls: 0.0002, loss_rpn_bbox: 0.0017, loss_cls: 0.0157, acc: 99.4010, loss_bbox: 0.0307, loss: 0.0483\n",
            "2022-01-16 15:14:37,541 - mmdet - INFO - Epoch [11][210/233]\tlr: 2.500e-04, eta: 0:10:40, time: 0.383, data_time: 0.015, memory: 3446, loss_rpn_cls: 0.0004, loss_rpn_bbox: 0.0024, loss_cls: 0.0127, acc: 99.5508, loss_bbox: 0.0290, loss: 0.0445\n",
            "2022-01-16 15:14:41,372 - mmdet - INFO - Epoch [11][220/233]\tlr: 2.500e-04, eta: 0:10:36, time: 0.383, data_time: 0.015, memory: 3446, loss_rpn_cls: 0.0001, loss_rpn_bbox: 0.0014, loss_cls: 0.0110, acc: 99.6029, loss_bbox: 0.0269, loss: 0.0393\n",
            "2022-01-16 15:14:45,211 - mmdet - INFO - Epoch [11][230/233]\tlr: 2.500e-04, eta: 0:10:32, time: 0.384, data_time: 0.015, memory: 3446, loss_rpn_cls: 0.0001, loss_rpn_bbox: 0.0012, loss_cls: 0.0124, acc: 99.5898, loss_bbox: 0.0275, loss: 0.0411\n",
            "2022-01-16 15:14:52,410 - mmdet - INFO - Epoch [12][10/233]\tlr: 2.500e-05, eta: 0:10:28, time: 0.598, data_time: 0.227, memory: 3446, loss_rpn_cls: 0.0001, loss_rpn_bbox: 0.0014, loss_cls: 0.0148, acc: 99.4075, loss_bbox: 0.0287, loss: 0.0450\n",
            "2022-01-16 15:14:56,252 - mmdet - INFO - Epoch [12][20/233]\tlr: 2.500e-05, eta: 0:10:24, time: 0.384, data_time: 0.015, memory: 3446, loss_rpn_cls: 0.0002, loss_rpn_bbox: 0.0022, loss_cls: 0.0145, acc: 99.4206, loss_bbox: 0.0285, loss: 0.0454\n",
            "2022-01-16 15:15:00,060 - mmdet - INFO - Epoch [12][30/233]\tlr: 2.500e-05, eta: 0:10:20, time: 0.381, data_time: 0.014, memory: 3446, loss_rpn_cls: 0.0001, loss_rpn_bbox: 0.0014, loss_cls: 0.0167, acc: 99.3815, loss_bbox: 0.0311, loss: 0.0494\n",
            "2022-01-16 15:15:03,895 - mmdet - INFO - Epoch [12][40/233]\tlr: 2.500e-05, eta: 0:10:16, time: 0.383, data_time: 0.015, memory: 3446, loss_rpn_cls: 0.0003, loss_rpn_bbox: 0.0015, loss_cls: 0.0158, acc: 99.3555, loss_bbox: 0.0335, loss: 0.0512\n",
            "2022-01-16 15:15:07,745 - mmdet - INFO - Epoch [12][50/233]\tlr: 2.500e-05, eta: 0:10:12, time: 0.385, data_time: 0.014, memory: 3446, loss_rpn_cls: 0.0001, loss_rpn_bbox: 0.0014, loss_cls: 0.0142, acc: 99.4987, loss_bbox: 0.0274, loss: 0.0431\n",
            "2022-01-16 15:15:11,597 - mmdet - INFO - Epoch [12][60/233]\tlr: 2.500e-05, eta: 0:10:08, time: 0.385, data_time: 0.014, memory: 3446, loss_rpn_cls: 0.0009, loss_rpn_bbox: 0.0027, loss_cls: 0.0227, acc: 99.2513, loss_bbox: 0.0426, loss: 0.0688\n",
            "2022-01-16 15:15:15,457 - mmdet - INFO - Epoch [12][70/233]\tlr: 2.500e-05, eta: 0:10:04, time: 0.386, data_time: 0.014, memory: 3446, loss_rpn_cls: 0.0002, loss_rpn_bbox: 0.0013, loss_cls: 0.0109, acc: 99.6224, loss_bbox: 0.0239, loss: 0.0363\n",
            "2022-01-16 15:15:19,301 - mmdet - INFO - Epoch [12][80/233]\tlr: 2.500e-05, eta: 0:10:00, time: 0.384, data_time: 0.015, memory: 3446, loss_rpn_cls: 0.0001, loss_rpn_bbox: 0.0021, loss_cls: 0.0188, acc: 99.3750, loss_bbox: 0.0332, loss: 0.0542\n",
            "2022-01-16 15:15:23,135 - mmdet - INFO - Epoch [12][90/233]\tlr: 2.500e-05, eta: 0:09:57, time: 0.383, data_time: 0.015, memory: 3446, loss_rpn_cls: 0.0001, loss_rpn_bbox: 0.0015, loss_cls: 0.0132, acc: 99.3945, loss_bbox: 0.0272, loss: 0.0420\n",
            "2022-01-16 15:15:26,993 - mmdet - INFO - Epoch [12][100/233]\tlr: 2.500e-05, eta: 0:09:53, time: 0.386, data_time: 0.015, memory: 3446, loss_rpn_cls: 0.0001, loss_rpn_bbox: 0.0018, loss_cls: 0.0132, acc: 99.5182, loss_bbox: 0.0285, loss: 0.0436\n",
            "2022-01-16 15:15:30,824 - mmdet - INFO - Epoch [12][110/233]\tlr: 2.500e-05, eta: 0:09:49, time: 0.383, data_time: 0.014, memory: 3446, loss_rpn_cls: 0.0001, loss_rpn_bbox: 0.0022, loss_cls: 0.0173, acc: 99.3555, loss_bbox: 0.0361, loss: 0.0558\n",
            "2022-01-16 15:15:34,687 - mmdet - INFO - Epoch [12][120/233]\tlr: 2.500e-05, eta: 0:09:45, time: 0.386, data_time: 0.015, memory: 3446, loss_rpn_cls: 0.0002, loss_rpn_bbox: 0.0017, loss_cls: 0.0133, acc: 99.4987, loss_bbox: 0.0277, loss: 0.0430\n",
            "2022-01-16 15:15:38,524 - mmdet - INFO - Epoch [12][130/233]\tlr: 2.500e-05, eta: 0:09:41, time: 0.384, data_time: 0.014, memory: 3446, loss_rpn_cls: 0.0000, loss_rpn_bbox: 0.0013, loss_cls: 0.0132, acc: 99.5182, loss_bbox: 0.0282, loss: 0.0427\n",
            "2022-01-16 15:15:42,358 - mmdet - INFO - Epoch [12][140/233]\tlr: 2.500e-05, eta: 0:09:37, time: 0.383, data_time: 0.015, memory: 3446, loss_rpn_cls: 0.0003, loss_rpn_bbox: 0.0018, loss_cls: 0.0165, acc: 99.3945, loss_bbox: 0.0299, loss: 0.0484\n",
            "2022-01-16 15:15:46,189 - mmdet - INFO - Epoch [12][150/233]\tlr: 2.500e-05, eta: 0:09:33, time: 0.383, data_time: 0.015, memory: 3446, loss_rpn_cls: 0.0001, loss_rpn_bbox: 0.0016, loss_cls: 0.0129, acc: 99.5378, loss_bbox: 0.0263, loss: 0.0409\n",
            "2022-01-16 15:15:50,007 - mmdet - INFO - Epoch [12][160/233]\tlr: 2.500e-05, eta: 0:09:29, time: 0.382, data_time: 0.015, memory: 3446, loss_rpn_cls: 0.0006, loss_rpn_bbox: 0.0028, loss_cls: 0.0208, acc: 99.2253, loss_bbox: 0.0406, loss: 0.0648\n",
            "2022-01-16 15:15:53,852 - mmdet - INFO - Epoch [12][170/233]\tlr: 2.500e-05, eta: 0:09:25, time: 0.385, data_time: 0.014, memory: 3446, loss_rpn_cls: 0.0001, loss_rpn_bbox: 0.0020, loss_cls: 0.0153, acc: 99.4010, loss_bbox: 0.0323, loss: 0.0497\n",
            "2022-01-16 15:15:57,698 - mmdet - INFO - Epoch [12][180/233]\tlr: 2.500e-05, eta: 0:09:22, time: 0.385, data_time: 0.015, memory: 3446, loss_rpn_cls: 0.0002, loss_rpn_bbox: 0.0018, loss_cls: 0.0164, acc: 99.3750, loss_bbox: 0.0348, loss: 0.0532\n",
            "2022-01-16 15:16:01,557 - mmdet - INFO - Epoch [12][190/233]\tlr: 2.500e-05, eta: 0:09:18, time: 0.386, data_time: 0.015, memory: 3446, loss_rpn_cls: 0.0002, loss_rpn_bbox: 0.0027, loss_cls: 0.0148, acc: 99.5052, loss_bbox: 0.0333, loss: 0.0510\n",
            "2022-01-16 15:16:05,389 - mmdet - INFO - Epoch [12][200/233]\tlr: 2.500e-05, eta: 0:09:14, time: 0.383, data_time: 0.015, memory: 3446, loss_rpn_cls: 0.0001, loss_rpn_bbox: 0.0013, loss_cls: 0.0102, acc: 99.6354, loss_bbox: 0.0210, loss: 0.0325\n",
            "2022-01-16 15:16:09,241 - mmdet - INFO - Epoch [12][210/233]\tlr: 2.500e-05, eta: 0:09:10, time: 0.385, data_time: 0.015, memory: 3446, loss_rpn_cls: 0.0001, loss_rpn_bbox: 0.0015, loss_cls: 0.0137, acc: 99.4857, loss_bbox: 0.0302, loss: 0.0456\n",
            "2022-01-16 15:16:13,080 - mmdet - INFO - Epoch [12][220/233]\tlr: 2.500e-05, eta: 0:09:06, time: 0.384, data_time: 0.015, memory: 3446, loss_rpn_cls: 0.0003, loss_rpn_bbox: 0.0018, loss_cls: 0.0130, acc: 99.5117, loss_bbox: 0.0247, loss: 0.0399\n",
            "2022-01-16 15:16:16,929 - mmdet - INFO - Epoch [12][230/233]\tlr: 2.500e-05, eta: 0:09:02, time: 0.385, data_time: 0.016, memory: 3446, loss_rpn_cls: 0.0002, loss_rpn_bbox: 0.0013, loss_cls: 0.0111, acc: 99.5964, loss_bbox: 0.0228, loss: 0.0354\n",
            "2022-01-16 15:16:18,072 - mmdet - INFO - Saving checkpoint at 12 epochs\n"
          ]
        },
        {
          "output_type": "stream",
          "name": "stdout",
          "text": [
            "[>>>>>>>>>>>>>>>>>>>>>>>>>>>>>>>>] 88/88, 15.7 task/s, elapsed: 6s, ETA:     0s"
          ]
        },
        {
          "output_type": "stream",
          "name": "stderr",
          "text": [
            "2022-01-16 15:16:25,224 - mmdet - INFO - Evaluating bbox...\n"
          ]
        },
        {
          "output_type": "stream",
          "name": "stdout",
          "text": [
            "Loading and preparing results...\n",
            "DONE (t=0.00s)\n",
            "creating index...\n",
            "index created!\n",
            "Running per image evaluation...\n",
            "Evaluate annotation type *bbox*\n",
            "DONE (t=0.05s).\n",
            "Accumulating evaluation results...\n"
          ]
        },
        {
          "output_type": "stream",
          "name": "stderr",
          "text": [
            "2022-01-16 15:16:25,324 - mmdet - INFO - \n",
            " Average Precision  (AP) @[ IoU=0.50:0.95 | area=   all | maxDets=100 ] = 0.718\n",
            " Average Precision  (AP) @[ IoU=0.50      | area=   all | maxDets=1000 ] = 0.915\n",
            " Average Precision  (AP) @[ IoU=0.75      | area=   all | maxDets=1000 ] = 0.827\n",
            " Average Precision  (AP) @[ IoU=0.50:0.95 | area= small | maxDets=1000 ] = 0.394\n",
            " Average Precision  (AP) @[ IoU=0.50:0.95 | area=medium | maxDets=1000 ] = 0.822\n",
            " Average Precision  (AP) @[ IoU=0.50:0.95 | area= large | maxDets=1000 ] = 0.859\n",
            " Average Recall     (AR) @[ IoU=0.50:0.95 | area=   all | maxDets=100 ] = 0.781\n",
            " Average Recall     (AR) @[ IoU=0.50:0.95 | area=   all | maxDets=300 ] = 0.781\n",
            " Average Recall     (AR) @[ IoU=0.50:0.95 | area=   all | maxDets=1000 ] = 0.781\n",
            " Average Recall     (AR) @[ IoU=0.50:0.95 | area= small | maxDets=1000 ] = 0.444\n",
            " Average Recall     (AR) @[ IoU=0.50:0.95 | area=medium | maxDets=1000 ] = 0.873\n",
            " Average Recall     (AR) @[ IoU=0.50:0.95 | area= large | maxDets=1000 ] = 0.895\n",
            "\n",
            "2022-01-16 15:16:25,327 - mmdet - INFO - Epoch(val) [12][88]\tbbox_mAP: 0.7180, bbox_mAP_50: 0.9150, bbox_mAP_75: 0.8270, bbox_mAP_s: 0.3940, bbox_mAP_m: 0.8220, bbox_mAP_l: 0.8590, bbox_mAP_copypaste: 0.718 0.915 0.827 0.394 0.822 0.859\n"
          ]
        },
        {
          "output_type": "stream",
          "name": "stdout",
          "text": [
            "DONE (t=0.04s).\n"
          ]
        },
        {
          "output_type": "stream",
          "name": "stderr",
          "text": [
            "2022-01-16 15:16:31,454 - mmdet - INFO - Epoch [13][10/233]\tlr: 2.500e-05, eta: 0:08:58, time: 0.604, data_time: 0.227, memory: 3446, loss_rpn_cls: 0.0002, loss_rpn_bbox: 0.0014, loss_cls: 0.0103, acc: 99.6354, loss_bbox: 0.0228, loss: 0.0347\n",
            "2022-01-16 15:16:35,343 - mmdet - INFO - Epoch [13][20/233]\tlr: 2.500e-05, eta: 0:08:54, time: 0.389, data_time: 0.015, memory: 3446, loss_rpn_cls: 0.0001, loss_rpn_bbox: 0.0020, loss_cls: 0.0157, acc: 99.4661, loss_bbox: 0.0342, loss: 0.0521\n",
            "2022-01-16 15:16:39,194 - mmdet - INFO - Epoch [13][30/233]\tlr: 2.500e-05, eta: 0:08:50, time: 0.385, data_time: 0.015, memory: 3446, loss_rpn_cls: 0.0003, loss_rpn_bbox: 0.0018, loss_cls: 0.0138, acc: 99.4792, loss_bbox: 0.0279, loss: 0.0437\n",
            "2022-01-16 15:16:43,004 - mmdet - INFO - Epoch [13][40/233]\tlr: 2.500e-05, eta: 0:08:46, time: 0.381, data_time: 0.015, memory: 3446, loss_rpn_cls: 0.0002, loss_rpn_bbox: 0.0022, loss_cls: 0.0198, acc: 99.1992, loss_bbox: 0.0423, loss: 0.0645\n",
            "2022-01-16 15:16:46,837 - mmdet - INFO - Epoch [13][50/233]\tlr: 2.500e-05, eta: 0:08:42, time: 0.383, data_time: 0.015, memory: 3446, loss_rpn_cls: 0.0002, loss_rpn_bbox: 0.0020, loss_cls: 0.0150, acc: 99.4141, loss_bbox: 0.0334, loss: 0.0505\n",
            "2022-01-16 15:16:50,680 - mmdet - INFO - Epoch [13][60/233]\tlr: 2.500e-05, eta: 0:08:38, time: 0.384, data_time: 0.015, memory: 3446, loss_rpn_cls: 0.0009, loss_rpn_bbox: 0.0022, loss_cls: 0.0153, acc: 99.4466, loss_bbox: 0.0326, loss: 0.0510\n",
            "2022-01-16 15:16:54,538 - mmdet - INFO - Epoch [13][70/233]\tlr: 2.500e-05, eta: 0:08:34, time: 0.386, data_time: 0.015, memory: 3446, loss_rpn_cls: 0.0001, loss_rpn_bbox: 0.0019, loss_cls: 0.0143, acc: 99.4336, loss_bbox: 0.0288, loss: 0.0451\n",
            "2022-01-16 15:16:58,399 - mmdet - INFO - Epoch [13][80/233]\tlr: 2.500e-05, eta: 0:08:30, time: 0.386, data_time: 0.014, memory: 3446, loss_rpn_cls: 0.0002, loss_rpn_bbox: 0.0017, loss_cls: 0.0143, acc: 99.4596, loss_bbox: 0.0269, loss: 0.0430\n",
            "2022-01-16 15:17:02,240 - mmdet - INFO - Epoch [13][90/233]\tlr: 2.500e-05, eta: 0:08:26, time: 0.384, data_time: 0.014, memory: 3446, loss_rpn_cls: 0.0001, loss_rpn_bbox: 0.0019, loss_cls: 0.0168, acc: 99.4010, loss_bbox: 0.0313, loss: 0.0500\n",
            "2022-01-16 15:17:06,063 - mmdet - INFO - Epoch [13][100/233]\tlr: 2.500e-05, eta: 0:08:23, time: 0.382, data_time: 0.014, memory: 3446, loss_rpn_cls: 0.0001, loss_rpn_bbox: 0.0017, loss_cls: 0.0144, acc: 99.4922, loss_bbox: 0.0288, loss: 0.0450\n",
            "2022-01-16 15:17:09,905 - mmdet - INFO - Epoch [13][110/233]\tlr: 2.500e-05, eta: 0:08:19, time: 0.384, data_time: 0.015, memory: 3446, loss_rpn_cls: 0.0003, loss_rpn_bbox: 0.0017, loss_cls: 0.0135, acc: 99.5312, loss_bbox: 0.0283, loss: 0.0437\n",
            "2022-01-16 15:17:13,739 - mmdet - INFO - Epoch [13][120/233]\tlr: 2.500e-05, eta: 0:08:15, time: 0.383, data_time: 0.015, memory: 3446, loss_rpn_cls: 0.0008, loss_rpn_bbox: 0.0022, loss_cls: 0.0164, acc: 99.5117, loss_bbox: 0.0310, loss: 0.0504\n",
            "2022-01-16 15:17:17,576 - mmdet - INFO - Epoch [13][130/233]\tlr: 2.500e-05, eta: 0:08:11, time: 0.384, data_time: 0.015, memory: 3446, loss_rpn_cls: 0.0001, loss_rpn_bbox: 0.0015, loss_cls: 0.0138, acc: 99.4661, loss_bbox: 0.0282, loss: 0.0436\n",
            "2022-01-16 15:17:21,419 - mmdet - INFO - Epoch [13][140/233]\tlr: 2.500e-05, eta: 0:08:07, time: 0.384, data_time: 0.015, memory: 3446, loss_rpn_cls: 0.0001, loss_rpn_bbox: 0.0013, loss_cls: 0.0139, acc: 99.4531, loss_bbox: 0.0269, loss: 0.0422\n",
            "2022-01-16 15:17:25,238 - mmdet - INFO - Epoch [13][150/233]\tlr: 2.500e-05, eta: 0:08:03, time: 0.382, data_time: 0.015, memory: 3446, loss_rpn_cls: 0.0006, loss_rpn_bbox: 0.0020, loss_cls: 0.0196, acc: 99.2773, loss_bbox: 0.0392, loss: 0.0613\n",
            "2022-01-16 15:17:29,096 - mmdet - INFO - Epoch [13][160/233]\tlr: 2.500e-05, eta: 0:07:59, time: 0.386, data_time: 0.015, memory: 3446, loss_rpn_cls: 0.0001, loss_rpn_bbox: 0.0014, loss_cls: 0.0146, acc: 99.4076, loss_bbox: 0.0247, loss: 0.0409\n",
            "2022-01-16 15:17:32,939 - mmdet - INFO - Epoch [13][170/233]\tlr: 2.500e-05, eta: 0:07:55, time: 0.384, data_time: 0.015, memory: 3446, loss_rpn_cls: 0.0001, loss_rpn_bbox: 0.0019, loss_cls: 0.0147, acc: 99.5312, loss_bbox: 0.0273, loss: 0.0440\n",
            "2022-01-16 15:17:36,766 - mmdet - INFO - Epoch [13][180/233]\tlr: 2.500e-05, eta: 0:07:51, time: 0.383, data_time: 0.015, memory: 3446, loss_rpn_cls: 0.0005, loss_rpn_bbox: 0.0020, loss_cls: 0.0159, acc: 99.3880, loss_bbox: 0.0321, loss: 0.0506\n",
            "2022-01-16 15:17:40,628 - mmdet - INFO - Epoch [13][190/233]\tlr: 2.500e-05, eta: 0:07:48, time: 0.386, data_time: 0.015, memory: 3446, loss_rpn_cls: 0.0000, loss_rpn_bbox: 0.0016, loss_cls: 0.0171, acc: 99.3815, loss_bbox: 0.0345, loss: 0.0532\n",
            "2022-01-16 15:17:44,459 - mmdet - INFO - Epoch [13][200/233]\tlr: 2.500e-05, eta: 0:07:44, time: 0.383, data_time: 0.015, memory: 3446, loss_rpn_cls: 0.0002, loss_rpn_bbox: 0.0017, loss_cls: 0.0140, acc: 99.4596, loss_bbox: 0.0301, loss: 0.0460\n",
            "2022-01-16 15:17:48,307 - mmdet - INFO - Epoch [13][210/233]\tlr: 2.500e-05, eta: 0:07:40, time: 0.385, data_time: 0.015, memory: 3446, loss_rpn_cls: 0.0003, loss_rpn_bbox: 0.0013, loss_cls: 0.0129, acc: 99.5443, loss_bbox: 0.0264, loss: 0.0408\n",
            "2022-01-16 15:17:52,192 - mmdet - INFO - Epoch [13][220/233]\tlr: 2.500e-05, eta: 0:07:36, time: 0.388, data_time: 0.016, memory: 3446, loss_rpn_cls: 0.0002, loss_rpn_bbox: 0.0017, loss_cls: 0.0158, acc: 99.3815, loss_bbox: 0.0296, loss: 0.0473\n",
            "2022-01-16 15:17:56,023 - mmdet - INFO - Epoch [13][230/233]\tlr: 2.500e-05, eta: 0:07:32, time: 0.383, data_time: 0.015, memory: 3446, loss_rpn_cls: 0.0001, loss_rpn_bbox: 0.0017, loss_cls: 0.0139, acc: 99.4596, loss_bbox: 0.0275, loss: 0.0431\n",
            "2022-01-16 15:18:03,223 - mmdet - INFO - Epoch [14][10/233]\tlr: 2.500e-05, eta: 0:07:27, time: 0.598, data_time: 0.226, memory: 3446, loss_rpn_cls: 0.0001, loss_rpn_bbox: 0.0016, loss_cls: 0.0128, acc: 99.4727, loss_bbox: 0.0290, loss: 0.0436\n",
            "2022-01-16 15:18:07,073 - mmdet - INFO - Epoch [14][20/233]\tlr: 2.500e-05, eta: 0:07:23, time: 0.385, data_time: 0.015, memory: 3446, loss_rpn_cls: 0.0000, loss_rpn_bbox: 0.0015, loss_cls: 0.0143, acc: 99.4727, loss_bbox: 0.0284, loss: 0.0442\n",
            "2022-01-16 15:18:10,908 - mmdet - INFO - Epoch [14][30/233]\tlr: 2.500e-05, eta: 0:07:20, time: 0.383, data_time: 0.015, memory: 3446, loss_rpn_cls: 0.0001, loss_rpn_bbox: 0.0014, loss_cls: 0.0117, acc: 99.5638, loss_bbox: 0.0285, loss: 0.0417\n",
            "2022-01-16 15:18:14,743 - mmdet - INFO - Epoch [14][40/233]\tlr: 2.500e-05, eta: 0:07:16, time: 0.383, data_time: 0.015, memory: 3446, loss_rpn_cls: 0.0002, loss_rpn_bbox: 0.0017, loss_cls: 0.0129, acc: 99.5768, loss_bbox: 0.0302, loss: 0.0450\n",
            "2022-01-16 15:18:18,596 - mmdet - INFO - Epoch [14][50/233]\tlr: 2.500e-05, eta: 0:07:12, time: 0.385, data_time: 0.015, memory: 3446, loss_rpn_cls: 0.0003, loss_rpn_bbox: 0.0018, loss_cls: 0.0181, acc: 99.3880, loss_bbox: 0.0321, loss: 0.0522\n",
            "2022-01-16 15:18:22,438 - mmdet - INFO - Epoch [14][60/233]\tlr: 2.500e-05, eta: 0:07:08, time: 0.384, data_time: 0.015, memory: 3446, loss_rpn_cls: 0.0003, loss_rpn_bbox: 0.0016, loss_cls: 0.0151, acc: 99.4401, loss_bbox: 0.0330, loss: 0.0501\n",
            "2022-01-16 15:18:26,278 - mmdet - INFO - Epoch [14][70/233]\tlr: 2.500e-05, eta: 0:07:04, time: 0.384, data_time: 0.015, memory: 3446, loss_rpn_cls: 0.0002, loss_rpn_bbox: 0.0014, loss_cls: 0.0121, acc: 99.5052, loss_bbox: 0.0261, loss: 0.0398\n",
            "2022-01-16 15:18:30,097 - mmdet - INFO - Epoch [14][80/233]\tlr: 2.500e-05, eta: 0:07:00, time: 0.382, data_time: 0.015, memory: 3446, loss_rpn_cls: 0.0001, loss_rpn_bbox: 0.0012, loss_cls: 0.0120, acc: 99.5378, loss_bbox: 0.0243, loss: 0.0376\n",
            "2022-01-16 15:18:33,910 - mmdet - INFO - Epoch [14][90/233]\tlr: 2.500e-05, eta: 0:06:56, time: 0.381, data_time: 0.014, memory: 3446, loss_rpn_cls: 0.0001, loss_rpn_bbox: 0.0016, loss_cls: 0.0143, acc: 99.4141, loss_bbox: 0.0259, loss: 0.0419\n",
            "2022-01-16 15:18:37,756 - mmdet - INFO - Epoch [14][100/233]\tlr: 2.500e-05, eta: 0:06:52, time: 0.385, data_time: 0.015, memory: 3446, loss_rpn_cls: 0.0001, loss_rpn_bbox: 0.0023, loss_cls: 0.0162, acc: 99.4075, loss_bbox: 0.0332, loss: 0.0518\n",
            "2022-01-16 15:18:41,601 - mmdet - INFO - Epoch [14][110/233]\tlr: 2.500e-05, eta: 0:06:48, time: 0.384, data_time: 0.015, memory: 3446, loss_rpn_cls: 0.0002, loss_rpn_bbox: 0.0021, loss_cls: 0.0145, acc: 99.4466, loss_bbox: 0.0327, loss: 0.0494\n",
            "2022-01-16 15:18:45,422 - mmdet - INFO - Epoch [14][120/233]\tlr: 2.500e-05, eta: 0:06:45, time: 0.382, data_time: 0.015, memory: 3446, loss_rpn_cls: 0.0003, loss_rpn_bbox: 0.0023, loss_cls: 0.0145, acc: 99.4271, loss_bbox: 0.0340, loss: 0.0511\n",
            "2022-01-16 15:18:49,266 - mmdet - INFO - Epoch [14][130/233]\tlr: 2.500e-05, eta: 0:06:41, time: 0.384, data_time: 0.015, memory: 3446, loss_rpn_cls: 0.0001, loss_rpn_bbox: 0.0017, loss_cls: 0.0167, acc: 99.3555, loss_bbox: 0.0352, loss: 0.0537\n",
            "2022-01-16 15:18:53,115 - mmdet - INFO - Epoch [14][140/233]\tlr: 2.500e-05, eta: 0:06:37, time: 0.385, data_time: 0.015, memory: 3446, loss_rpn_cls: 0.0001, loss_rpn_bbox: 0.0018, loss_cls: 0.0114, acc: 99.5768, loss_bbox: 0.0240, loss: 0.0373\n",
            "2022-01-16 15:18:56,942 - mmdet - INFO - Epoch [14][150/233]\tlr: 2.500e-05, eta: 0:06:33, time: 0.383, data_time: 0.015, memory: 3446, loss_rpn_cls: 0.0001, loss_rpn_bbox: 0.0015, loss_cls: 0.0141, acc: 99.4466, loss_bbox: 0.0313, loss: 0.0470\n",
            "2022-01-16 15:19:00,770 - mmdet - INFO - Epoch [14][160/233]\tlr: 2.500e-05, eta: 0:06:29, time: 0.383, data_time: 0.015, memory: 3446, loss_rpn_cls: 0.0002, loss_rpn_bbox: 0.0020, loss_cls: 0.0154, acc: 99.4206, loss_bbox: 0.0346, loss: 0.0522\n",
            "2022-01-16 15:19:04,610 - mmdet - INFO - Epoch [14][170/233]\tlr: 2.500e-05, eta: 0:06:25, time: 0.384, data_time: 0.015, memory: 3446, loss_rpn_cls: 0.0001, loss_rpn_bbox: 0.0016, loss_cls: 0.0146, acc: 99.4792, loss_bbox: 0.0301, loss: 0.0465\n",
            "2022-01-16 15:19:08,449 - mmdet - INFO - Epoch [14][180/233]\tlr: 2.500e-05, eta: 0:06:21, time: 0.384, data_time: 0.015, memory: 3446, loss_rpn_cls: 0.0002, loss_rpn_bbox: 0.0017, loss_cls: 0.0185, acc: 99.2448, loss_bbox: 0.0326, loss: 0.0530\n",
            "2022-01-16 15:19:12,293 - mmdet - INFO - Epoch [14][190/233]\tlr: 2.500e-05, eta: 0:06:17, time: 0.384, data_time: 0.015, memory: 3446, loss_rpn_cls: 0.0003, loss_rpn_bbox: 0.0019, loss_cls: 0.0170, acc: 99.3424, loss_bbox: 0.0350, loss: 0.0541\n",
            "2022-01-16 15:19:16,139 - mmdet - INFO - Epoch [14][200/233]\tlr: 2.500e-05, eta: 0:06:13, time: 0.384, data_time: 0.015, memory: 3446, loss_rpn_cls: 0.0001, loss_rpn_bbox: 0.0019, loss_cls: 0.0167, acc: 99.3359, loss_bbox: 0.0309, loss: 0.0496\n",
            "2022-01-16 15:19:19,980 - mmdet - INFO - Epoch [14][210/233]\tlr: 2.500e-05, eta: 0:06:10, time: 0.384, data_time: 0.015, memory: 3446, loss_rpn_cls: 0.0001, loss_rpn_bbox: 0.0020, loss_cls: 0.0176, acc: 99.3034, loss_bbox: 0.0330, loss: 0.0528\n",
            "2022-01-16 15:19:23,826 - mmdet - INFO - Epoch [14][220/233]\tlr: 2.500e-05, eta: 0:06:06, time: 0.385, data_time: 0.014, memory: 3446, loss_rpn_cls: 0.0001, loss_rpn_bbox: 0.0018, loss_cls: 0.0116, acc: 99.5247, loss_bbox: 0.0232, loss: 0.0367\n",
            "2022-01-16 15:19:27,662 - mmdet - INFO - Epoch [14][230/233]\tlr: 2.500e-05, eta: 0:06:02, time: 0.384, data_time: 0.014, memory: 3446, loss_rpn_cls: 0.0001, loss_rpn_bbox: 0.0018, loss_cls: 0.0143, acc: 99.4596, loss_bbox: 0.0282, loss: 0.0444\n",
            "2022-01-16 15:19:34,865 - mmdet - INFO - Epoch [15][10/233]\tlr: 2.500e-05, eta: 0:05:57, time: 0.598, data_time: 0.225, memory: 3446, loss_rpn_cls: 0.0003, loss_rpn_bbox: 0.0018, loss_cls: 0.0132, acc: 99.5312, loss_bbox: 0.0264, loss: 0.0418\n",
            "2022-01-16 15:19:38,723 - mmdet - INFO - Epoch [15][20/233]\tlr: 2.500e-05, eta: 0:05:53, time: 0.386, data_time: 0.015, memory: 3446, loss_rpn_cls: 0.0002, loss_rpn_bbox: 0.0016, loss_cls: 0.0145, acc: 99.4531, loss_bbox: 0.0304, loss: 0.0467\n",
            "2022-01-16 15:19:42,552 - mmdet - INFO - Epoch [15][30/233]\tlr: 2.500e-05, eta: 0:05:49, time: 0.383, data_time: 0.014, memory: 3446, loss_rpn_cls: 0.0002, loss_rpn_bbox: 0.0016, loss_cls: 0.0179, acc: 99.3229, loss_bbox: 0.0322, loss: 0.0519\n",
            "2022-01-16 15:19:46,398 - mmdet - INFO - Epoch [15][40/233]\tlr: 2.500e-05, eta: 0:05:45, time: 0.385, data_time: 0.015, memory: 3446, loss_rpn_cls: 0.0003, loss_rpn_bbox: 0.0014, loss_cls: 0.0134, acc: 99.4466, loss_bbox: 0.0261, loss: 0.0412\n",
            "2022-01-16 15:19:50,240 - mmdet - INFO - Epoch [15][50/233]\tlr: 2.500e-05, eta: 0:05:41, time: 0.384, data_time: 0.015, memory: 3446, loss_rpn_cls: 0.0002, loss_rpn_bbox: 0.0024, loss_cls: 0.0191, acc: 99.2773, loss_bbox: 0.0353, loss: 0.0570\n",
            "2022-01-16 15:19:54,077 - mmdet - INFO - Epoch [15][60/233]\tlr: 2.500e-05, eta: 0:05:38, time: 0.384, data_time: 0.015, memory: 3446, loss_rpn_cls: 0.0001, loss_rpn_bbox: 0.0018, loss_cls: 0.0140, acc: 99.4271, loss_bbox: 0.0304, loss: 0.0463\n",
            "2022-01-16 15:19:57,895 - mmdet - INFO - Epoch [15][70/233]\tlr: 2.500e-05, eta: 0:05:34, time: 0.382, data_time: 0.015, memory: 3446, loss_rpn_cls: 0.0001, loss_rpn_bbox: 0.0019, loss_cls: 0.0159, acc: 99.4206, loss_bbox: 0.0324, loss: 0.0503\n",
            "2022-01-16 15:20:01,751 - mmdet - INFO - Epoch [15][80/233]\tlr: 2.500e-05, eta: 0:05:30, time: 0.386, data_time: 0.015, memory: 3446, loss_rpn_cls: 0.0002, loss_rpn_bbox: 0.0018, loss_cls: 0.0156, acc: 99.3164, loss_bbox: 0.0322, loss: 0.0498\n",
            "2022-01-16 15:20:05,577 - mmdet - INFO - Epoch [15][90/233]\tlr: 2.500e-05, eta: 0:05:26, time: 0.383, data_time: 0.015, memory: 3446, loss_rpn_cls: 0.0002, loss_rpn_bbox: 0.0025, loss_cls: 0.0162, acc: 99.3359, loss_bbox: 0.0320, loss: 0.0509\n",
            "2022-01-16 15:20:09,419 - mmdet - INFO - Epoch [15][100/233]\tlr: 2.500e-05, eta: 0:05:22, time: 0.384, data_time: 0.015, memory: 3446, loss_rpn_cls: 0.0003, loss_rpn_bbox: 0.0015, loss_cls: 0.0124, acc: 99.5443, loss_bbox: 0.0266, loss: 0.0409\n",
            "2022-01-16 15:20:13,278 - mmdet - INFO - Epoch [15][110/233]\tlr: 2.500e-05, eta: 0:05:18, time: 0.386, data_time: 0.015, memory: 3446, loss_rpn_cls: 0.0004, loss_rpn_bbox: 0.0014, loss_cls: 0.0152, acc: 99.4661, loss_bbox: 0.0301, loss: 0.0471\n",
            "2022-01-16 15:20:17,121 - mmdet - INFO - Epoch [15][120/233]\tlr: 2.500e-05, eta: 0:05:14, time: 0.384, data_time: 0.015, memory: 3446, loss_rpn_cls: 0.0001, loss_rpn_bbox: 0.0014, loss_cls: 0.0147, acc: 99.4336, loss_bbox: 0.0284, loss: 0.0446\n",
            "2022-01-16 15:20:20,965 - mmdet - INFO - Epoch [15][130/233]\tlr: 2.500e-05, eta: 0:05:10, time: 0.384, data_time: 0.015, memory: 3446, loss_rpn_cls: 0.0005, loss_rpn_bbox: 0.0017, loss_cls: 0.0132, acc: 99.4922, loss_bbox: 0.0289, loss: 0.0443\n",
            "2022-01-16 15:20:24,829 - mmdet - INFO - Epoch [15][140/233]\tlr: 2.500e-05, eta: 0:05:06, time: 0.386, data_time: 0.015, memory: 3446, loss_rpn_cls: 0.0002, loss_rpn_bbox: 0.0017, loss_cls: 0.0152, acc: 99.3945, loss_bbox: 0.0312, loss: 0.0484\n",
            "2022-01-16 15:20:28,665 - mmdet - INFO - Epoch [15][150/233]\tlr: 2.500e-05, eta: 0:05:03, time: 0.384, data_time: 0.014, memory: 3446, loss_rpn_cls: 0.0003, loss_rpn_bbox: 0.0026, loss_cls: 0.0220, acc: 99.2057, loss_bbox: 0.0368, loss: 0.0617\n",
            "2022-01-16 15:20:32,515 - mmdet - INFO - Epoch [15][160/233]\tlr: 2.500e-05, eta: 0:04:59, time: 0.385, data_time: 0.014, memory: 3446, loss_rpn_cls: 0.0005, loss_rpn_bbox: 0.0013, loss_cls: 0.0129, acc: 99.5703, loss_bbox: 0.0256, loss: 0.0403\n",
            "2022-01-16 15:20:36,360 - mmdet - INFO - Epoch [15][170/233]\tlr: 2.500e-05, eta: 0:04:55, time: 0.384, data_time: 0.015, memory: 3446, loss_rpn_cls: 0.0001, loss_rpn_bbox: 0.0021, loss_cls: 0.0126, acc: 99.5052, loss_bbox: 0.0292, loss: 0.0440\n",
            "2022-01-16 15:20:40,184 - mmdet - INFO - Epoch [15][180/233]\tlr: 2.500e-05, eta: 0:04:51, time: 0.382, data_time: 0.015, memory: 3446, loss_rpn_cls: 0.0000, loss_rpn_bbox: 0.0014, loss_cls: 0.0127, acc: 99.4857, loss_bbox: 0.0298, loss: 0.0441\n",
            "2022-01-16 15:20:44,005 - mmdet - INFO - Epoch [15][190/233]\tlr: 2.500e-05, eta: 0:04:47, time: 0.382, data_time: 0.015, memory: 3446, loss_rpn_cls: 0.0002, loss_rpn_bbox: 0.0022, loss_cls: 0.0202, acc: 99.2643, loss_bbox: 0.0410, loss: 0.0636\n",
            "2022-01-16 15:20:47,872 - mmdet - INFO - Epoch [15][200/233]\tlr: 2.500e-05, eta: 0:04:43, time: 0.387, data_time: 0.015, memory: 3446, loss_rpn_cls: 0.0005, loss_rpn_bbox: 0.0019, loss_cls: 0.0136, acc: 99.5182, loss_bbox: 0.0270, loss: 0.0430\n",
            "2022-01-16 15:20:51,680 - mmdet - INFO - Epoch [15][210/233]\tlr: 2.500e-05, eta: 0:04:39, time: 0.381, data_time: 0.015, memory: 3446, loss_rpn_cls: 0.0001, loss_rpn_bbox: 0.0018, loss_cls: 0.0140, acc: 99.4987, loss_bbox: 0.0325, loss: 0.0484\n",
            "2022-01-16 15:20:55,520 - mmdet - INFO - Epoch [15][220/233]\tlr: 2.500e-05, eta: 0:04:35, time: 0.384, data_time: 0.014, memory: 3446, loss_rpn_cls: 0.0001, loss_rpn_bbox: 0.0010, loss_cls: 0.0101, acc: 99.6354, loss_bbox: 0.0206, loss: 0.0318\n",
            "2022-01-16 15:20:59,354 - mmdet - INFO - Epoch [15][230/233]\tlr: 2.500e-05, eta: 0:04:32, time: 0.383, data_time: 0.015, memory: 3446, loss_rpn_cls: 0.0001, loss_rpn_bbox: 0.0018, loss_cls: 0.0144, acc: 99.4401, loss_bbox: 0.0309, loss: 0.0472\n",
            "2022-01-16 15:21:00,494 - mmdet - INFO - Saving checkpoint at 15 epochs\n"
          ]
        },
        {
          "output_type": "stream",
          "name": "stdout",
          "text": [
            "[>>>>>>>>>>>>>>>>>>>>>>>>>>>>>>>>] 88/88, 15.7 task/s, elapsed: 6s, ETA:     0s"
          ]
        },
        {
          "output_type": "stream",
          "name": "stderr",
          "text": [
            "2022-01-16 15:21:07,618 - mmdet - INFO - Evaluating bbox...\n"
          ]
        },
        {
          "output_type": "stream",
          "name": "stdout",
          "text": [
            "Loading and preparing results...\n",
            "DONE (t=0.00s)\n",
            "creating index...\n",
            "index created!\n",
            "Running per image evaluation...\n",
            "Evaluate annotation type *bbox*\n",
            "DONE (t=0.06s).\n",
            "Accumulating evaluation results...\n"
          ]
        },
        {
          "output_type": "stream",
          "name": "stderr",
          "text": [
            "2022-01-16 15:21:07,728 - mmdet - INFO - \n",
            " Average Precision  (AP) @[ IoU=0.50:0.95 | area=   all | maxDets=100 ] = 0.725\n",
            " Average Precision  (AP) @[ IoU=0.50      | area=   all | maxDets=1000 ] = 0.915\n",
            " Average Precision  (AP) @[ IoU=0.75      | area=   all | maxDets=1000 ] = 0.827\n",
            " Average Precision  (AP) @[ IoU=0.50:0.95 | area= small | maxDets=1000 ] = 0.400\n",
            " Average Precision  (AP) @[ IoU=0.50:0.95 | area=medium | maxDets=1000 ] = 0.821\n",
            " Average Precision  (AP) @[ IoU=0.50:0.95 | area= large | maxDets=1000 ] = 0.877\n",
            " Average Recall     (AR) @[ IoU=0.50:0.95 | area=   all | maxDets=100 ] = 0.784\n",
            " Average Recall     (AR) @[ IoU=0.50:0.95 | area=   all | maxDets=300 ] = 0.784\n",
            " Average Recall     (AR) @[ IoU=0.50:0.95 | area=   all | maxDets=1000 ] = 0.784\n",
            " Average Recall     (AR) @[ IoU=0.50:0.95 | area= small | maxDets=1000 ] = 0.450\n",
            " Average Recall     (AR) @[ IoU=0.50:0.95 | area=medium | maxDets=1000 ] = 0.871\n",
            " Average Recall     (AR) @[ IoU=0.50:0.95 | area= large | maxDets=1000 ] = 0.909\n",
            "\n",
            "2022-01-16 15:21:07,731 - mmdet - INFO - Epoch(val) [15][88]\tbbox_mAP: 0.7250, bbox_mAP_50: 0.9150, bbox_mAP_75: 0.8270, bbox_mAP_s: 0.4000, bbox_mAP_m: 0.8210, bbox_mAP_l: 0.8770, bbox_mAP_copypaste: 0.725 0.915 0.827 0.400 0.821 0.877\n"
          ]
        },
        {
          "output_type": "stream",
          "name": "stdout",
          "text": [
            "DONE (t=0.04s).\n"
          ]
        },
        {
          "output_type": "stream",
          "name": "stderr",
          "text": [
            "2022-01-16 15:21:13,840 - mmdet - INFO - Epoch [16][10/233]\tlr: 2.500e-05, eta: 0:04:27, time: 0.602, data_time: 0.226, memory: 3446, loss_rpn_cls: 0.0001, loss_rpn_bbox: 0.0015, loss_cls: 0.0145, acc: 99.3945, loss_bbox: 0.0303, loss: 0.0464\n",
            "2022-01-16 15:21:17,714 - mmdet - INFO - Epoch [16][20/233]\tlr: 2.500e-05, eta: 0:04:23, time: 0.387, data_time: 0.015, memory: 3446, loss_rpn_cls: 0.0002, loss_rpn_bbox: 0.0020, loss_cls: 0.0192, acc: 99.2839, loss_bbox: 0.0361, loss: 0.0575\n",
            "2022-01-16 15:21:21,557 - mmdet - INFO - Epoch [16][30/233]\tlr: 2.500e-05, eta: 0:04:19, time: 0.384, data_time: 0.015, memory: 3446, loss_rpn_cls: 0.0002, loss_rpn_bbox: 0.0020, loss_cls: 0.0167, acc: 99.4206, loss_bbox: 0.0339, loss: 0.0528\n",
            "2022-01-16 15:21:25,404 - mmdet - INFO - Epoch [16][40/233]\tlr: 2.500e-05, eta: 0:04:15, time: 0.385, data_time: 0.015, memory: 3446, loss_rpn_cls: 0.0002, loss_rpn_bbox: 0.0021, loss_cls: 0.0147, acc: 99.4141, loss_bbox: 0.0309, loss: 0.0478\n",
            "2022-01-16 15:21:29,246 - mmdet - INFO - Epoch [16][50/233]\tlr: 2.500e-05, eta: 0:04:11, time: 0.384, data_time: 0.015, memory: 3446, loss_rpn_cls: 0.0004, loss_rpn_bbox: 0.0017, loss_cls: 0.0148, acc: 99.3945, loss_bbox: 0.0294, loss: 0.0463\n",
            "2022-01-16 15:21:33,121 - mmdet - INFO - Epoch [16][60/233]\tlr: 2.500e-05, eta: 0:04:07, time: 0.387, data_time: 0.016, memory: 3446, loss_rpn_cls: 0.0001, loss_rpn_bbox: 0.0017, loss_cls: 0.0166, acc: 99.4271, loss_bbox: 0.0335, loss: 0.0519\n",
            "2022-01-16 15:21:36,960 - mmdet - INFO - Epoch [16][70/233]\tlr: 2.500e-05, eta: 0:04:03, time: 0.384, data_time: 0.015, memory: 3446, loss_rpn_cls: 0.0002, loss_rpn_bbox: 0.0020, loss_cls: 0.0165, acc: 99.3099, loss_bbox: 0.0400, loss: 0.0587\n",
            "2022-01-16 15:21:40,828 - mmdet - INFO - Epoch [16][80/233]\tlr: 2.500e-05, eta: 0:04:00, time: 0.387, data_time: 0.014, memory: 3446, loss_rpn_cls: 0.0001, loss_rpn_bbox: 0.0013, loss_cls: 0.0106, acc: 99.6615, loss_bbox: 0.0218, loss: 0.0338\n",
            "2022-01-16 15:21:44,665 - mmdet - INFO - Epoch [16][90/233]\tlr: 2.500e-05, eta: 0:03:56, time: 0.384, data_time: 0.014, memory: 3446, loss_rpn_cls: 0.0002, loss_rpn_bbox: 0.0017, loss_cls: 0.0154, acc: 99.4336, loss_bbox: 0.0339, loss: 0.0512\n",
            "2022-01-16 15:21:48,480 - mmdet - INFO - Epoch [16][100/233]\tlr: 2.500e-05, eta: 0:03:52, time: 0.382, data_time: 0.014, memory: 3446, loss_rpn_cls: 0.0002, loss_rpn_bbox: 0.0020, loss_cls: 0.0145, acc: 99.5182, loss_bbox: 0.0327, loss: 0.0494\n",
            "2022-01-16 15:21:52,328 - mmdet - INFO - Epoch [16][110/233]\tlr: 2.500e-05, eta: 0:03:48, time: 0.385, data_time: 0.015, memory: 3446, loss_rpn_cls: 0.0004, loss_rpn_bbox: 0.0019, loss_cls: 0.0109, acc: 99.6354, loss_bbox: 0.0247, loss: 0.0380\n",
            "2022-01-16 15:21:56,174 - mmdet - INFO - Epoch [16][120/233]\tlr: 2.500e-05, eta: 0:03:44, time: 0.385, data_time: 0.015, memory: 3446, loss_rpn_cls: 0.0001, loss_rpn_bbox: 0.0015, loss_cls: 0.0137, acc: 99.4336, loss_bbox: 0.0271, loss: 0.0423\n",
            "2022-01-16 15:22:00,041 - mmdet - INFO - Epoch [16][130/233]\tlr: 2.500e-05, eta: 0:03:40, time: 0.387, data_time: 0.014, memory: 3446, loss_rpn_cls: 0.0000, loss_rpn_bbox: 0.0015, loss_cls: 0.0131, acc: 99.4661, loss_bbox: 0.0272, loss: 0.0418\n",
            "2022-01-16 15:22:03,869 - mmdet - INFO - Epoch [16][140/233]\tlr: 2.500e-05, eta: 0:03:36, time: 0.383, data_time: 0.015, memory: 3446, loss_rpn_cls: 0.0001, loss_rpn_bbox: 0.0016, loss_cls: 0.0136, acc: 99.4596, loss_bbox: 0.0284, loss: 0.0437\n",
            "2022-01-16 15:22:07,708 - mmdet - INFO - Epoch [16][150/233]\tlr: 2.500e-05, eta: 0:03:32, time: 0.384, data_time: 0.015, memory: 3446, loss_rpn_cls: 0.0001, loss_rpn_bbox: 0.0016, loss_cls: 0.0130, acc: 99.4792, loss_bbox: 0.0253, loss: 0.0399\n",
            "2022-01-16 15:22:11,536 - mmdet - INFO - Epoch [16][160/233]\tlr: 2.500e-05, eta: 0:03:28, time: 0.383, data_time: 0.015, memory: 3446, loss_rpn_cls: 0.0001, loss_rpn_bbox: 0.0013, loss_cls: 0.0142, acc: 99.4857, loss_bbox: 0.0240, loss: 0.0396\n",
            "2022-01-16 15:22:15,397 - mmdet - INFO - Epoch [16][170/233]\tlr: 2.500e-05, eta: 0:03:25, time: 0.386, data_time: 0.015, memory: 3446, loss_rpn_cls: 0.0005, loss_rpn_bbox: 0.0013, loss_cls: 0.0117, acc: 99.5638, loss_bbox: 0.0248, loss: 0.0383\n",
            "2022-01-16 15:22:19,245 - mmdet - INFO - Epoch [16][180/233]\tlr: 2.500e-05, eta: 0:03:21, time: 0.385, data_time: 0.015, memory: 3446, loss_rpn_cls: 0.0001, loss_rpn_bbox: 0.0018, loss_cls: 0.0147, acc: 99.4401, loss_bbox: 0.0320, loss: 0.0487\n",
            "2022-01-16 15:22:23,104 - mmdet - INFO - Epoch [16][190/233]\tlr: 2.500e-05, eta: 0:03:17, time: 0.386, data_time: 0.015, memory: 3446, loss_rpn_cls: 0.0000, loss_rpn_bbox: 0.0015, loss_cls: 0.0135, acc: 99.5052, loss_bbox: 0.0289, loss: 0.0439\n",
            "2022-01-16 15:22:26,954 - mmdet - INFO - Epoch [16][200/233]\tlr: 2.500e-05, eta: 0:03:13, time: 0.385, data_time: 0.015, memory: 3446, loss_rpn_cls: 0.0001, loss_rpn_bbox: 0.0020, loss_cls: 0.0145, acc: 99.4076, loss_bbox: 0.0287, loss: 0.0452\n",
            "2022-01-16 15:22:30,794 - mmdet - INFO - Epoch [16][210/233]\tlr: 2.500e-05, eta: 0:03:09, time: 0.384, data_time: 0.015, memory: 3446, loss_rpn_cls: 0.0001, loss_rpn_bbox: 0.0022, loss_cls: 0.0193, acc: 99.2448, loss_bbox: 0.0355, loss: 0.0570\n",
            "2022-01-16 15:22:34,605 - mmdet - INFO - Epoch [16][220/233]\tlr: 2.500e-05, eta: 0:03:05, time: 0.381, data_time: 0.015, memory: 3446, loss_rpn_cls: 0.0008, loss_rpn_bbox: 0.0018, loss_cls: 0.0147, acc: 99.4922, loss_bbox: 0.0311, loss: 0.0485\n",
            "2022-01-16 15:22:38,452 - mmdet - INFO - Epoch [16][230/233]\tlr: 2.500e-05, eta: 0:03:01, time: 0.385, data_time: 0.015, memory: 3446, loss_rpn_cls: 0.0002, loss_rpn_bbox: 0.0021, loss_cls: 0.0163, acc: 99.4076, loss_bbox: 0.0369, loss: 0.0554\n",
            "2022-01-16 15:22:45,648 - mmdet - INFO - Epoch [17][10/233]\tlr: 2.500e-05, eta: 0:02:56, time: 0.599, data_time: 0.226, memory: 3446, loss_rpn_cls: 0.0002, loss_rpn_bbox: 0.0026, loss_cls: 0.0211, acc: 99.2187, loss_bbox: 0.0411, loss: 0.0650\n",
            "2022-01-16 15:22:49,506 - mmdet - INFO - Epoch [17][20/233]\tlr: 2.500e-05, eta: 0:02:52, time: 0.386, data_time: 0.015, memory: 3446, loss_rpn_cls: 0.0003, loss_rpn_bbox: 0.0018, loss_cls: 0.0148, acc: 99.4727, loss_bbox: 0.0354, loss: 0.0522\n",
            "2022-01-16 15:22:53,337 - mmdet - INFO - Epoch [17][30/233]\tlr: 2.500e-05, eta: 0:02:49, time: 0.383, data_time: 0.015, memory: 3446, loss_rpn_cls: 0.0000, loss_rpn_bbox: 0.0015, loss_cls: 0.0114, acc: 99.5833, loss_bbox: 0.0275, loss: 0.0404\n",
            "2022-01-16 15:22:57,190 - mmdet - INFO - Epoch [17][40/233]\tlr: 2.500e-05, eta: 0:02:45, time: 0.385, data_time: 0.014, memory: 3446, loss_rpn_cls: 0.0002, loss_rpn_bbox: 0.0018, loss_cls: 0.0161, acc: 99.4596, loss_bbox: 0.0308, loss: 0.0489\n",
            "2022-01-16 15:23:01,050 - mmdet - INFO - Epoch [17][50/233]\tlr: 2.500e-05, eta: 0:02:41, time: 0.386, data_time: 0.015, memory: 3446, loss_rpn_cls: 0.0001, loss_rpn_bbox: 0.0017, loss_cls: 0.0129, acc: 99.5182, loss_bbox: 0.0304, loss: 0.0451\n",
            "2022-01-16 15:23:04,876 - mmdet - INFO - Epoch [17][60/233]\tlr: 2.500e-05, eta: 0:02:37, time: 0.383, data_time: 0.015, memory: 3446, loss_rpn_cls: 0.0003, loss_rpn_bbox: 0.0023, loss_cls: 0.0135, acc: 99.4596, loss_bbox: 0.0315, loss: 0.0475\n",
            "2022-01-16 15:23:08,689 - mmdet - INFO - Epoch [17][70/233]\tlr: 2.500e-05, eta: 0:02:33, time: 0.381, data_time: 0.014, memory: 3446, loss_rpn_cls: 0.0002, loss_rpn_bbox: 0.0024, loss_cls: 0.0167, acc: 99.3555, loss_bbox: 0.0335, loss: 0.0528\n",
            "2022-01-16 15:23:12,521 - mmdet - INFO - Epoch [17][80/233]\tlr: 2.500e-05, eta: 0:02:29, time: 0.383, data_time: 0.015, memory: 3446, loss_rpn_cls: 0.0005, loss_rpn_bbox: 0.0027, loss_cls: 0.0214, acc: 99.2383, loss_bbox: 0.0413, loss: 0.0658\n",
            "2022-01-16 15:23:16,356 - mmdet - INFO - Epoch [17][90/233]\tlr: 2.500e-05, eta: 0:02:25, time: 0.384, data_time: 0.015, memory: 3446, loss_rpn_cls: 0.0001, loss_rpn_bbox: 0.0015, loss_cls: 0.0133, acc: 99.4792, loss_bbox: 0.0284, loss: 0.0434\n",
            "2022-01-16 15:23:20,186 - mmdet - INFO - Epoch [17][100/233]\tlr: 2.500e-05, eta: 0:02:21, time: 0.383, data_time: 0.014, memory: 3446, loss_rpn_cls: 0.0002, loss_rpn_bbox: 0.0014, loss_cls: 0.0131, acc: 99.5182, loss_bbox: 0.0285, loss: 0.0433\n",
            "2022-01-16 15:23:24,007 - mmdet - INFO - Epoch [17][110/233]\tlr: 2.500e-05, eta: 0:02:18, time: 0.382, data_time: 0.015, memory: 3446, loss_rpn_cls: 0.0001, loss_rpn_bbox: 0.0017, loss_cls: 0.0151, acc: 99.4466, loss_bbox: 0.0311, loss: 0.0480\n",
            "2022-01-16 15:23:27,826 - mmdet - INFO - Epoch [17][120/233]\tlr: 2.500e-05, eta: 0:02:14, time: 0.382, data_time: 0.015, memory: 3446, loss_rpn_cls: 0.0007, loss_rpn_bbox: 0.0018, loss_cls: 0.0176, acc: 99.3294, loss_bbox: 0.0335, loss: 0.0536\n",
            "2022-01-16 15:23:31,683 - mmdet - INFO - Epoch [17][130/233]\tlr: 2.500e-05, eta: 0:02:10, time: 0.386, data_time: 0.015, memory: 3446, loss_rpn_cls: 0.0002, loss_rpn_bbox: 0.0015, loss_cls: 0.0135, acc: 99.5117, loss_bbox: 0.0292, loss: 0.0444\n",
            "2022-01-16 15:23:35,524 - mmdet - INFO - Epoch [17][140/233]\tlr: 2.500e-05, eta: 0:02:06, time: 0.384, data_time: 0.015, memory: 3446, loss_rpn_cls: 0.0002, loss_rpn_bbox: 0.0016, loss_cls: 0.0140, acc: 99.4401, loss_bbox: 0.0292, loss: 0.0450\n",
            "2022-01-16 15:23:39,371 - mmdet - INFO - Epoch [17][150/233]\tlr: 2.500e-05, eta: 0:02:02, time: 0.385, data_time: 0.015, memory: 3446, loss_rpn_cls: 0.0005, loss_rpn_bbox: 0.0015, loss_cls: 0.0111, acc: 99.5638, loss_bbox: 0.0241, loss: 0.0372\n",
            "2022-01-16 15:23:43,197 - mmdet - INFO - Epoch [17][160/233]\tlr: 2.500e-05, eta: 0:01:58, time: 0.383, data_time: 0.015, memory: 3446, loss_rpn_cls: 0.0001, loss_rpn_bbox: 0.0020, loss_cls: 0.0154, acc: 99.4922, loss_bbox: 0.0308, loss: 0.0483\n",
            "2022-01-16 15:23:47,050 - mmdet - INFO - Epoch [17][170/233]\tlr: 2.500e-05, eta: 0:01:54, time: 0.385, data_time: 0.015, memory: 3446, loss_rpn_cls: 0.0001, loss_rpn_bbox: 0.0017, loss_cls: 0.0141, acc: 99.5247, loss_bbox: 0.0331, loss: 0.0490\n",
            "2022-01-16 15:23:50,895 - mmdet - INFO - Epoch [17][180/233]\tlr: 2.500e-05, eta: 0:01:50, time: 0.384, data_time: 0.015, memory: 3446, loss_rpn_cls: 0.0003, loss_rpn_bbox: 0.0020, loss_cls: 0.0211, acc: 99.1797, loss_bbox: 0.0303, loss: 0.0538\n",
            "2022-01-16 15:23:54,743 - mmdet - INFO - Epoch [17][190/233]\tlr: 2.500e-05, eta: 0:01:46, time: 0.385, data_time: 0.015, memory: 3446, loss_rpn_cls: 0.0002, loss_rpn_bbox: 0.0017, loss_cls: 0.0115, acc: 99.5378, loss_bbox: 0.0218, loss: 0.0353\n",
            "2022-01-16 15:23:58,571 - mmdet - INFO - Epoch [17][200/233]\tlr: 2.500e-05, eta: 0:01:43, time: 0.383, data_time: 0.015, memory: 3446, loss_rpn_cls: 0.0001, loss_rpn_bbox: 0.0017, loss_cls: 0.0145, acc: 99.4336, loss_bbox: 0.0298, loss: 0.0461\n",
            "2022-01-16 15:24:02,399 - mmdet - INFO - Epoch [17][210/233]\tlr: 2.500e-05, eta: 0:01:39, time: 0.383, data_time: 0.015, memory: 3446, loss_rpn_cls: 0.0000, loss_rpn_bbox: 0.0015, loss_cls: 0.0107, acc: 99.5964, loss_bbox: 0.0236, loss: 0.0359\n",
            "2022-01-16 15:24:06,251 - mmdet - INFO - Epoch [17][220/233]\tlr: 2.500e-05, eta: 0:01:35, time: 0.385, data_time: 0.015, memory: 3446, loss_rpn_cls: 0.0001, loss_rpn_bbox: 0.0015, loss_cls: 0.0175, acc: 99.2904, loss_bbox: 0.0353, loss: 0.0544\n",
            "2022-01-16 15:24:10,101 - mmdet - INFO - Epoch [17][230/233]\tlr: 2.500e-05, eta: 0:01:31, time: 0.385, data_time: 0.015, memory: 3446, loss_rpn_cls: 0.0001, loss_rpn_bbox: 0.0011, loss_cls: 0.0115, acc: 99.6289, loss_bbox: 0.0212, loss: 0.0339\n",
            "2022-01-16 15:24:17,298 - mmdet - INFO - Epoch [18][10/233]\tlr: 2.500e-05, eta: 0:01:26, time: 0.597, data_time: 0.226, memory: 3446, loss_rpn_cls: 0.0001, loss_rpn_bbox: 0.0019, loss_cls: 0.0134, acc: 99.4792, loss_bbox: 0.0288, loss: 0.0441\n",
            "2022-01-16 15:24:21,118 - mmdet - INFO - Epoch [18][20/233]\tlr: 2.500e-05, eta: 0:01:22, time: 0.382, data_time: 0.015, memory: 3446, loss_rpn_cls: 0.0002, loss_rpn_bbox: 0.0017, loss_cls: 0.0138, acc: 99.5117, loss_bbox: 0.0302, loss: 0.0459\n",
            "2022-01-16 15:24:24,955 - mmdet - INFO - Epoch [18][30/233]\tlr: 2.500e-05, eta: 0:01:18, time: 0.384, data_time: 0.014, memory: 3446, loss_rpn_cls: 0.0001, loss_rpn_bbox: 0.0020, loss_cls: 0.0146, acc: 99.4076, loss_bbox: 0.0310, loss: 0.0477\n",
            "2022-01-16 15:24:28,786 - mmdet - INFO - Epoch [18][40/233]\tlr: 2.500e-05, eta: 0:01:14, time: 0.383, data_time: 0.015, memory: 3446, loss_rpn_cls: 0.0001, loss_rpn_bbox: 0.0014, loss_cls: 0.0130, acc: 99.5117, loss_bbox: 0.0268, loss: 0.0413\n",
            "2022-01-16 15:24:32,618 - mmdet - INFO - Epoch [18][50/233]\tlr: 2.500e-05, eta: 0:01:10, time: 0.383, data_time: 0.015, memory: 3446, loss_rpn_cls: 0.0001, loss_rpn_bbox: 0.0016, loss_cls: 0.0125, acc: 99.5312, loss_bbox: 0.0269, loss: 0.0411\n",
            "2022-01-16 15:24:36,445 - mmdet - INFO - Epoch [18][60/233]\tlr: 2.500e-05, eta: 0:01:07, time: 0.383, data_time: 0.014, memory: 3446, loss_rpn_cls: 0.0002, loss_rpn_bbox: 0.0020, loss_cls: 0.0158, acc: 99.3294, loss_bbox: 0.0323, loss: 0.0503\n",
            "2022-01-16 15:24:40,279 - mmdet - INFO - Epoch [18][70/233]\tlr: 2.500e-05, eta: 0:01:03, time: 0.383, data_time: 0.015, memory: 3446, loss_rpn_cls: 0.0001, loss_rpn_bbox: 0.0019, loss_cls: 0.0140, acc: 99.5182, loss_bbox: 0.0303, loss: 0.0462\n",
            "2022-01-16 15:24:44,124 - mmdet - INFO - Epoch [18][80/233]\tlr: 2.500e-05, eta: 0:00:59, time: 0.384, data_time: 0.015, memory: 3446, loss_rpn_cls: 0.0001, loss_rpn_bbox: 0.0016, loss_cls: 0.0125, acc: 99.5052, loss_bbox: 0.0275, loss: 0.0417\n",
            "2022-01-16 15:24:47,965 - mmdet - INFO - Epoch [18][90/233]\tlr: 2.500e-05, eta: 0:00:55, time: 0.384, data_time: 0.015, memory: 3446, loss_rpn_cls: 0.0001, loss_rpn_bbox: 0.0019, loss_cls: 0.0139, acc: 99.4596, loss_bbox: 0.0326, loss: 0.0486\n",
            "2022-01-16 15:24:51,787 - mmdet - INFO - Epoch [18][100/233]\tlr: 2.500e-05, eta: 0:00:51, time: 0.382, data_time: 0.015, memory: 3446, loss_rpn_cls: 0.0004, loss_rpn_bbox: 0.0020, loss_cls: 0.0166, acc: 99.3620, loss_bbox: 0.0314, loss: 0.0504\n",
            "2022-01-16 15:24:55,624 - mmdet - INFO - Epoch [18][110/233]\tlr: 2.500e-05, eta: 0:00:47, time: 0.384, data_time: 0.014, memory: 3446, loss_rpn_cls: 0.0005, loss_rpn_bbox: 0.0016, loss_cls: 0.0152, acc: 99.4401, loss_bbox: 0.0281, loss: 0.0454\n",
            "2022-01-16 15:24:59,457 - mmdet - INFO - Epoch [18][120/233]\tlr: 2.500e-05, eta: 0:00:43, time: 0.383, data_time: 0.014, memory: 3446, loss_rpn_cls: 0.0001, loss_rpn_bbox: 0.0011, loss_cls: 0.0118, acc: 99.5378, loss_bbox: 0.0223, loss: 0.0353\n",
            "2022-01-16 15:25:03,304 - mmdet - INFO - Epoch [18][130/233]\tlr: 2.500e-05, eta: 0:00:39, time: 0.385, data_time: 0.015, memory: 3446, loss_rpn_cls: 0.0002, loss_rpn_bbox: 0.0016, loss_cls: 0.0129, acc: 99.4792, loss_bbox: 0.0309, loss: 0.0456\n",
            "2022-01-16 15:25:07,157 - mmdet - INFO - Epoch [18][140/233]\tlr: 2.500e-05, eta: 0:00:36, time: 0.385, data_time: 0.015, memory: 3446, loss_rpn_cls: 0.0002, loss_rpn_bbox: 0.0019, loss_cls: 0.0165, acc: 99.3555, loss_bbox: 0.0305, loss: 0.0490\n",
            "2022-01-16 15:25:11,029 - mmdet - INFO - Epoch [18][150/233]\tlr: 2.500e-05, eta: 0:00:32, time: 0.387, data_time: 0.015, memory: 3446, loss_rpn_cls: 0.0004, loss_rpn_bbox: 0.0015, loss_cls: 0.0133, acc: 99.4922, loss_bbox: 0.0279, loss: 0.0432\n",
            "2022-01-16 15:25:14,834 - mmdet - INFO - Epoch [18][160/233]\tlr: 2.500e-05, eta: 0:00:28, time: 0.381, data_time: 0.015, memory: 3446, loss_rpn_cls: 0.0002, loss_rpn_bbox: 0.0021, loss_cls: 0.0161, acc: 99.4141, loss_bbox: 0.0353, loss: 0.0536\n",
            "2022-01-16 15:25:18,695 - mmdet - INFO - Epoch [18][170/233]\tlr: 2.500e-05, eta: 0:00:24, time: 0.386, data_time: 0.015, memory: 3446, loss_rpn_cls: 0.0001, loss_rpn_bbox: 0.0017, loss_cls: 0.0142, acc: 99.4466, loss_bbox: 0.0288, loss: 0.0449\n",
            "2022-01-16 15:25:22,555 - mmdet - INFO - Epoch [18][180/233]\tlr: 2.500e-05, eta: 0:00:20, time: 0.386, data_time: 0.015, memory: 3446, loss_rpn_cls: 0.0001, loss_rpn_bbox: 0.0013, loss_cls: 0.0148, acc: 99.5182, loss_bbox: 0.0229, loss: 0.0390\n",
            "2022-01-16 15:25:26,397 - mmdet - INFO - Epoch [18][190/233]\tlr: 2.500e-05, eta: 0:00:16, time: 0.384, data_time: 0.015, memory: 3446, loss_rpn_cls: 0.0005, loss_rpn_bbox: 0.0018, loss_cls: 0.0152, acc: 99.4206, loss_bbox: 0.0324, loss: 0.0500\n",
            "2022-01-16 15:25:30,244 - mmdet - INFO - Epoch [18][200/233]\tlr: 2.500e-05, eta: 0:00:12, time: 0.385, data_time: 0.015, memory: 3446, loss_rpn_cls: 0.0001, loss_rpn_bbox: 0.0026, loss_cls: 0.0217, acc: 99.2578, loss_bbox: 0.0442, loss: 0.0686\n",
            "2022-01-16 15:25:34,105 - mmdet - INFO - Epoch [18][210/233]\tlr: 2.500e-05, eta: 0:00:08, time: 0.386, data_time: 0.015, memory: 3446, loss_rpn_cls: 0.0002, loss_rpn_bbox: 0.0013, loss_cls: 0.0146, acc: 99.4336, loss_bbox: 0.0308, loss: 0.0469\n",
            "2022-01-16 15:25:37,949 - mmdet - INFO - Epoch [18][220/233]\tlr: 2.500e-05, eta: 0:00:05, time: 0.384, data_time: 0.015, memory: 3446, loss_rpn_cls: 0.0001, loss_rpn_bbox: 0.0018, loss_cls: 0.0134, acc: 99.4727, loss_bbox: 0.0281, loss: 0.0433\n",
            "2022-01-16 15:25:41,795 - mmdet - INFO - Epoch [18][230/233]\tlr: 2.500e-05, eta: 0:00:01, time: 0.385, data_time: 0.015, memory: 3446, loss_rpn_cls: 0.0003, loss_rpn_bbox: 0.0016, loss_cls: 0.0185, acc: 99.3685, loss_bbox: 0.0307, loss: 0.0512\n",
            "2022-01-16 15:25:42,940 - mmdet - INFO - Saving checkpoint at 18 epochs\n"
          ]
        },
        {
          "output_type": "stream",
          "name": "stdout",
          "text": [
            "[>>>>>>>>>>>>>>>>>>>>>>>>>>>>>>>>] 88/88, 15.7 task/s, elapsed: 6s, ETA:     0s"
          ]
        },
        {
          "output_type": "stream",
          "name": "stderr",
          "text": [
            "2022-01-16 15:25:50,060 - mmdet - INFO - Evaluating bbox...\n"
          ]
        },
        {
          "output_type": "stream",
          "name": "stdout",
          "text": [
            "Loading and preparing results...\n",
            "DONE (t=0.00s)\n",
            "creating index...\n",
            "index created!\n",
            "Running per image evaluation...\n",
            "Evaluate annotation type *bbox*\n",
            "DONE (t=0.05s).\n",
            "Accumulating evaluation results...\n"
          ]
        },
        {
          "output_type": "stream",
          "name": "stderr",
          "text": [
            "2022-01-16 15:25:50,157 - mmdet - INFO - \n",
            " Average Precision  (AP) @[ IoU=0.50:0.95 | area=   all | maxDets=100 ] = 0.725\n",
            " Average Precision  (AP) @[ IoU=0.50      | area=   all | maxDets=1000 ] = 0.915\n",
            " Average Precision  (AP) @[ IoU=0.75      | area=   all | maxDets=1000 ] = 0.827\n",
            " Average Precision  (AP) @[ IoU=0.50:0.95 | area= small | maxDets=1000 ] = 0.398\n",
            " Average Precision  (AP) @[ IoU=0.50:0.95 | area=medium | maxDets=1000 ] = 0.829\n",
            " Average Precision  (AP) @[ IoU=0.50:0.95 | area= large | maxDets=1000 ] = 0.877\n",
            " Average Recall     (AR) @[ IoU=0.50:0.95 | area=   all | maxDets=100 ] = 0.786\n",
            " Average Recall     (AR) @[ IoU=0.50:0.95 | area=   all | maxDets=300 ] = 0.786\n",
            " Average Recall     (AR) @[ IoU=0.50:0.95 | area=   all | maxDets=1000 ] = 0.786\n",
            " Average Recall     (AR) @[ IoU=0.50:0.95 | area= small | maxDets=1000 ] = 0.446\n",
            " Average Recall     (AR) @[ IoU=0.50:0.95 | area=medium | maxDets=1000 ] = 0.881\n",
            " Average Recall     (AR) @[ IoU=0.50:0.95 | area= large | maxDets=1000 ] = 0.909\n",
            "\n",
            "2022-01-16 15:25:50,160 - mmdet - INFO - Epoch(val) [18][88]\tbbox_mAP: 0.7250, bbox_mAP_50: 0.9150, bbox_mAP_75: 0.8270, bbox_mAP_s: 0.3980, bbox_mAP_m: 0.8290, bbox_mAP_l: 0.8770, bbox_mAP_copypaste: 0.725 0.915 0.827 0.398 0.829 0.877\n"
          ]
        },
        {
          "output_type": "stream",
          "name": "stdout",
          "text": [
            "DONE (t=0.04s).\n"
          ]
        }
      ],
      "source": [
        "import tensorflow as tf\n",
        "import datetime\n",
        "from mmdet.datasets import build_dataset\n",
        "from mmdet.models import build_detector\n",
        "from mmdet.apis import train_detector\n",
        "import mmcv\n",
        "import os.path as osp\n",
        "\n",
        "# Build dataset\n",
        "datasets = [build_dataset(cfg.data.train)]\n",
        "\n",
        "log_dir = \"/content/drive/MyDrive/Datasets/data_sign_coco/results_fasterrcnn\" + datetime.datetime.now().strftime(\"%Y%m%d-%H%M%S\")\n",
        "tensorboard_callback = tf.keras.callbacks.TensorBoard(log_dir=log_dir, histogram_freq=1)\n",
        "\n",
        "\n",
        "# Build the detector\n",
        "model = build_detector(\n",
        "    cfg.model)\n",
        "\n",
        "# Create work_dir\n",
        "mmcv.mkdir_or_exist(osp.abspath(cfg.work_dir))\n",
        "train_detector(model, datasets[0], cfg, distributed=False, validate=True)"
      ]
    },
    {
      "cell_type": "code",
      "source": [
        "endtime = str(datetime.datetime.now())\n",
        "print(\"ending time: \", endtime)"
      ],
      "metadata": {
        "colab": {
          "base_uri": "https://localhost:8080/"
        },
        "id": "Jd21p2V5T7rd",
        "outputId": "e48044e0-97eb-4fbd-c6dc-a00c57967305"
      },
      "execution_count": 18,
      "outputs": [
        {
          "output_type": "stream",
          "name": "stdout",
          "text": [
            "ending time:  2022-01-16 15:25:51.176765\n"
          ]
        }
      ]
    },
    {
      "cell_type": "code",
      "source": [
        "!python tools/test.py configs/myconfig_fastercnn.py /content/drive/MyDrive/Datasets/data_sign_coco/results_fasterrcnn/latest.pth --eval bbox\n"
      ],
      "metadata": {
        "colab": {
          "base_uri": "https://localhost:8080/"
        },
        "id": "dWA1hqkXpwEK",
        "outputId": "e9a13fb1-d07c-4889-a15f-c6131e928da6"
      },
      "execution_count": 14,
      "outputs": [
        {
          "output_type": "stream",
          "name": "stdout",
          "text": [
            "loading annotations into memory...\n",
            "Done (t=0.00s)\n",
            "creating index...\n",
            "index created!\n",
            "load checkpoint from local path: /content/drive/MyDrive/Datasets/data_sign_coco/results_fasterrcnn/latest.pth\n",
            "[>>] 88/88, 16.5 task/s, elapsed: 5s, ETA:     0s\n",
            "Evaluating bbox...\n",
            "Loading and preparing results...\n",
            "DONE (t=0.00s)\n",
            "creating index...\n",
            "index created!\n",
            "Running per image evaluation...\n",
            "Evaluate annotation type *bbox*\n",
            "DONE (t=0.04s).\n",
            "Accumulating evaluation results...\n",
            "DONE (t=0.03s).\n",
            "\n",
            " Average Precision  (AP) @[ IoU=0.50:0.95 | area=   all | maxDets=100 ] = 0.739\n",
            " Average Precision  (AP) @[ IoU=0.50      | area=   all | maxDets=1000 ] = 0.911\n",
            " Average Precision  (AP) @[ IoU=0.75      | area=   all | maxDets=1000 ] = 0.837\n",
            " Average Precision  (AP) @[ IoU=0.50:0.95 | area= small | maxDets=1000 ] = 0.570\n",
            " Average Precision  (AP) @[ IoU=0.50:0.95 | area=medium | maxDets=1000 ] = 0.828\n",
            " Average Precision  (AP) @[ IoU=0.50:0.95 | area= large | maxDets=1000 ] = 0.814\n",
            " Average Recall     (AR) @[ IoU=0.50:0.95 | area=   all | maxDets=100 ] = 0.780\n",
            " Average Recall     (AR) @[ IoU=0.50:0.95 | area=   all | maxDets=300 ] = 0.780\n",
            " Average Recall     (AR) @[ IoU=0.50:0.95 | area=   all | maxDets=1000 ] = 0.780\n",
            " Average Recall     (AR) @[ IoU=0.50:0.95 | area= small | maxDets=1000 ] = 0.601\n",
            " Average Recall     (AR) @[ IoU=0.50:0.95 | area=medium | maxDets=1000 ] = 0.842\n",
            " Average Recall     (AR) @[ IoU=0.50:0.95 | area= large | maxDets=1000 ] = 0.872\n",
            "\n",
            "OrderedDict([('bbox_mAP', 0.739), ('bbox_mAP_50', 0.911), ('bbox_mAP_75', 0.837), ('bbox_mAP_s', 0.57), ('bbox_mAP_m', 0.828), ('bbox_mAP_l', 0.814), ('bbox_mAP_copypaste', '0.739 0.911 0.837 0.570 0.828 0.814')])\n"
          ]
        }
      ]
    },
    {
      "cell_type": "code",
      "source": [
        ""
      ],
      "metadata": {
        "id": "PHMN74hA2pKH"
      },
      "execution_count": null,
      "outputs": []
    },
    {
      "cell_type": "code",
      "source": [
        "from mmdet.apis import init_detector, inference_detector, show_result_pyplot\n",
        "#img = \"/content/drive/MyDrive/Datasets/data_sign_coco/test_data/road261_png.rf.770512ea3f01dcaa420cf62c24cf3347.jpg\"\n",
        "model.cfg = cfg\n",
        "images = os.listdir('/content/drive/MyDrive/Datasets/data_sign_coco/test_data')\n",
        "test_images = []\n",
        "for img in images:\n",
        "  img_path = os.path.join(\"/content/drive/MyDrive/Datasets/data_sign_coco/test_data\", img)\n",
        "  test_images.append(img_path)"
      ],
      "metadata": {
        "colab": {
          "base_uri": "https://localhost:8080/",
          "height": 380
        },
        "id": "39v2MkAgP5n3",
        "outputId": "56580bf3-7b97-4a0f-d188-d8ba37e74f62"
      },
      "execution_count": 24,
      "outputs": [
        {
          "output_type": "error",
          "ename": "RuntimeError",
          "evalue": "ignored",
          "traceback": [
            "\u001b[0;31m---------------------------------------------------------------------------\u001b[0m",
            "\u001b[0;31mRuntimeError\u001b[0m                              Traceback (most recent call last)",
            "\u001b[0;32m<ipython-input-24-9ce563cf1085>\u001b[0m in \u001b[0;36m<module>\u001b[0;34m()\u001b[0m\n\u001b[1;32m      8\u001b[0m   \u001b[0mtest_images\u001b[0m\u001b[0;34m.\u001b[0m\u001b[0mappend\u001b[0m\u001b[0;34m(\u001b[0m\u001b[0mimg_path\u001b[0m\u001b[0;34m)\u001b[0m\u001b[0;34m\u001b[0m\u001b[0;34m\u001b[0m\u001b[0m\n\u001b[1;32m      9\u001b[0m \u001b[0;34m\u001b[0m\u001b[0m\n\u001b[0;32m---> 10\u001b[0;31m \u001b[0mresult\u001b[0m \u001b[0;34m=\u001b[0m \u001b[0minference_detector\u001b[0m\u001b[0;34m(\u001b[0m\u001b[0mmodel\u001b[0m\u001b[0;34m,\u001b[0m \u001b[0mtest_images\u001b[0m\u001b[0;34m)\u001b[0m\u001b[0;34m\u001b[0m\u001b[0;34m\u001b[0m\u001b[0m\n\u001b[0m",
            "\u001b[0;32m/content/mmdetection/mmdet/apis/inference.py\u001b[0m in \u001b[0;36minference_detector\u001b[0;34m(model, imgs)\u001b[0m\n\u001b[1;32m    145\u001b[0m     \u001b[0;31m# forward the model\u001b[0m\u001b[0;34m\u001b[0m\u001b[0;34m\u001b[0m\u001b[0;34m\u001b[0m\u001b[0m\n\u001b[1;32m    146\u001b[0m     \u001b[0;32mwith\u001b[0m \u001b[0mtorch\u001b[0m\u001b[0;34m.\u001b[0m\u001b[0mno_grad\u001b[0m\u001b[0;34m(\u001b[0m\u001b[0;34m)\u001b[0m\u001b[0;34m:\u001b[0m\u001b[0;34m\u001b[0m\u001b[0;34m\u001b[0m\u001b[0m\n\u001b[0;32m--> 147\u001b[0;31m         \u001b[0mresults\u001b[0m \u001b[0;34m=\u001b[0m \u001b[0mmodel\u001b[0m\u001b[0;34m(\u001b[0m\u001b[0mreturn_loss\u001b[0m\u001b[0;34m=\u001b[0m\u001b[0;32mFalse\u001b[0m\u001b[0;34m,\u001b[0m \u001b[0mrescale\u001b[0m\u001b[0;34m=\u001b[0m\u001b[0;32mTrue\u001b[0m\u001b[0;34m,\u001b[0m \u001b[0;34m**\u001b[0m\u001b[0mdata\u001b[0m\u001b[0;34m)\u001b[0m\u001b[0;34m\u001b[0m\u001b[0;34m\u001b[0m\u001b[0m\n\u001b[0m\u001b[1;32m    148\u001b[0m \u001b[0;34m\u001b[0m\u001b[0m\n\u001b[1;32m    149\u001b[0m     \u001b[0;32mif\u001b[0m \u001b[0;32mnot\u001b[0m \u001b[0mis_batch\u001b[0m\u001b[0;34m:\u001b[0m\u001b[0;34m\u001b[0m\u001b[0;34m\u001b[0m\u001b[0m\n",
            "\u001b[0;32m/usr/local/lib/python3.7/dist-packages/torch/nn/modules/module.py\u001b[0m in \u001b[0;36m__call__\u001b[0;34m(self, *input, **kwargs)\u001b[0m\n\u001b[1;32m    548\u001b[0m             \u001b[0mresult\u001b[0m \u001b[0;34m=\u001b[0m \u001b[0mself\u001b[0m\u001b[0;34m.\u001b[0m\u001b[0m_slow_forward\u001b[0m\u001b[0;34m(\u001b[0m\u001b[0;34m*\u001b[0m\u001b[0minput\u001b[0m\u001b[0;34m,\u001b[0m \u001b[0;34m**\u001b[0m\u001b[0mkwargs\u001b[0m\u001b[0;34m)\u001b[0m\u001b[0;34m\u001b[0m\u001b[0;34m\u001b[0m\u001b[0m\n\u001b[1;32m    549\u001b[0m         \u001b[0;32melse\u001b[0m\u001b[0;34m:\u001b[0m\u001b[0;34m\u001b[0m\u001b[0;34m\u001b[0m\u001b[0m\n\u001b[0;32m--> 550\u001b[0;31m             \u001b[0mresult\u001b[0m \u001b[0;34m=\u001b[0m \u001b[0mself\u001b[0m\u001b[0;34m.\u001b[0m\u001b[0mforward\u001b[0m\u001b[0;34m(\u001b[0m\u001b[0;34m*\u001b[0m\u001b[0minput\u001b[0m\u001b[0;34m,\u001b[0m \u001b[0;34m**\u001b[0m\u001b[0mkwargs\u001b[0m\u001b[0;34m)\u001b[0m\u001b[0;34m\u001b[0m\u001b[0;34m\u001b[0m\u001b[0m\n\u001b[0m\u001b[1;32m    551\u001b[0m         \u001b[0;32mfor\u001b[0m \u001b[0mhook\u001b[0m \u001b[0;32min\u001b[0m \u001b[0mself\u001b[0m\u001b[0;34m.\u001b[0m\u001b[0m_forward_hooks\u001b[0m\u001b[0;34m.\u001b[0m\u001b[0mvalues\u001b[0m\u001b[0;34m(\u001b[0m\u001b[0;34m)\u001b[0m\u001b[0;34m:\u001b[0m\u001b[0;34m\u001b[0m\u001b[0;34m\u001b[0m\u001b[0m\n\u001b[1;32m    552\u001b[0m             \u001b[0mhook_result\u001b[0m \u001b[0;34m=\u001b[0m \u001b[0mhook\u001b[0m\u001b[0;34m(\u001b[0m\u001b[0mself\u001b[0m\u001b[0;34m,\u001b[0m \u001b[0minput\u001b[0m\u001b[0;34m,\u001b[0m \u001b[0mresult\u001b[0m\u001b[0;34m)\u001b[0m\u001b[0;34m\u001b[0m\u001b[0;34m\u001b[0m\u001b[0m\n",
            "\u001b[0;32m/usr/local/lib/python3.7/dist-packages/mmcv/runner/fp16_utils.py\u001b[0m in \u001b[0;36mnew_func\u001b[0;34m(*args, **kwargs)\u001b[0m\n\u001b[1;32m     96\u001b[0m                                 'method of nn.Module')\n\u001b[1;32m     97\u001b[0m             \u001b[0;32mif\u001b[0m \u001b[0;32mnot\u001b[0m \u001b[0;34m(\u001b[0m\u001b[0mhasattr\u001b[0m\u001b[0;34m(\u001b[0m\u001b[0margs\u001b[0m\u001b[0;34m[\u001b[0m\u001b[0;36m0\u001b[0m\u001b[0;34m]\u001b[0m\u001b[0;34m,\u001b[0m \u001b[0;34m'fp16_enabled'\u001b[0m\u001b[0;34m)\u001b[0m \u001b[0;32mand\u001b[0m \u001b[0margs\u001b[0m\u001b[0;34m[\u001b[0m\u001b[0;36m0\u001b[0m\u001b[0;34m]\u001b[0m\u001b[0;34m.\u001b[0m\u001b[0mfp16_enabled\u001b[0m\u001b[0;34m)\u001b[0m\u001b[0;34m:\u001b[0m\u001b[0;34m\u001b[0m\u001b[0;34m\u001b[0m\u001b[0m\n\u001b[0;32m---> 98\u001b[0;31m                 \u001b[0;32mreturn\u001b[0m \u001b[0mold_func\u001b[0m\u001b[0;34m(\u001b[0m\u001b[0;34m*\u001b[0m\u001b[0margs\u001b[0m\u001b[0;34m,\u001b[0m \u001b[0;34m**\u001b[0m\u001b[0mkwargs\u001b[0m\u001b[0;34m)\u001b[0m\u001b[0;34m\u001b[0m\u001b[0;34m\u001b[0m\u001b[0m\n\u001b[0m\u001b[1;32m     99\u001b[0m \u001b[0;34m\u001b[0m\u001b[0m\n\u001b[1;32m    100\u001b[0m             \u001b[0;31m# get the arg spec of the decorated method\u001b[0m\u001b[0;34m\u001b[0m\u001b[0;34m\u001b[0m\u001b[0;34m\u001b[0m\u001b[0m\n",
            "\u001b[0;32m/content/mmdetection/mmdet/models/detectors/base.py\u001b[0m in \u001b[0;36mforward\u001b[0;34m(self, img, img_metas, return_loss, **kwargs)\u001b[0m\n\u001b[1;32m    172\u001b[0m             \u001b[0;32mreturn\u001b[0m \u001b[0mself\u001b[0m\u001b[0;34m.\u001b[0m\u001b[0mforward_train\u001b[0m\u001b[0;34m(\u001b[0m\u001b[0mimg\u001b[0m\u001b[0;34m,\u001b[0m \u001b[0mimg_metas\u001b[0m\u001b[0;34m,\u001b[0m \u001b[0;34m**\u001b[0m\u001b[0mkwargs\u001b[0m\u001b[0;34m)\u001b[0m\u001b[0;34m\u001b[0m\u001b[0;34m\u001b[0m\u001b[0m\n\u001b[1;32m    173\u001b[0m         \u001b[0;32melse\u001b[0m\u001b[0;34m:\u001b[0m\u001b[0;34m\u001b[0m\u001b[0;34m\u001b[0m\u001b[0m\n\u001b[0;32m--> 174\u001b[0;31m             \u001b[0;32mreturn\u001b[0m \u001b[0mself\u001b[0m\u001b[0;34m.\u001b[0m\u001b[0mforward_test\u001b[0m\u001b[0;34m(\u001b[0m\u001b[0mimg\u001b[0m\u001b[0;34m,\u001b[0m \u001b[0mimg_metas\u001b[0m\u001b[0;34m,\u001b[0m \u001b[0;34m**\u001b[0m\u001b[0mkwargs\u001b[0m\u001b[0;34m)\u001b[0m\u001b[0;34m\u001b[0m\u001b[0;34m\u001b[0m\u001b[0m\n\u001b[0m\u001b[1;32m    175\u001b[0m \u001b[0;34m\u001b[0m\u001b[0m\n\u001b[1;32m    176\u001b[0m     \u001b[0;32mdef\u001b[0m \u001b[0m_parse_losses\u001b[0m\u001b[0;34m(\u001b[0m\u001b[0mself\u001b[0m\u001b[0;34m,\u001b[0m \u001b[0mlosses\u001b[0m\u001b[0;34m)\u001b[0m\u001b[0;34m:\u001b[0m\u001b[0;34m\u001b[0m\u001b[0;34m\u001b[0m\u001b[0m\n",
            "\u001b[0;32m/content/mmdetection/mmdet/models/detectors/base.py\u001b[0m in \u001b[0;36mforward_test\u001b[0;34m(self, imgs, img_metas, **kwargs)\u001b[0m\n\u001b[1;32m    145\u001b[0m             \u001b[0;32mif\u001b[0m \u001b[0;34m'proposals'\u001b[0m \u001b[0;32min\u001b[0m \u001b[0mkwargs\u001b[0m\u001b[0;34m:\u001b[0m\u001b[0;34m\u001b[0m\u001b[0;34m\u001b[0m\u001b[0m\n\u001b[1;32m    146\u001b[0m                 \u001b[0mkwargs\u001b[0m\u001b[0;34m[\u001b[0m\u001b[0;34m'proposals'\u001b[0m\u001b[0;34m]\u001b[0m \u001b[0;34m=\u001b[0m \u001b[0mkwargs\u001b[0m\u001b[0;34m[\u001b[0m\u001b[0;34m'proposals'\u001b[0m\u001b[0;34m]\u001b[0m\u001b[0;34m[\u001b[0m\u001b[0;36m0\u001b[0m\u001b[0;34m]\u001b[0m\u001b[0;34m\u001b[0m\u001b[0;34m\u001b[0m\u001b[0m\n\u001b[0;32m--> 147\u001b[0;31m             \u001b[0;32mreturn\u001b[0m \u001b[0mself\u001b[0m\u001b[0;34m.\u001b[0m\u001b[0msimple_test\u001b[0m\u001b[0;34m(\u001b[0m\u001b[0mimgs\u001b[0m\u001b[0;34m[\u001b[0m\u001b[0;36m0\u001b[0m\u001b[0;34m]\u001b[0m\u001b[0;34m,\u001b[0m \u001b[0mimg_metas\u001b[0m\u001b[0;34m[\u001b[0m\u001b[0;36m0\u001b[0m\u001b[0;34m]\u001b[0m\u001b[0;34m,\u001b[0m \u001b[0;34m**\u001b[0m\u001b[0mkwargs\u001b[0m\u001b[0;34m)\u001b[0m\u001b[0;34m\u001b[0m\u001b[0;34m\u001b[0m\u001b[0m\n\u001b[0m\u001b[1;32m    148\u001b[0m         \u001b[0;32melse\u001b[0m\u001b[0;34m:\u001b[0m\u001b[0;34m\u001b[0m\u001b[0;34m\u001b[0m\u001b[0m\n\u001b[1;32m    149\u001b[0m             \u001b[0;32massert\u001b[0m \u001b[0mimgs\u001b[0m\u001b[0;34m[\u001b[0m\u001b[0;36m0\u001b[0m\u001b[0;34m]\u001b[0m\u001b[0;34m.\u001b[0m\u001b[0msize\u001b[0m\u001b[0;34m(\u001b[0m\u001b[0;36m0\u001b[0m\u001b[0;34m)\u001b[0m \u001b[0;34m==\u001b[0m \u001b[0;36m1\u001b[0m\u001b[0;34m,\u001b[0m \u001b[0;34m'aug test does not support '\u001b[0m\u001b[0;31m \u001b[0m\u001b[0;31m\\\u001b[0m\u001b[0;34m\u001b[0m\u001b[0;34m\u001b[0m\u001b[0m\n",
            "\u001b[0;32m/content/mmdetection/mmdet/models/detectors/two_stage.py\u001b[0m in \u001b[0;36msimple_test\u001b[0;34m(self, img, img_metas, proposals, rescale)\u001b[0m\n\u001b[1;32m    175\u001b[0m \u001b[0;34m\u001b[0m\u001b[0m\n\u001b[1;32m    176\u001b[0m         \u001b[0;32massert\u001b[0m \u001b[0mself\u001b[0m\u001b[0;34m.\u001b[0m\u001b[0mwith_bbox\u001b[0m\u001b[0;34m,\u001b[0m \u001b[0;34m'Bbox head must be implemented.'\u001b[0m\u001b[0;34m\u001b[0m\u001b[0;34m\u001b[0m\u001b[0m\n\u001b[0;32m--> 177\u001b[0;31m         \u001b[0mx\u001b[0m \u001b[0;34m=\u001b[0m \u001b[0mself\u001b[0m\u001b[0;34m.\u001b[0m\u001b[0mextract_feat\u001b[0m\u001b[0;34m(\u001b[0m\u001b[0mimg\u001b[0m\u001b[0;34m)\u001b[0m\u001b[0;34m\u001b[0m\u001b[0;34m\u001b[0m\u001b[0m\n\u001b[0m\u001b[1;32m    178\u001b[0m         \u001b[0;32mif\u001b[0m \u001b[0mproposals\u001b[0m \u001b[0;32mis\u001b[0m \u001b[0;32mNone\u001b[0m\u001b[0;34m:\u001b[0m\u001b[0;34m\u001b[0m\u001b[0;34m\u001b[0m\u001b[0m\n\u001b[1;32m    179\u001b[0m             \u001b[0mproposal_list\u001b[0m \u001b[0;34m=\u001b[0m \u001b[0mself\u001b[0m\u001b[0;34m.\u001b[0m\u001b[0mrpn_head\u001b[0m\u001b[0;34m.\u001b[0m\u001b[0msimple_test_rpn\u001b[0m\u001b[0;34m(\u001b[0m\u001b[0mx\u001b[0m\u001b[0;34m,\u001b[0m \u001b[0mimg_metas\u001b[0m\u001b[0;34m)\u001b[0m\u001b[0;34m\u001b[0m\u001b[0;34m\u001b[0m\u001b[0m\n",
            "\u001b[0;32m/content/mmdetection/mmdet/models/detectors/two_stage.py\u001b[0m in \u001b[0;36mextract_feat\u001b[0;34m(self, img)\u001b[0m\n\u001b[1;32m     67\u001b[0m         \u001b[0mx\u001b[0m \u001b[0;34m=\u001b[0m \u001b[0mself\u001b[0m\u001b[0;34m.\u001b[0m\u001b[0mbackbone\u001b[0m\u001b[0;34m(\u001b[0m\u001b[0mimg\u001b[0m\u001b[0;34m)\u001b[0m\u001b[0;34m\u001b[0m\u001b[0;34m\u001b[0m\u001b[0m\n\u001b[1;32m     68\u001b[0m         \u001b[0;32mif\u001b[0m \u001b[0mself\u001b[0m\u001b[0;34m.\u001b[0m\u001b[0mwith_neck\u001b[0m\u001b[0;34m:\u001b[0m\u001b[0;34m\u001b[0m\u001b[0;34m\u001b[0m\u001b[0m\n\u001b[0;32m---> 69\u001b[0;31m             \u001b[0mx\u001b[0m \u001b[0;34m=\u001b[0m \u001b[0mself\u001b[0m\u001b[0;34m.\u001b[0m\u001b[0mneck\u001b[0m\u001b[0;34m(\u001b[0m\u001b[0mx\u001b[0m\u001b[0;34m)\u001b[0m\u001b[0;34m\u001b[0m\u001b[0;34m\u001b[0m\u001b[0m\n\u001b[0m\u001b[1;32m     70\u001b[0m         \u001b[0;32mreturn\u001b[0m \u001b[0mx\u001b[0m\u001b[0;34m\u001b[0m\u001b[0;34m\u001b[0m\u001b[0m\n\u001b[1;32m     71\u001b[0m \u001b[0;34m\u001b[0m\u001b[0m\n",
            "\u001b[0;32m/usr/local/lib/python3.7/dist-packages/torch/nn/modules/module.py\u001b[0m in \u001b[0;36m__call__\u001b[0;34m(self, *input, **kwargs)\u001b[0m\n\u001b[1;32m    548\u001b[0m             \u001b[0mresult\u001b[0m \u001b[0;34m=\u001b[0m \u001b[0mself\u001b[0m\u001b[0;34m.\u001b[0m\u001b[0m_slow_forward\u001b[0m\u001b[0;34m(\u001b[0m\u001b[0;34m*\u001b[0m\u001b[0minput\u001b[0m\u001b[0;34m,\u001b[0m \u001b[0;34m**\u001b[0m\u001b[0mkwargs\u001b[0m\u001b[0;34m)\u001b[0m\u001b[0;34m\u001b[0m\u001b[0;34m\u001b[0m\u001b[0m\n\u001b[1;32m    549\u001b[0m         \u001b[0;32melse\u001b[0m\u001b[0;34m:\u001b[0m\u001b[0;34m\u001b[0m\u001b[0;34m\u001b[0m\u001b[0m\n\u001b[0;32m--> 550\u001b[0;31m             \u001b[0mresult\u001b[0m \u001b[0;34m=\u001b[0m \u001b[0mself\u001b[0m\u001b[0;34m.\u001b[0m\u001b[0mforward\u001b[0m\u001b[0;34m(\u001b[0m\u001b[0;34m*\u001b[0m\u001b[0minput\u001b[0m\u001b[0;34m,\u001b[0m \u001b[0;34m**\u001b[0m\u001b[0mkwargs\u001b[0m\u001b[0;34m)\u001b[0m\u001b[0;34m\u001b[0m\u001b[0;34m\u001b[0m\u001b[0m\n\u001b[0m\u001b[1;32m    551\u001b[0m         \u001b[0;32mfor\u001b[0m \u001b[0mhook\u001b[0m \u001b[0;32min\u001b[0m \u001b[0mself\u001b[0m\u001b[0;34m.\u001b[0m\u001b[0m_forward_hooks\u001b[0m\u001b[0;34m.\u001b[0m\u001b[0mvalues\u001b[0m\u001b[0;34m(\u001b[0m\u001b[0;34m)\u001b[0m\u001b[0;34m:\u001b[0m\u001b[0;34m\u001b[0m\u001b[0;34m\u001b[0m\u001b[0m\n\u001b[1;32m    552\u001b[0m             \u001b[0mhook_result\u001b[0m \u001b[0;34m=\u001b[0m \u001b[0mhook\u001b[0m\u001b[0;34m(\u001b[0m\u001b[0mself\u001b[0m\u001b[0;34m,\u001b[0m \u001b[0minput\u001b[0m\u001b[0;34m,\u001b[0m \u001b[0mresult\u001b[0m\u001b[0;34m)\u001b[0m\u001b[0;34m\u001b[0m\u001b[0;34m\u001b[0m\u001b[0m\n",
            "\u001b[0;32m/usr/local/lib/python3.7/dist-packages/mmcv/runner/fp16_utils.py\u001b[0m in \u001b[0;36mnew_func\u001b[0;34m(*args, **kwargs)\u001b[0m\n\u001b[1;32m     96\u001b[0m                                 'method of nn.Module')\n\u001b[1;32m     97\u001b[0m             \u001b[0;32mif\u001b[0m \u001b[0;32mnot\u001b[0m \u001b[0;34m(\u001b[0m\u001b[0mhasattr\u001b[0m\u001b[0;34m(\u001b[0m\u001b[0margs\u001b[0m\u001b[0;34m[\u001b[0m\u001b[0;36m0\u001b[0m\u001b[0;34m]\u001b[0m\u001b[0;34m,\u001b[0m \u001b[0;34m'fp16_enabled'\u001b[0m\u001b[0;34m)\u001b[0m \u001b[0;32mand\u001b[0m \u001b[0margs\u001b[0m\u001b[0;34m[\u001b[0m\u001b[0;36m0\u001b[0m\u001b[0;34m]\u001b[0m\u001b[0;34m.\u001b[0m\u001b[0mfp16_enabled\u001b[0m\u001b[0;34m)\u001b[0m\u001b[0;34m:\u001b[0m\u001b[0;34m\u001b[0m\u001b[0;34m\u001b[0m\u001b[0m\n\u001b[0;32m---> 98\u001b[0;31m                 \u001b[0;32mreturn\u001b[0m \u001b[0mold_func\u001b[0m\u001b[0;34m(\u001b[0m\u001b[0;34m*\u001b[0m\u001b[0margs\u001b[0m\u001b[0;34m,\u001b[0m \u001b[0;34m**\u001b[0m\u001b[0mkwargs\u001b[0m\u001b[0;34m)\u001b[0m\u001b[0;34m\u001b[0m\u001b[0;34m\u001b[0m\u001b[0m\n\u001b[0m\u001b[1;32m     99\u001b[0m \u001b[0;34m\u001b[0m\u001b[0m\n\u001b[1;32m    100\u001b[0m             \u001b[0;31m# get the arg spec of the decorated method\u001b[0m\u001b[0;34m\u001b[0m\u001b[0;34m\u001b[0m\u001b[0;34m\u001b[0m\u001b[0m\n",
            "\u001b[0;32m/content/mmdetection/mmdet/models/necks/fpn.py\u001b[0m in \u001b[0;36mforward\u001b[0;34m(self, inputs)\u001b[0m\n\u001b[1;32m    171\u001b[0m                 \u001b[0mprev_shape\u001b[0m \u001b[0;34m=\u001b[0m \u001b[0mlaterals\u001b[0m\u001b[0;34m[\u001b[0m\u001b[0mi\u001b[0m \u001b[0;34m-\u001b[0m \u001b[0;36m1\u001b[0m\u001b[0;34m]\u001b[0m\u001b[0;34m.\u001b[0m\u001b[0mshape\u001b[0m\u001b[0;34m[\u001b[0m\u001b[0;36m2\u001b[0m\u001b[0;34m:\u001b[0m\u001b[0;34m]\u001b[0m\u001b[0;34m\u001b[0m\u001b[0;34m\u001b[0m\u001b[0m\n\u001b[1;32m    172\u001b[0m                 laterals[i - 1] += F.interpolate(\n\u001b[0;32m--> 173\u001b[0;31m                     laterals[i], size=prev_shape, **self.upsample_cfg)\n\u001b[0m\u001b[1;32m    174\u001b[0m \u001b[0;34m\u001b[0m\u001b[0m\n\u001b[1;32m    175\u001b[0m         \u001b[0;31m# build outputs\u001b[0m\u001b[0;34m\u001b[0m\u001b[0;34m\u001b[0m\u001b[0;34m\u001b[0m\u001b[0m\n",
            "\u001b[0;32m/usr/local/lib/python3.7/dist-packages/torch/nn/functional.py\u001b[0m in \u001b[0;36minterpolate\u001b[0;34m(input, size, scale_factor, mode, align_corners, recompute_scale_factor)\u001b[0m\n\u001b[1;32m   2989\u001b[0m     \u001b[0;32melif\u001b[0m \u001b[0minput\u001b[0m\u001b[0;34m.\u001b[0m\u001b[0mdim\u001b[0m\u001b[0;34m(\u001b[0m\u001b[0;34m)\u001b[0m \u001b[0;34m==\u001b[0m \u001b[0;36m4\u001b[0m \u001b[0;32mand\u001b[0m \u001b[0mmode\u001b[0m \u001b[0;34m==\u001b[0m \u001b[0;34m'nearest'\u001b[0m\u001b[0;34m:\u001b[0m\u001b[0;34m\u001b[0m\u001b[0;34m\u001b[0m\u001b[0m\n\u001b[1;32m   2990\u001b[0m         return torch._C._nn.upsample_nearest2d(input, _interp_output_size(2, closed_over_args), \n\u001b[0;32m-> 2991\u001b[0;31m                                                scale_factor_list[0], scale_factor_list[1])\n\u001b[0m\u001b[1;32m   2992\u001b[0m     \u001b[0;32melif\u001b[0m \u001b[0minput\u001b[0m\u001b[0;34m.\u001b[0m\u001b[0mdim\u001b[0m\u001b[0;34m(\u001b[0m\u001b[0;34m)\u001b[0m \u001b[0;34m==\u001b[0m \u001b[0;36m5\u001b[0m \u001b[0;32mand\u001b[0m \u001b[0mmode\u001b[0m \u001b[0;34m==\u001b[0m \u001b[0;34m'nearest'\u001b[0m\u001b[0;34m:\u001b[0m\u001b[0;34m\u001b[0m\u001b[0;34m\u001b[0m\u001b[0m\n\u001b[1;32m   2993\u001b[0m         return torch._C._nn.upsample_nearest3d(input, _interp_output_size(3, closed_over_args),\n",
            "\u001b[0;31mRuntimeError\u001b[0m: CUDA out of memory. Tried to allocate 3.36 GiB (GPU 0; 15.90 GiB total capacity; 12.54 GiB already allocated; 563.75 MiB free; 14.54 GiB reserved in total by PyTorch)"
          ]
        }
      ]
    },
    {
      "cell_type": "code",
      "source": [
        ""
      ],
      "metadata": {
        "id": "J3Y2GMupmRgD"
      },
      "execution_count": null,
      "outputs": []
    },
    {
      "cell_type": "code",
      "source": [
        "test_images"
      ],
      "metadata": {
        "colab": {
          "base_uri": "https://localhost:8080/"
        },
        "id": "oOPlr1IxSP78",
        "outputId": "f9109106-ca44-4641-bb0d-a528a79235a8"
      },
      "execution_count": 26,
      "outputs": [
        {
          "output_type": "execute_result",
          "data": {
            "text/plain": [
              "['/content/drive/MyDrive/Datasets/data_sign_coco/test_data/road261_png.rf.770512ea3f01dcaa420cf62c24cf3347.jpg',\n",
              " '/content/drive/MyDrive/Datasets/data_sign_coco/test_data/road498_png.rf.0e7020b45f01a14cd1cb9d1bbdc99766.jpg',\n",
              " '/content/drive/MyDrive/Datasets/data_sign_coco/test_data/road100_png.rf.00cc961633005fae475e1e9633c0446f.jpg',\n",
              " '/content/drive/MyDrive/Datasets/data_sign_coco/test_data/road50_png.rf.cb0c3b23a6b712005e31176df4892db8.jpg',\n",
              " '/content/drive/MyDrive/Datasets/data_sign_coco/test_data/road709_png.rf.6c7c19a7d30b0669ebf0b8456b2775b0.jpg',\n",
              " '/content/drive/MyDrive/Datasets/data_sign_coco/test_data/road558_png.rf.634589445c11561d7f985158dc6a0b2b.jpg',\n",
              " '/content/drive/MyDrive/Datasets/data_sign_coco/test_data/road445_png.rf.188a41709a254d6fa8aee63331184d57.jpg',\n",
              " '/content/drive/MyDrive/Datasets/data_sign_coco/test_data/road617_png.rf.6de13550e40770e1cbdba3702080110c.jpg',\n",
              " '/content/drive/MyDrive/Datasets/data_sign_coco/test_data/road367_png.rf.8aa56831b4bed9e004827320070aa212.jpg',\n",
              " '/content/drive/MyDrive/Datasets/data_sign_coco/test_data/road316_png.rf.50dfcfd2323f9bd2f67f2763f30768b6.jpg',\n",
              " '/content/drive/MyDrive/Datasets/data_sign_coco/test_data/road712_png.rf.8edb221c4a8a34cd82793c1f41e653c5.jpg',\n",
              " '/content/drive/MyDrive/Datasets/data_sign_coco/test_data/road679_png.rf.054da32619cff71e463b66cce67accf0.jpg',\n",
              " '/content/drive/MyDrive/Datasets/data_sign_coco/test_data/road206_png.rf.b4d9c3863ce0251b5d8badb257f69b0f.jpg',\n",
              " '/content/drive/MyDrive/Datasets/data_sign_coco/test_data/road140_png.rf.a71161f385e90dc1a0a98a2a345ade95.jpg',\n",
              " '/content/drive/MyDrive/Datasets/data_sign_coco/test_data/road665_png.rf.cf842a32ec9f32b894fd4d591e5a27f0.jpg',\n",
              " '/content/drive/MyDrive/Datasets/data_sign_coco/test_data/road183_png.rf.a340544dc73c9fccca7ec9af836c2de5.jpg',\n",
              " '/content/drive/MyDrive/Datasets/data_sign_coco/test_data/road721_png.rf.35971bc87a4cd3194e6aa7ff76f6447c.jpg',\n",
              " '/content/drive/MyDrive/Datasets/data_sign_coco/test_data/road431_png.rf.76f125ca2d53999b2ef3b262b3e90323.jpg',\n",
              " '/content/drive/MyDrive/Datasets/data_sign_coco/test_data/road418_png.rf.6df86cfbec6446cfda629a990ab5769c.jpg',\n",
              " '/content/drive/MyDrive/Datasets/data_sign_coco/test_data/road609_png.rf.aff65248a4cf742a7dacd9fa0a249989.jpg',\n",
              " '/content/drive/MyDrive/Datasets/data_sign_coco/test_data/road643_png.rf.d7eb23f876a9c1389a359b7e4fb11853.jpg',\n",
              " '/content/drive/MyDrive/Datasets/data_sign_coco/test_data/road640_png.rf.22636ac66bcb2d13088d9ef6d9ef92a7.jpg',\n",
              " '/content/drive/MyDrive/Datasets/data_sign_coco/test_data/road318_png.rf.91df40b9e7f832ddabc7491ac1b6e501.jpg',\n",
              " '/content/drive/MyDrive/Datasets/data_sign_coco/test_data/road18_png.rf.71ce17039b1e4deb37fcdd5a36ce1170.jpg',\n",
              " '/content/drive/MyDrive/Datasets/data_sign_coco/test_data/road337_png.rf.525d65f934bdd1cb382ecef83be842e2.jpg',\n",
              " '/content/drive/MyDrive/Datasets/data_sign_coco/test_data/road417_png.rf.526ba0cfc40fc9c7e000501eb50dfe6f.jpg',\n",
              " '/content/drive/MyDrive/Datasets/data_sign_coco/test_data/road600_png.rf.c9896462fd486097bf825f9145256f36.jpg',\n",
              " '/content/drive/MyDrive/Datasets/data_sign_coco/test_data/road547_png.rf.1fc65c4961a4378aaffd66bace776637.jpg',\n",
              " '/content/drive/MyDrive/Datasets/data_sign_coco/test_data/road764_png.rf.38b94e118751540c868130dd899be959.jpg',\n",
              " '/content/drive/MyDrive/Datasets/data_sign_coco/test_data/road67_png.rf.0b92635407ea8997541c05bade849c08.jpg',\n",
              " '/content/drive/MyDrive/Datasets/data_sign_coco/test_data/road328_png.rf.a8778f00931c027b898035ecdd4388c8.jpg',\n",
              " '/content/drive/MyDrive/Datasets/data_sign_coco/test_data/road841_png.rf.b5b600d902f38b111182e7e4a1d20453.jpg',\n",
              " '/content/drive/MyDrive/Datasets/data_sign_coco/test_data/road854_png.rf.468dc7dbe2d70092e6700f7ace88f99a.jpg',\n",
              " '/content/drive/MyDrive/Datasets/data_sign_coco/test_data/road625_png.rf.35d42dada716a28f14043ddf6d48b76f.jpg',\n",
              " '/content/drive/MyDrive/Datasets/data_sign_coco/test_data/road3_png.rf.1450375670e1a837b791120968b2d4ec.jpg',\n",
              " '/content/drive/MyDrive/Datasets/data_sign_coco/test_data/road789_png.rf.e62a00e4dec63b55a36655e36bb018f1.jpg',\n",
              " '/content/drive/MyDrive/Datasets/data_sign_coco/test_data/road819_png.rf.07f924743b4f7f81ea4029ebe7524068.jpg',\n",
              " '/content/drive/MyDrive/Datasets/data_sign_coco/test_data/road199_png.rf.2caa9a75956f7a8864ee3665ab3e8ce6.jpg',\n",
              " '/content/drive/MyDrive/Datasets/data_sign_coco/test_data/road174_png.rf.9eaf917540e0d3f32702efc5ef3b90e4.jpg',\n",
              " '/content/drive/MyDrive/Datasets/data_sign_coco/test_data/road194_png.rf.c144c4a467d140a83b1d06dc53f73ce5.jpg',\n",
              " '/content/drive/MyDrive/Datasets/data_sign_coco/test_data/road804_png.rf.976ae05b9c55b9ba0810a2048ffd138a.jpg',\n",
              " '/content/drive/MyDrive/Datasets/data_sign_coco/test_data/road490_png.rf.802cef9295e9e6b01215a619c245bd79.jpg',\n",
              " '/content/drive/MyDrive/Datasets/data_sign_coco/test_data/road801_png.rf.981cdb5b2e66cd5024135365fba81142.jpg',\n",
              " '/content/drive/MyDrive/Datasets/data_sign_coco/test_data/road550_png.rf.697428493e10c82047c96986d8c85c8a.jpg',\n",
              " '/content/drive/MyDrive/Datasets/data_sign_coco/test_data/road33_png.rf.59f69959f2f965feba110326bbae679f.jpg',\n",
              " '/content/drive/MyDrive/Datasets/data_sign_coco/test_data/road142_png.rf.31d3a54ced15281ffbd09d2a3e6aee27.jpg',\n",
              " '/content/drive/MyDrive/Datasets/data_sign_coco/test_data/road96_png.rf.b6427637fbd2a823a99c3be9e07d4802.jpg',\n",
              " '/content/drive/MyDrive/Datasets/data_sign_coco/test_data/road433_png.rf.e4b208290b96f3a974abcb29837ec0ba.jpg',\n",
              " '/content/drive/MyDrive/Datasets/data_sign_coco/test_data/road695_png.rf.a38a8c5e43280f941e8b386565fae76e.jpg',\n",
              " '/content/drive/MyDrive/Datasets/data_sign_coco/test_data/road321_png.rf.3be44eef4f6bffb0cff7023fc15c0d08.jpg',\n",
              " '/content/drive/MyDrive/Datasets/data_sign_coco/test_data/road543_png.rf.976472c4013fbcadea1409fd25d2021f.jpg',\n",
              " '/content/drive/MyDrive/Datasets/data_sign_coco/test_data/road661_png.rf.641d316f3d3fce2c96b343f07ddc69a8.jpg',\n",
              " '/content/drive/MyDrive/Datasets/data_sign_coco/test_data/road492_png.rf.48d97677bfcc9fcb1969c8ad08429bb1.jpg',\n",
              " '/content/drive/MyDrive/Datasets/data_sign_coco/test_data/road403_png.rf.322949a842d4db2417cdcb86a256fb1e.jpg',\n",
              " '/content/drive/MyDrive/Datasets/data_sign_coco/test_data/road315_png.rf.c790aec7d9f305fde84688e614fb4b17.jpg',\n",
              " '/content/drive/MyDrive/Datasets/data_sign_coco/test_data/road129_png.rf.cbc09e4165fa1ca9ba63cb518cdba09d.jpg',\n",
              " '/content/drive/MyDrive/Datasets/data_sign_coco/test_data/road784_png.rf.00969c658a9ca65dafce4f0d15d52edd.jpg',\n",
              " '/content/drive/MyDrive/Datasets/data_sign_coco/test_data/road563_png.rf.3bbfcfd29e510a251c94dc598c7d67c7.jpg',\n",
              " '/content/drive/MyDrive/Datasets/data_sign_coco/test_data/road667_png.rf.c2747056078054cd70bf076aacffb53a.jpg',\n",
              " '/content/drive/MyDrive/Datasets/data_sign_coco/test_data/road385_png.rf.a73d2588ee15cec84bf564911db1cbfd.jpg',\n",
              " '/content/drive/MyDrive/Datasets/data_sign_coco/test_data/road486_png.rf.a795c4037d61060f71325f05a7b60171.jpg',\n",
              " '/content/drive/MyDrive/Datasets/data_sign_coco/test_data/road356_png.rf.c5b3f7502a2f823ec089bfd85e9cd7b5.jpg',\n",
              " '/content/drive/MyDrive/Datasets/data_sign_coco/test_data/road731_png.rf.085e49a600034284aaa395daf00ed10b.jpg',\n",
              " '/content/drive/MyDrive/Datasets/data_sign_coco/test_data/road730_png.rf.381217bd6fcf917b2c8354dcc57beed6.jpg',\n",
              " '/content/drive/MyDrive/Datasets/data_sign_coco/test_data/road809_png.rf.0c520cd8af983c99b4aa0b4507ba97d9.jpg',\n",
              " '/content/drive/MyDrive/Datasets/data_sign_coco/test_data/road803_png.rf.3e498cfea3678181c9dcdf5e84af39e8.jpg',\n",
              " '/content/drive/MyDrive/Datasets/data_sign_coco/test_data/road494_png.rf.08be4ef44dfa3f2b47084c0928740308.jpg',\n",
              " '/content/drive/MyDrive/Datasets/data_sign_coco/test_data/road43_png.rf.b0cb9332e78ada3dd0efcc3e647e926b.jpg',\n",
              " '/content/drive/MyDrive/Datasets/data_sign_coco/test_data/road590_png.rf.bffe5e789a8e9713f0ec48676b81c857.jpg',\n",
              " '/content/drive/MyDrive/Datasets/data_sign_coco/test_data/road160_png.rf.9c077bf80f3e9abded343f5cc69e9d44.jpg',\n",
              " '/content/drive/MyDrive/Datasets/data_sign_coco/test_data/road37_png.rf.15a5dbaa0eb90116814fb72db437be95.jpg',\n",
              " '/content/drive/MyDrive/Datasets/data_sign_coco/test_data/road91_png.rf.b6e86b9e5be29ca169cc5ecd1abe921f.jpg',\n",
              " '/content/drive/MyDrive/Datasets/data_sign_coco/test_data/road293_png.rf.b99d8f66e71946649ef006ce357c78ad.jpg',\n",
              " '/content/drive/MyDrive/Datasets/data_sign_coco/test_data/road564_png.rf.3ea3c1db3c69b65a0c114db95fece706.jpg',\n",
              " '/content/drive/MyDrive/Datasets/data_sign_coco/test_data/road267_png.rf.0e5488bf18045624f784dbe4ce188885.jpg',\n",
              " '/content/drive/MyDrive/Datasets/data_sign_coco/test_data/road157_png.rf.3c1a48d9d3146d50a6a4008e2c79105f.jpg',\n",
              " '/content/drive/MyDrive/Datasets/data_sign_coco/test_data/road80_png.rf.262eb0148ce31c13a2b4b09874ec0969.jpg',\n",
              " '/content/drive/MyDrive/Datasets/data_sign_coco/test_data/road748_png.rf.16b036f980e80b9dd8218d27467402e8.jpg',\n",
              " '/content/drive/MyDrive/Datasets/data_sign_coco/test_data/road408_png.rf.cc493dbc6f65600f5ccf0958fe3b1c3f.jpg',\n",
              " '/content/drive/MyDrive/Datasets/data_sign_coco/test_data/road599_png.rf.7f3a3c5b47dee3568e415c2a369dbd43.jpg',\n",
              " '/content/drive/MyDrive/Datasets/data_sign_coco/test_data/road143_png.rf.d88a85c380d2fd9f1fda21453cdb09d2.jpg',\n",
              " '/content/drive/MyDrive/Datasets/data_sign_coco/test_data/road47_png.rf.7baad135025a98a35a3bd0ebb12e33f0.jpg',\n",
              " '/content/drive/MyDrive/Datasets/data_sign_coco/test_data/road113_png.rf.a6cf620aa321cd96f1eda3ee75aac0b6.jpg',\n",
              " '/content/drive/MyDrive/Datasets/data_sign_coco/test_data/road796_png.rf.efa5cc99c28669c426b34953b98a5c09.jpg',\n",
              " '/content/drive/MyDrive/Datasets/data_sign_coco/test_data/road672_png.rf.fdae1c71584fa18a900ee23c11f2da2b.jpg',\n",
              " '/content/drive/MyDrive/Datasets/data_sign_coco/test_data/road164_png.rf.e3a57efc8e15e12f911ac4330266d165.jpg',\n",
              " '/content/drive/MyDrive/Datasets/data_sign_coco/test_data/road175_png.rf.e590d5e58ecc38e324e714598ed2b5fa.jpg',\n",
              " '/content/drive/MyDrive/Datasets/data_sign_coco/test_data/road360_png.rf.c2c7c3b6226939f016cf391a84712fe2.jpg']"
            ]
          },
          "metadata": {},
          "execution_count": 26
        }
      ]
    },
    {
      "cell_type": "code",
      "source": [
        "# show the results\n",
        "show_result_pyplot(model, img, result)"
      ],
      "metadata": {
        "colab": {
          "base_uri": "https://localhost:8080/",
          "height": 328
        },
        "id": "Q_BIrhdKQwj1",
        "outputId": "ec07acff-83bf-4722-e9d7-6726b1ac9145"
      },
      "execution_count": null,
      "outputs": [
        {
          "output_type": "error",
          "ename": "AttributeError",
          "evalue": "ignored",
          "traceback": [
            "\u001b[0;31m---------------------------------------------------------------------------\u001b[0m",
            "\u001b[0;31mAttributeError\u001b[0m                            Traceback (most recent call last)",
            "\u001b[0;32m<ipython-input-149-80a56ffdd1ed>\u001b[0m in \u001b[0;36m<module>\u001b[0;34m()\u001b[0m\n\u001b[1;32m      1\u001b[0m \u001b[0;31m# show the results\u001b[0m\u001b[0;34m\u001b[0m\u001b[0;34m\u001b[0m\u001b[0;34m\u001b[0m\u001b[0m\n\u001b[0;32m----> 2\u001b[0;31m \u001b[0mshow_result_pyplot\u001b[0m\u001b[0;34m(\u001b[0m\u001b[0mmodel\u001b[0m\u001b[0;34m,\u001b[0m \u001b[0mimg\u001b[0m\u001b[0;34m,\u001b[0m \u001b[0mresult\u001b[0m\u001b[0;34m)\u001b[0m\u001b[0;34m\u001b[0m\u001b[0;34m\u001b[0m\u001b[0m\n\u001b[0m",
            "\u001b[0;32m/content/mmdetection/mmdet/apis/inference.py\u001b[0m in \u001b[0;36mshow_result_pyplot\u001b[0;34m(model, img, result, score_thr, title, wait_time)\u001b[0m\n\u001b[1;32m    238\u001b[0m         \u001b[0mwin_name\u001b[0m\u001b[0;34m=\u001b[0m\u001b[0mtitle\u001b[0m\u001b[0;34m,\u001b[0m\u001b[0;34m\u001b[0m\u001b[0;34m\u001b[0m\u001b[0m\n\u001b[1;32m    239\u001b[0m         \u001b[0mbbox_color\u001b[0m\u001b[0;34m=\u001b[0m\u001b[0;34m(\u001b[0m\u001b[0;36m72\u001b[0m\u001b[0;34m,\u001b[0m \u001b[0;36m101\u001b[0m\u001b[0;34m,\u001b[0m \u001b[0;36m241\u001b[0m\u001b[0;34m)\u001b[0m\u001b[0;34m,\u001b[0m\u001b[0;34m\u001b[0m\u001b[0;34m\u001b[0m\u001b[0m\n\u001b[0;32m--> 240\u001b[0;31m         text_color=(72, 101, 241))\n\u001b[0m",
            "\u001b[0;32m/content/mmdetection/mmdet/models/detectors/base.py\u001b[0m in \u001b[0;36mshow_result\u001b[0;34m(self, img, result, score_thr, bbox_color, text_color, mask_color, thickness, font_size, win_name, show, wait_time, out_file)\u001b[0m\n\u001b[1;32m    341\u001b[0m             \u001b[0mlabels\u001b[0m\u001b[0;34m,\u001b[0m\u001b[0;34m\u001b[0m\u001b[0;34m\u001b[0m\u001b[0m\n\u001b[1;32m    342\u001b[0m             \u001b[0msegms\u001b[0m\u001b[0;34m,\u001b[0m\u001b[0;34m\u001b[0m\u001b[0;34m\u001b[0m\u001b[0m\n\u001b[0;32m--> 343\u001b[0;31m             \u001b[0mclass_names\u001b[0m\u001b[0;34m=\u001b[0m\u001b[0mself\u001b[0m\u001b[0;34m.\u001b[0m\u001b[0mCLASSES\u001b[0m\u001b[0;34m,\u001b[0m\u001b[0;34m\u001b[0m\u001b[0;34m\u001b[0m\u001b[0m\n\u001b[0m\u001b[1;32m    344\u001b[0m             \u001b[0mscore_thr\u001b[0m\u001b[0;34m=\u001b[0m\u001b[0mscore_thr\u001b[0m\u001b[0;34m,\u001b[0m\u001b[0;34m\u001b[0m\u001b[0;34m\u001b[0m\u001b[0m\n\u001b[1;32m    345\u001b[0m             \u001b[0mbbox_color\u001b[0m\u001b[0;34m=\u001b[0m\u001b[0mbbox_color\u001b[0m\u001b[0;34m,\u001b[0m\u001b[0;34m\u001b[0m\u001b[0;34m\u001b[0m\u001b[0m\n",
            "\u001b[0;32m/usr/local/lib/python3.7/dist-packages/torch/nn/modules/module.py\u001b[0m in \u001b[0;36m__getattr__\u001b[0;34m(self, name)\u001b[0m\n\u001b[1;32m    592\u001b[0m                 \u001b[0;32mreturn\u001b[0m \u001b[0mmodules\u001b[0m\u001b[0;34m[\u001b[0m\u001b[0mname\u001b[0m\u001b[0;34m]\u001b[0m\u001b[0;34m\u001b[0m\u001b[0;34m\u001b[0m\u001b[0m\n\u001b[1;32m    593\u001b[0m         raise AttributeError(\"'{}' object has no attribute '{}'\".format(\n\u001b[0;32m--> 594\u001b[0;31m             type(self).__name__, name))\n\u001b[0m\u001b[1;32m    595\u001b[0m \u001b[0;34m\u001b[0m\u001b[0m\n\u001b[1;32m    596\u001b[0m     \u001b[0;32mdef\u001b[0m \u001b[0m__setattr__\u001b[0m\u001b[0;34m(\u001b[0m\u001b[0mself\u001b[0m\u001b[0;34m,\u001b[0m \u001b[0mname\u001b[0m\u001b[0;34m,\u001b[0m \u001b[0mvalue\u001b[0m\u001b[0;34m)\u001b[0m\u001b[0;34m:\u001b[0m\u001b[0;34m\u001b[0m\u001b[0;34m\u001b[0m\u001b[0m\n",
            "\u001b[0;31mAttributeError\u001b[0m: 'FasterRCNN' object has no attribute 'CLASSES'"
          ]
        }
      ]
    },
    {
      "cell_type": "code",
      "source": [
        "# test a single image\n",
        "img = 'demo.jpg'\n",
        "result = inference_detector(model, img)"
      ],
      "metadata": {
        "id": "i0wFRUCJPYiE"
      },
      "execution_count": null,
      "outputs": []
    }
  ],
  "metadata": {
    "accelerator": "GPU",
    "colab": {
      "name": "Road_Sign_FasterRCNN.ipynb",
      "provenance": [],
      "machine_shape": "hm",
      "authorship_tag": "ABX9TyPWRoTufqWEyPWdQh7r6AmP",
      "include_colab_link": true
    },
    "kernelspec": {
      "display_name": "Python 3",
      "name": "python3"
    },
    "language_info": {
      "name": "python"
    }
  },
  "nbformat": 4,
  "nbformat_minor": 0
}